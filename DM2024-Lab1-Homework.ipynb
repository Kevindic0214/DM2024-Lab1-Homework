{
 "cells": [
  {
   "cell_type": "markdown",
   "metadata": {},
   "source": [
    "### Student Information\n",
    "Name: Hung-Ting Hsieh (謝弘廷)\n",
    "\n",
    "Student ID: 110704054\n",
    "\n",
    "GitHub ID: Kevindic0214"
   ]
  },
  {
   "cell_type": "markdown",
   "metadata": {},
   "source": [
    "---"
   ]
  },
  {
   "cell_type": "markdown",
   "metadata": {},
   "source": [
    "### Instructions"
   ]
  },
  {
   "cell_type": "markdown",
   "metadata": {},
   "source": [
    "1. First: do the **take home** exercises in the [DM2024-Lab1-Master](https://github.com/didiersalazar/DM2024-Lab1-Master.git). You may need to copy some cells from the Lab notebook to this notebook. __This part is worth 20% of your grade.__\n",
    "\n",
    "\n",
    "2. Second: follow the same process from the [DM2024-Lab1-Master](https://github.com/didiersalazar/DM2024-Lab1-Master.git) on **the new dataset**. You don't need to explain all details as we did (some **minimal comments** explaining your code are useful though).  __This part is worth 30% of your grade.__\n",
    "    - Download the [the new dataset](https://huggingface.co/datasets/Senem/Nostalgic_Sentiment_Analysis_of_YouTube_Comments_Data). The dataset contains a `sentiment` and `comment` columns, with the sentiment labels being: 'nostalgia' and 'not nostalgia'. Read the specificiations of the dataset for background details. \n",
    "    - You are allowed to use and modify the `helper` functions in the folder of the first lab session (notice they may need modification) or create your own.\n",
    "\n",
    "\n",
    "3. Third: please attempt the following tasks on **the new dataset**. __This part is worth 30% of your grade.__\n",
    "    - Generate meaningful **new data visualizations**. Refer to online resources and the Data Mining textbook for inspiration and ideas. \n",
    "    - Generate **TF-IDF features** from the tokens of each text. This will generating a document matrix, however, the weights will be computed differently (using the TF-IDF value of each word per document as opposed to the word frequency). Refer to this Scikit-learn [guide](http://scikit-learn.org/stable/modules/generated/sklearn.feature_extraction.text.TfidfVectorizer.html) .\n",
    "    - Implement a simple **Naive Bayes classifier** that automatically classifies the records into their categories. Use both the TF-IDF features and word frequency features to build two seperate classifiers. Note that for the TF-IDF features you might need to use other type of NB classifier different than the one in the Master Notebook. Comment on the differences.  Refer to this [article](https://hub.packtpub.com/implementing-3-naive-bayes-classifiers-in-scikit-learn/).\n",
    "\n",
    "\n",
    "4. Fourth: In the lab, we applied each step really quickly just to illustrate how to work with your dataset. There are somethings that are not ideal or the most efficient/meaningful. Each dataset can be handled differently as well. What are those inefficent parts you noticed? How can you improve the Data preprocessing for these specific datasets? __This part is worth 10% of your grade.__\n",
    "\n",
    "\n",
    "5. Fifth: It's hard for us to follow if your code is messy, so please **tidy up your notebook** and **add minimal comments where needed**. __This part is worth 10% of your grade.__\n",
    "\n",
    "\n",
    "You can submit your homework following these guidelines: [Git Intro & How to hand your homework](https://github.com/didiersalazar/DM2024-Lab1-Master/blob/main/Git%20Intro%20%26%20How%20to%20hand%20your%20homework.ipynb). Make sure to commit and save your changes to your repository __BEFORE the deadline (October 27th 11:59 pm, Sunday)__. "
   ]
  },
  {
   "cell_type": "code",
   "execution_count": 1,
   "metadata": {},
   "outputs": [],
   "source": [
    "### Begin Assignment Here"
   ]
  },
  {
   "cell_type": "markdown",
   "metadata": {},
   "source": [
    "### First Section: Exercise from the Lab-1-Master"
   ]
  },
  {
   "cell_type": "code",
   "execution_count": null,
   "metadata": {},
   "outputs": [],
   "source": [
    "# Exercise 2 (Take Home)\n",
    "\n",
    "# Answer here\n",
    "# 過濾出屬於 'sci.med' 類別的記錄\n",
    "sci_med_data = X.loc[X['category_name'] == 'sci.med']\n",
    "\n",
    "print(sci_med_data)"
   ]
  },
  {
   "cell_type": "code",
   "execution_count": null,
   "metadata": {},
   "outputs": [],
   "source": [
    "# Exercise 5 (Take Home)\n",
    "\n",
    "# Answer here\n",
    "# .isnull() only recognizes np.nan, None, or specific missing data types but does not catch strings like 'NaN', 'None', or an empty string. \n",
    "# This is why it only flagged some entries as True."
   ]
  },
  {
   "cell_type": "markdown",
   "metadata": {},
   "source": [
    "Exercise 6 (Take Home)\n",
    "\n",
    "Answer here <br>\n",
    "The Changes are the index is not in order anymore, and the data is a random sample of 1000 records from the original dataset, \n",
    "which means that the length of the dataset is less than origianl one."
   ]
  },
  {
   "cell_type": "code",
   "execution_count": null,
   "metadata": {},
   "outputs": [],
   "source": [
    "# Exercise 8 (Take Home)\n",
    "\n",
    "# Answer here\n",
    "# 計算每個數據集中 'category_name' 的分佈\n",
    "category_counts_X = X['category_name'].value_counts()\n",
    "category_counts_X_sample = X_sample['category_name'].value_counts()\n",
    "\n",
    "# 將兩個數據集的 category_name 分佈對齊\n",
    "categories = category_counts_X.index.union(category_counts_X_sample.index)\n",
    "category_counts_X = category_counts_X.reindex(categories, fill_value=0)\n",
    "category_counts_X_sample = category_counts_X_sample.reindex(categories, fill_value=0)\n",
    "\n",
    "import matplotlib.pyplot as plt\n",
    "import numpy as np\n",
    "\n",
    "# 設置條形的位置\n",
    "bar_width = 0.15  # 每個條形的寬度\n",
    "index = np.arange(len(categories))  # X 軸的類別位置\n",
    "\n",
    "# 創建條形圖\n",
    "plt.bar(index, category_counts_X, bar_width, label='X')  # 原數據集的條形\n",
    "plt.bar(index + bar_width, category_counts_X_sample, bar_width, label='X_sample')  # 抽樣數據集的條形\n",
    "\n",
    "# 添加標題和標籤\n",
    "plt.title('Category distribution')\n",
    "plt.xlabel('Category')\n",
    "plt.ylabel('Count')\n",
    "plt.xticks(index + bar_width / 2, categories)  # 設置 X 軸刻度和旋轉角度\n",
    "plt.legend()\n",
    "\n",
    "# 顯示圖表\n",
    "plt.tight_layout()\n",
    "plt.show()"
   ]
  },
  {
   "cell_type": "code",
   "execution_count": null,
   "metadata": {},
   "outputs": [],
   "source": [
    "# Exercise 10 (Take Home)\n",
    "\n",
    "# Answer here\n",
    "from sklearn.feature_extraction.text import CountVectorizer\n",
    "\n",
    "# Assume count_vect and X_counts have already been initialized\n",
    "# Step 1: Retrieve the term frequency vector of the fifth record\n",
    "fifth_record = X_counts[4]\n",
    "\n",
    "# Step 2: Find the positions of all non-zero elements (which represent the words that appear in this record)\n",
    "non_zero_indices = fifth_record.nonzero()[1]\n",
    "\n",
    "# Step 3: Retrieve the position of the second word that appears (the second '1' in the matrix)\n",
    "second_index = non_zero_indices[1]\n",
    "\n",
    "# Step 4: Retrieve the vocabulary and find the word corresponding to the second index\n",
    "feature_names = count_vect.get_feature_names_out()\n",
    "second_word = feature_names[second_index]\n",
    "\n",
    "# Display the result\n",
    "print(\"The second word in the fifth record is:\", second_word)"
   ]
  },
  {
   "cell_type": "code",
   "execution_count": null,
   "metadata": {},
   "outputs": [],
   "source": [
    "# Exercise 11 (Take Home)\n",
    "\n",
    "# Answer here\n",
    "# 取樣100篇文章和100個詞\n",
    "plot_z = X_counts[0:100, 0:100].toarray()\n",
    "\n",
    "# 繪製更大的熱圖\n",
    "import seaborn as sns\n",
    "import matplotlib.pyplot as plt\n",
    "import pandas as pd\n",
    "\n",
    "# 建立 DataFrame\n",
    "plot_x = [\"term_\"+str(i) for i in count_vect.get_feature_names_out()[0:100]]\n",
    "plot_y = [\"doc_\"+ str(i) for i in list(X.index)[0:100]]\n",
    "df_todraw = pd.DataFrame(plot_z, columns=plot_x, index=plot_y)\n",
    "\n",
    "# 繪圖\n",
    "plt.subplots(figsize=(12, 10))\n",
    "ax = sns.heatmap(df_todraw,\n",
    "                 cmap=\"PuRd\",\n",
    "                 vmin=0, vmax=1, annot=False)  # 不顯示數字以減少擁擠\n",
    "plt.show()"
   ]
  },
  {
   "cell_type": "code",
   "execution_count": null,
   "metadata": {},
   "outputs": [],
   "source": [
    "# Cont.\n",
    "\n",
    "# 計算每個詞的總出現次數\n",
    "term_frequencies = X_counts.sum(axis=0).A1  # A1 是將矩陣轉為一維數組\n",
    "top_term_indices = term_frequencies.argsort()[-100:]  # 選擇出現頻率最高的100個詞\n",
    "\n",
    "# 繪製這些詞與100篇文章的熱圖\n",
    "plot_z = X_counts[0:100, top_term_indices].toarray()\n",
    "\n",
    "# 更新 X 軸詞彙標籤\n",
    "plot_x = [\"term_\"+str(i) for i in top_term_indices]\n",
    "\n",
    "# 繪圖\n",
    "df_todraw = pd.DataFrame(plot_z, columns=plot_x, index=plot_y)\n",
    "plt.subplots(figsize=(12, 10))\n",
    "ax = sns.heatmap(df_todraw,\n",
    "                 cmap=\"PuRd\",\n",
    "                 vmin=0, vmax=1, annot=False)\n",
    "plt.show()"
   ]
  },
  {
   "cell_type": "code",
   "execution_count": null,
   "metadata": {},
   "outputs": [],
   "source": [
    "# Exercise 12 (Take Home)\n",
    "\n",
    "# Answer here\n",
    "import plotly.express as px\n",
    "import pandas as pd\n",
    "\n",
    "# 將詞頻數據轉換為 DataFrame 以便繪圖\n",
    "df = pd.DataFrame({\n",
    "    \"Terms\": count_vect.get_feature_names_out()[:300],  # 前 300 個詞彙\n",
    "    \"Frequencies\": term_frequencies[:300]              # 對應的詞頻\n",
    "})\n",
    "\n",
    "# 使用 Plotly 繪製柱狀圖\n",
    "fig = px.bar(df, x='Terms', y='Frequencies', title=\"Term Frequencies\", labels={'Terms': 'Terms', 'Frequencies': 'Frequencies'})\n",
    "\n",
    "# 更新 X 軸標籤旋轉角度，以避免擁擠\n",
    "fig.update_layout(xaxis_tickangle=-90)\n",
    "\n",
    "# 顯示圖表\n",
    "fig.show()"
   ]
  },
  {
   "cell_type": "code",
   "execution_count": null,
   "metadata": {},
   "outputs": [],
   "source": [
    "# Exercise 13 (Take Home)\n",
    "\n",
    "# Answer here\n",
    "import numpy as np\n",
    "import plotly.express as px\n",
    "import pandas as pd\n",
    "\n",
    "# Step 1: 計算每個詞的總頻率\n",
    "term_frequencies = np.asarray(X_counts.sum(axis=0)).flatten()\n",
    "\n",
    "# Step 2: 選擇前 50 個頻率最高的詞\n",
    "top_n = 50\n",
    "top_term_indices = term_frequencies.argsort()[-top_n:]  # 找到頻率最高的詞的索引\n",
    "\n",
    "# Step 3: 創建 DataFrame，將這些詞的詞彙與其對應的頻率對應起來\n",
    "df = pd.DataFrame({\n",
    "    \"Terms\": count_vect.get_feature_names_out()[top_term_indices],  # 高頻詞\n",
    "    \"Frequencies\": term_frequencies[top_term_indices]  # 對應的頻率\n",
    "})\n",
    "\n",
    "# Step 4: 使用 Plotly 繪製交互式圖表\n",
    "fig = px.bar(df, x='Terms', y='Frequencies', title=\"Top 50 Term Frequencies\", labels={'Terms': 'Terms', 'Frequencies': 'Frequencies'})\n",
    "\n",
    "# Step 5: 旋轉 X 軸的標籤，避免擁擠\n",
    "fig.update_layout(xaxis_tickangle=-90)\n",
    "\n",
    "# Step 6: 顯示圖表\n",
    "fig.show()"
   ]
  },
  {
   "cell_type": "code",
   "execution_count": null,
   "metadata": {},
   "outputs": [],
   "source": [
    "# Exercise 14 (Take Home)\n",
    "\n",
    "# Answer here\n",
    "import numpy as np\n",
    "import plotly.express as px\n",
    "import pandas as pd\n",
    "\n",
    "# Step 1: 計算每個詞的總頻率\n",
    "term_frequencies = np.asarray(X_counts.sum(axis=0)).flatten()\n",
    "\n",
    "# Step 2: 將詞彙和它們的頻率排序（降序）\n",
    "sorted_indices = np.argsort(term_frequencies)[::-1]  # 逆序排列詞頻，從高到低\n",
    "sorted_frequencies = term_frequencies[sorted_indices]  # 按照排序後的索引獲取詞頻\n",
    "sorted_terms = count_vect.get_feature_names_out()[sorted_indices]  # 按照排序後的索引獲取詞彙\n",
    "\n",
    "# Step 3: 選擇前 100 個詞進行可視化（根據詞頻排序）\n",
    "top_n = 100\n",
    "df = pd.DataFrame({\n",
    "    \"Terms\": sorted_terms[:top_n],  # 頻率最高的前 100 個詞\n",
    "    \"Frequencies\": sorted_frequencies[:top_n]  # 對應的詞頻\n",
    "})\n",
    "\n",
    "# Step 4: 使用 Plotly 繪製詞頻分佈圖\n",
    "fig = px.bar(df, x='Terms', y='Frequencies', title=\"Top 100 Term Frequencies (Sorted by Frequency)\", labels={'Terms': 'Terms', 'Frequencies': 'Frequencies'})\n",
    "\n",
    "# Step 5: 更新 X 軸標籤角度以避免擁擠\n",
    "fig.update_layout(xaxis_tickangle=-90)\n",
    "\n",
    "# Step 6: 顯示圖表\n",
    "fig.show()"
   ]
  },
  {
   "cell_type": "code",
   "execution_count": null,
   "metadata": {},
   "outputs": [],
   "source": [
    "# Exerxise 15 (Take Home)\n",
    "\n",
    "# Answer here\n",
    "import numpy as np\n",
    "import plotly.express as px\n",
    "import pandas as pd\n",
    "\n",
    "# Step 1: 計算每個詞的總頻率\n",
    "term_frequencies = np.asarray(X_counts.sum(axis=0)).flatten()\n",
    "\n",
    "# Step 2: 將詞頻取對數，防止 log(0) 的問題，用 log(1 + term_frequency)\n",
    "term_frequencies_log = np.log1p(term_frequencies)  # log(1+x) 是為了避免 log(0)\n",
    "\n",
    "# Step 3: 按照詞頻排序\n",
    "sorted_indices = np.argsort(term_frequencies_log)[::-1]  # 逆序排列詞頻\n",
    "sorted_frequencies_log = term_frequencies_log[sorted_indices]\n",
    "sorted_terms = count_vect.get_feature_names_out()[sorted_indices]\n",
    "\n",
    "# Step 4: 選擇前 100 個詞進行可視化（根據對數詞頻排序）\n",
    "top_n = 100\n",
    "df_log = pd.DataFrame({\n",
    "    \"Terms\": sorted_terms[:top_n],  # 前 100 個詞\n",
    "    \"Log Frequencies\": sorted_frequencies_log[:top_n]  # 對應的對數詞頻\n",
    "})\n",
    "\n",
    "# Step 5: 使用 Plotly 繪製對數詞頻分佈圖\n",
    "fig_log = px.bar(df_log, x='Terms', y='Log Frequencies', title=\"Top 100 Term Log Frequencies (Sorted by Log Frequency)\", labels={'Terms': 'Terms', 'Log Frequencies': 'Log Frequencies'})\n",
    "\n",
    "# Step 6: 更新 X 軸標籤角度以避免擁擠\n",
    "fig_log.update_layout(xaxis_tickangle=-90)\n",
    "\n",
    "# Step 7: 顯示圖表\n",
    "fig_log.show()\n",
    "\n",
    "\n",
    "# Logarithmic distribution of term frequencies vs. original term frequencies\n",
    "# Original woed frequencies distrubution shows the actual woed frequencies in the text data. \n",
    "# Words that appear more frequently occupy the left side of the graph, while words with low frequencies are almost unnoticeable in the picture.\n",
    "# Logarithmic distribution of term frequencies shows the logarithmic transformation of the original term frequencies. \n",
    "# The logarithmic transformation makes the distribution more evenly distributed, making it easier to observe the differences in term frequencies."
   ]
  },
  {
   "cell_type": "code",
   "execution_count": null,
   "metadata": {},
   "outputs": [],
   "source": [
    "# Exercise 16 (Take Home)\n",
    "\n",
    "# Answer here\n",
    "def filter_top_bottom_words(term_document_df, top_percent=0.05, bottom_percent=0.01):\n",
    "    word_counts = term_document_df.sum(axis=0).to_numpy()  # 計算每個詞的總頻次\n",
    "    sorted_indices = np.argsort(word_counts)  # 獲取升序排列的索引\n",
    "    sorted_counts = word_counts[sorted_indices]  # 根據頻次排序\n",
    "    \n",
    "    total_terms = len(sorted_counts)  # 詞彙的總數\n",
    "    \n",
    "    # 計算最高 5% 和最低 1% 詞彙的索引\n",
    "    top_5_percent_index = int(top_percent * total_terms)\n",
    "    bottom_1_percent_index = int(bottom_percent * total_terms)\n",
    "    \n",
    "    # 獲取最高 5% 和最低 1% 的索引\n",
    "    top_5_percent_indices = sorted_indices[-top_5_percent_index:]  # 最後的 top 5% 詞\n",
    "    bottom_1_percent_indices = sorted_indices[:bottom_1_percent_index]  # 最前的 bottom 1% 詞\n",
    "    \n",
    "    # 過濾掉這些詞的索引\n",
    "    filtered_indices = np.concatenate([top_5_percent_indices, bottom_1_percent_indices])\n",
    "    \n",
    "    # 使用 CountVectorizer 來獲取這些詞\n",
    "    filtered_words = [count_vect.get_feature_names_out()[i] for i in filtered_indices]\n",
    "    \n",
    "    # 將詞彙按照字母順序排序\n",
    "    filtered_words_sorted = sorted(filtered_words)\n",
    "    \n",
    "    return filtered_words_sorted  # 返回按字母順序排列的被過濾詞彙\n",
    "\n",
    "for category in categories:\n",
    "    print(f\"\\nCategory: {category}\")\n",
    "    \n",
    "    # 獲取篩選掉的詞（最高 5% 和最低 1%）\n",
    "    filtered_words = filter_top_bottom_words(term_document_dfs[category])\n",
    "    \n",
    "    # 顯示被過濾掉的詞彙總數和具體詞彙（已排序）\n",
    "    print(f\"Number of filtered words: {len(filtered_words)}\")\n",
    "    print(f\"Filtered words (alphabetically sorted): {filtered_words}\")"
   ]
  },
  {
   "cell_type": "markdown",
   "metadata": {},
   "source": [
    "**Answer for Exercise 16** <br>\n",
    "觀察資料可以發現，被過濾掉的數據幾乎都是數字以及帶有底線的文字，以及一些常用的文字和類似亂碼的文字。"
   ]
  },
  {
   "cell_type": "code",
   "execution_count": null,
   "metadata": {},
   "outputs": [],
   "source": [
    "# Exercise 17 (Take Home)\n",
    "\n",
    "from PAMI.frequentPattern.topk import FAE as alg\n",
    "import pandas as pd\n",
    "\n",
    "# 設定輸入參數\n",
    "inputFile = 'td_freq_db_comp_graphics.csv'  # 交易數據庫的文件路徑\n",
    "separator = ','  # 設定分隔符號（根據檔案格式）\n",
    "klist = [500, 1000, 1500]  # 不同的 k 值\n",
    "\n",
    "# 初始化一個數據框來存儲FAE的結果\n",
    "result = pd.DataFrame(columns=['algorithm', 'k', 'patterns', 'runtime', 'memory'])\n",
    "\n",
    "# 迴圈不同的 k 值執行算法\n",
    "for kCount in klist:\n",
    "    obj = alg.FAE(inputFile, k=kCount, sep=separator)\n",
    "    obj.mine()  # 控掘頻繁模式\n",
    "    # 將結果存儲到數據框中\n",
    "    result.loc[result.shape[0]] = ['FAE', kCount, len(obj.getPatterns()), obj.getRuntime(), obj.getMemoryRSS()]\n",
    "\n",
    "# 打印結果\n",
    "print(\"TopK frequent patterns were successfully generated using FAE algorithm.\")\n",
    "print(result)"
   ]
  },
  {
   "cell_type": "code",
   "execution_count": null,
   "metadata": {},
   "outputs": [],
   "source": [
    "# Exercise 18 (Take Home)\n",
    "\n",
    "# Answer here\n",
    "from mpl_toolkits.mplot3d import Axes3D\n",
    "import matplotlib.pyplot as plt\n",
    "from sklearn.decomposition import PCA\n",
    "from sklearn.manifold import TSNE\n",
    "import umap\n",
    "\n",
    "# Apply PCA, t-SNE, and UMAP with n_components=3\n",
    "X_pca_tdm = PCA(n_components=3).fit_transform(tdm_df.values)\n",
    "X_tsne_tdm = TSNE(n_components=3).fit_transform(tdm_df.values)\n",
    "X_umap_tdm = umap.UMAP(n_components=3).fit_transform(tdm_df.values)\n",
    "\n",
    "# Define the category labels for coloring the scatter plots\n",
    "categories = X['category_name'].unique()\n",
    "\n",
    "# Create a function for 3D plotting\n",
    "def plot_3d_scatter(ax, X_reduced, title, elev, azim):\n",
    "    for c, category in enumerate(categories):\n",
    "        xs = X_reduced[X['category_name'] == category, 0]\n",
    "        ys = X_reduced[X['category_name'] == category, 1]\n",
    "        zs = X_reduced[X['category_name'] == category, 2]\n",
    "        ax.scatter(xs, ys, zs, label=category)\n",
    "\n",
    "    ax.view_init(elev=elev, azim=azim)  # Set camera position\n",
    "    ax.set_title(title)\n",
    "    ax.set_xlabel('X')\n",
    "    ax.set_ylabel('Y')\n",
    "    ax.set_zlabel('Z')\n",
    "    ax.legend()\n",
    "\n",
    "# Plot results with different angles\n",
    "fig = plt.figure(figsize=(18, 6))\n",
    "\n",
    "# PCA\n",
    "ax = fig.add_subplot(131, projection='3d')\n",
    "plot_3d_scatter(ax, X_pca_tdm, 'PCA', elev=20, azim=60)\n",
    "\n",
    "# t-SNE\n",
    "ax = fig.add_subplot(132, projection='3d')\n",
    "plot_3d_scatter(ax, X_tsne_tdm, 't-SNE', elev=30, azim=120)\n",
    "\n",
    "# UMAP\n",
    "ax = fig.add_subplot(133, projection='3d')\n",
    "plot_3d_scatter(ax, X_umap_tdm, 'UMAP', elev=45, azim=180)\n",
    "\n",
    "plt.suptitle('3D Comparison of PCA, t-SNE, and UMAP')\n",
    "plt.show()"
   ]
  },
  {
   "cell_type": "code",
   "execution_count": null,
   "metadata": {},
   "outputs": [],
   "source": [
    "# Exercise 19 (Take Home)\n",
    "\n",
    "# Answer here\n",
    "from sklearn import preprocessing\n",
    "\n",
    "# 初始化 LabelBinarizer\n",
    "mlb = preprocessing.LabelBinarizer()\n",
    "\n",
    "# 對 category_name 欄位進行訓練\n",
    "mlb.fit(X['category_name'])\n",
    "\n",
    "# 將 category_name 欄位進行二進位化，並儲存在 bin_category_name 欄位\n",
    "X['bin_category_name'] = mlb.transform(X['category_name']).tolist()\n",
    "\n",
    "# 檢查結果\n",
    "X[0:9]"
   ]
  },
  {
   "cell_type": "markdown",
   "metadata": {},
   "source": [
    "### Second Section: Emplement the new dataset"
   ]
  },
  {
   "cell_type": "markdown",
   "metadata": {},
   "source": [
    "## 1. Data Preparation"
   ]
  },
  {
   "cell_type": "code",
   "execution_count": 1,
   "metadata": {},
   "outputs": [],
   "source": [
    "from datasets import load_dataset\n",
    "\n",
    "# Load the YouTube sentiment analysis dataset\n",
    "ds = load_dataset(\"Senem/Nostalgic_Sentiment_Analysis_of_YouTube_Comments_Data\")"
   ]
  },
  {
   "cell_type": "code",
   "execution_count": 2,
   "metadata": {},
   "outputs": [
    {
     "data": {
      "text/plain": [
       "{'sentiment': Value(dtype='string', id=None),\n",
       " 'comment': Value(dtype='string', id=None)}"
      ]
     },
     "execution_count": 2,
     "metadata": {},
     "output_type": "execute_result"
    }
   ],
   "source": [
    "ds['train'].features"
   ]
  },
  {
   "cell_type": "code",
   "execution_count": 3,
   "metadata": {},
   "outputs": [
    {
     "name": "stdout",
     "output_type": "stream",
     "text": [
      "{'sentiment': 'not nostalgia', 'comment': 'He was a singer with a golden voice that I love to hear all the time. I was his great fan at the age of 16years in those days and still now. Although we have many singers now, but, I can vouch for Jim Reeves all the time. You feel relaxed, emotional and loving. Thank you Lord for his life.'}\n"
     ]
    }
   ],
   "source": [
    "# Display the first record in the training set to ensure data is loaded correctly\n",
    "print(ds['train'][0])"
   ]
  },
  {
   "cell_type": "code",
   "execution_count": 4,
   "metadata": {},
   "outputs": [
    {
     "name": "stdout",
     "output_type": "stream",
     "text": [
      "{'not nostalgia', 'nostalgia'}\n"
     ]
    }
   ],
   "source": [
    "# Check the unique sentiment labels 'nostalgia' and 'not nostalgia'\n",
    "print(set(ds['train']['sentiment']))"
   ]
  },
  {
   "cell_type": "code",
   "execution_count": 5,
   "metadata": {},
   "outputs": [
    {
     "name": "stdout",
     "output_type": "stream",
     "text": [
      "Total number of rows in the training set: 1500\n"
     ]
    }
   ],
   "source": [
    "# Check the total number of rows in the training set\n",
    "print(f\"Total number of rows in the training set: {len(ds['train'])}\")"
   ]
  },
  {
   "cell_type": "code",
   "execution_count": 6,
   "metadata": {},
   "outputs": [
    {
     "name": "stdout",
     "output_type": "stream",
     "text": [
      "Columns in the dataset: ['sentiment', 'comment']\n"
     ]
    }
   ],
   "source": [
    "# Check the column names in the dataset\n",
    "print(f\"Columns in the dataset: {ds['train'].column_names}\")"
   ]
  },
  {
   "cell_type": "code",
   "execution_count": 7,
   "metadata": {},
   "outputs": [
    {
     "name": "stdout",
     "output_type": "stream",
     "text": [
      "He was a singer with a golden voice that I love to hear all the time. I was his great fan at the age of 16years in those days and still now. Although we have many singers now, but, I can vouch for Jim Reeves all the time. You feel relaxed, emotional and loving. Thank you Lord for his life.\n",
      "not nostalgia\n"
     ]
    }
   ],
   "source": [
    "# Display the first comment and its corresponding sentiment label\n",
    "print(ds['train']['comment'][0])  # Display the first comment\n",
    "print(ds['train']['sentiment'][0])  # Display the corresponding sentiment label"
   ]
  },
  {
   "cell_type": "code",
   "execution_count": 8,
   "metadata": {},
   "outputs": [
    {
     "name": "stdout",
     "output_type": "stream",
     "text": [
      "sentiment\n",
      "not nostalgia    750\n",
      "nostalgia        750\n",
      "Name: count, dtype: int64\n"
     ]
    }
   ],
   "source": [
    "# Get the distribution of sentiment labels\n",
    "sentiment_distribution = ds['train'].to_pandas()['sentiment'].value_counts()\n",
    "print(sentiment_distribution)"
   ]
  },
  {
   "cell_type": "markdown",
   "metadata": {},
   "source": [
    "## 3. Data Transformation"
   ]
  },
  {
   "cell_type": "markdown",
   "metadata": {},
   "source": [
    "### 3.1 Converting Dictionary into Pandas Dataframe"
   ]
  },
  {
   "cell_type": "code",
   "execution_count": 9,
   "metadata": {},
   "outputs": [
    {
     "name": "stdout",
     "output_type": "stream",
     "text": [
      "                                             comment      sentiment\n",
      "0  He was a singer with a golden voice that I lov...  not nostalgia\n",
      "1  The mist beautiful voice ever I listened to hi...      nostalgia\n",
      "2  I have most of Mr. Reeves songs.  Always love ...      nostalgia\n",
      "3  30 day leave from 1st tour in Viet Nam to conv...  not nostalgia\n",
      "4  listening to his songs reminds me of my mum wh...      nostalgia\n"
     ]
    }
   ],
   "source": [
    "import pandas as pd\n",
    "\n",
    "# Convert the dataset from dictionary format to pandas DataFrame\n",
    "df_youtube = pd.DataFrame({\n",
    "    'comment': ds['train']['comment'],  # Extract the comments\n",
    "    'sentiment': ds['train']['sentiment']  # Extract the sentiment labels\n",
    "})\n",
    "\n",
    "# Display the first few rows of the DataFrame to ensure the conversion is successful\n",
    "print(df_youtube.head())"
   ]
  },
  {
   "cell_type": "code",
   "execution_count": 10,
   "metadata": {},
   "outputs": [
    {
     "name": "stdout",
     "output_type": "stream",
     "text": [
      "<class 'pandas.core.frame.DataFrame'>\n",
      "RangeIndex: 1500 entries, 0 to 1499\n",
      "Data columns (total 2 columns):\n",
      " #   Column     Non-Null Count  Dtype \n",
      "---  ------     --------------  ----- \n",
      " 0   comment    1500 non-null   object\n",
      " 1   sentiment  1500 non-null   object\n",
      "dtypes: object(2)\n",
      "memory usage: 23.6+ KB\n",
      "None\n",
      "sentiment\n",
      "not nostalgia    750\n",
      "nostalgia        750\n",
      "Name: count, dtype: int64\n"
     ]
    }
   ],
   "source": [
    "# Display the structure of the DataFrame\n",
    "print(df_youtube.info())\n",
    "\n",
    "# Check the distribution of sentiment labels again to ensure data is correct\n",
    "print(df_youtube['sentiment'].value_counts())"
   ]
  },
  {
   "cell_type": "code",
   "execution_count": 11,
   "metadata": {},
   "outputs": [
    {
     "name": "stdout",
     "output_type": "stream",
     "text": [
      "                                             comment      sentiment  \\\n",
      "0  He was a singer with a golden voice that I lov...  not nostalgia   \n",
      "1  The mist beautiful voice ever I listened to hi...      nostalgia   \n",
      "2  I have most of Mr. Reeves songs.  Always love ...      nostalgia   \n",
      "3  30 day leave from 1st tour in Viet Nam to conv...  not nostalgia   \n",
      "4  listening to his songs reminds me of my mum wh...      nostalgia   \n",
      "5  Every time I heard this song as a child, I use...      nostalgia   \n",
      "6  My dad loved listening to Jim Reeves, when I w...      nostalgia   \n",
      "7  i HAVE ALSO LISTENED TO Jim Reeves since child...      nostalgia   \n",
      "8           Wherever you  are you always in my heart  not nostalgia   \n",
      "9  Elvis will always be number one no one can com...  not nostalgia   \n",
      "\n",
      "   sentiment_numeric  \n",
      "0                  0  \n",
      "1                  1  \n",
      "2                  1  \n",
      "3                  0  \n",
      "4                  1  \n",
      "5                  1  \n",
      "6                  1  \n",
      "7                  1  \n",
      "8                  0  \n",
      "9                  0  \n"
     ]
    }
   ],
   "source": [
    "# Add sentiment column to the DataFrame (this will be the numerical label)\n",
    "df_youtube['sentiment_numeric'] = df_youtube['sentiment'].apply(lambda x: 1 if x == 'nostalgia' else 0)\n",
    "\n",
    "# Display the first 10 rows to check the result\n",
    "print(df_youtube.head(10))"
   ]
  },
  {
   "cell_type": "code",
   "execution_count": 12,
   "metadata": {},
   "outputs": [
    {
     "name": "stdout",
     "output_type": "stream",
     "text": [
      "                                             comment      sentiment  \\\n",
      "0  He was a singer with a golden voice that I lov...  not nostalgia   \n",
      "1  The mist beautiful voice ever I listened to hi...      nostalgia   \n",
      "2  I have most of Mr. Reeves songs.  Always love ...      nostalgia   \n",
      "3  30 day leave from 1st tour in Viet Nam to conv...  not nostalgia   \n",
      "4  listening to his songs reminds me of my mum wh...      nostalgia   \n",
      "5  Every time I heard this song as a child, I use...      nostalgia   \n",
      "6  My dad loved listening to Jim Reeves, when I w...      nostalgia   \n",
      "7  i HAVE ALSO LISTENED TO Jim Reeves since child...      nostalgia   \n",
      "8           Wherever you  are you always in my heart  not nostalgia   \n",
      "9  Elvis will always be number one no one can com...  not nostalgia   \n",
      "\n",
      "   sentiment_numeric sentiment_label  \n",
      "0                  0   not nostalgia  \n",
      "1                  1       nostalgia  \n",
      "2                  1       nostalgia  \n",
      "3                  0   not nostalgia  \n",
      "4                  1       nostalgia  \n",
      "5                  1       nostalgia  \n",
      "6                  1       nostalgia  \n",
      "7                  1       nostalgia  \n",
      "8                  0   not nostalgia  \n",
      "9                  0   not nostalgia  \n"
     ]
    }
   ],
   "source": [
    "def format_labels(target, docs):\n",
    "    \"\"\" Format the numerical labels to textual labels \"\"\"\n",
    "    return 'nostalgia' if target == 1 else 'not nostalgia'\n",
    "\n",
    "# Apply the format_labels function to add a formatted label column\n",
    "df_youtube['sentiment_label'] = df_youtube['sentiment_numeric'].apply(lambda t: format_labels(t, df_youtube))\n",
    "\n",
    "# Display the first 10 rows to see the final DataFrame\n",
    "print(df_youtube.head(10))"
   ]
  },
  {
   "cell_type": "code",
   "execution_count": 13,
   "metadata": {},
   "outputs": [
    {
     "name": "stdout",
     "output_type": "stream",
     "text": [
      "                                             comment  sentiment_numeric  \\\n",
      "0  He was a singer with a golden voice that I lov...                  0   \n",
      "1  The mist beautiful voice ever I listened to hi...                  1   \n",
      "2  I have most of Mr. Reeves songs.  Always love ...                  1   \n",
      "3  30 day leave from 1st tour in Viet Nam to conv...                  0   \n",
      "4  listening to his songs reminds me of my mum wh...                  1   \n",
      "5  Every time I heard this song as a child, I use...                  1   \n",
      "6  My dad loved listening to Jim Reeves, when I w...                  1   \n",
      "7  i HAVE ALSO LISTENED TO Jim Reeves since child...                  1   \n",
      "8           Wherever you  are you always in my heart                  0   \n",
      "9  Elvis will always be number one no one can com...                  0   \n",
      "\n",
      "  sentiment_label  \n",
      "0   not nostalgia  \n",
      "1       nostalgia  \n",
      "2       nostalgia  \n",
      "3   not nostalgia  \n",
      "4       nostalgia  \n",
      "5       nostalgia  \n",
      "6       nostalgia  \n",
      "7       nostalgia  \n",
      "8   not nostalgia  \n",
      "9   not nostalgia  \n"
     ]
    }
   ],
   "source": [
    "# Drop the original 'sentiment' column\n",
    "df_youtube = df_youtube.drop(columns=['sentiment'])\n",
    "\n",
    "# Display the updated DataFrame to ensure the column is removed\n",
    "print(df_youtube.head(10))"
   ]
  },
  {
   "cell_type": "code",
   "execution_count": 14,
   "metadata": {},
   "outputs": [
    {
     "data": {
      "text/html": [
       "<div>\n",
       "<style scoped>\n",
       "    .dataframe tbody tr th:only-of-type {\n",
       "        vertical-align: middle;\n",
       "    }\n",
       "\n",
       "    .dataframe tbody tr th {\n",
       "        vertical-align: top;\n",
       "    }\n",
       "\n",
       "    .dataframe thead th {\n",
       "        text-align: right;\n",
       "    }\n",
       "</style>\n",
       "<table border=\"1\" class=\"dataframe\">\n",
       "  <thead>\n",
       "    <tr style=\"text-align: right;\">\n",
       "      <th></th>\n",
       "      <th>comment</th>\n",
       "      <th>sentiment_label</th>\n",
       "    </tr>\n",
       "  </thead>\n",
       "  <tbody>\n",
       "    <tr>\n",
       "      <th>0</th>\n",
       "      <td>He was a singer with a golden voice that I lov...</td>\n",
       "      <td>not nostalgia</td>\n",
       "    </tr>\n",
       "    <tr>\n",
       "      <th>1</th>\n",
       "      <td>The mist beautiful voice ever I listened to hi...</td>\n",
       "      <td>nostalgia</td>\n",
       "    </tr>\n",
       "    <tr>\n",
       "      <th>2</th>\n",
       "      <td>I have most of Mr. Reeves songs.  Always love ...</td>\n",
       "      <td>nostalgia</td>\n",
       "    </tr>\n",
       "    <tr>\n",
       "      <th>3</th>\n",
       "      <td>30 day leave from 1st tour in Viet Nam to conv...</td>\n",
       "      <td>not nostalgia</td>\n",
       "    </tr>\n",
       "    <tr>\n",
       "      <th>4</th>\n",
       "      <td>listening to his songs reminds me of my mum wh...</td>\n",
       "      <td>nostalgia</td>\n",
       "    </tr>\n",
       "    <tr>\n",
       "      <th>5</th>\n",
       "      <td>Every time I heard this song as a child, I use...</td>\n",
       "      <td>nostalgia</td>\n",
       "    </tr>\n",
       "    <tr>\n",
       "      <th>6</th>\n",
       "      <td>My dad loved listening to Jim Reeves, when I w...</td>\n",
       "      <td>nostalgia</td>\n",
       "    </tr>\n",
       "    <tr>\n",
       "      <th>7</th>\n",
       "      <td>i HAVE ALSO LISTENED TO Jim Reeves since child...</td>\n",
       "      <td>nostalgia</td>\n",
       "    </tr>\n",
       "    <tr>\n",
       "      <th>8</th>\n",
       "      <td>Wherever you  are you always in my heart</td>\n",
       "      <td>not nostalgia</td>\n",
       "    </tr>\n",
       "    <tr>\n",
       "      <th>9</th>\n",
       "      <td>Elvis will always be number one no one can com...</td>\n",
       "      <td>not nostalgia</td>\n",
       "    </tr>\n",
       "  </tbody>\n",
       "</table>\n",
       "</div>"
      ],
      "text/plain": [
       "                                             comment sentiment_label\n",
       "0  He was a singer with a golden voice that I lov...   not nostalgia\n",
       "1  The mist beautiful voice ever I listened to hi...       nostalgia\n",
       "2  I have most of Mr. Reeves songs.  Always love ...       nostalgia\n",
       "3  30 day leave from 1st tour in Viet Nam to conv...   not nostalgia\n",
       "4  listening to his songs reminds me of my mum wh...       nostalgia\n",
       "5  Every time I heard this song as a child, I use...       nostalgia\n",
       "6  My dad loved listening to Jim Reeves, when I w...       nostalgia\n",
       "7  i HAVE ALSO LISTENED TO Jim Reeves since child...       nostalgia\n",
       "8           Wherever you  are you always in my heart   not nostalgia\n",
       "9  Elvis will always be number one no one can com...   not nostalgia"
      ]
     },
     "execution_count": 14,
     "metadata": {},
     "output_type": "execute_result"
    }
   ],
   "source": [
    "df_youtube[:10][[\"comment\", \"sentiment_label\"]]"
   ]
  },
  {
   "cell_type": "code",
   "execution_count": 15,
   "metadata": {},
   "outputs": [
    {
     "data": {
      "text/plain": [
       "0     He was a singer with a golden voice that I lov...\n",
       "1     The mist beautiful voice ever I listened to hi...\n",
       "2     I have most of Mr. Reeves songs.  Always love ...\n",
       "3     30 day leave from 1st tour in Viet Nam to conv...\n",
       "4     listening to his songs reminds me of my mum wh...\n",
       "5     Every time I heard this song as a child, I use...\n",
       "6     My dad loved listening to Jim Reeves, when I w...\n",
       "7     i HAVE ALSO LISTENED TO Jim Reeves since child...\n",
       "8              Wherever you  are you always in my heart\n",
       "9     Elvis will always be number one no one can com...\n",
       "10    ill bet if they begin to play this song on the...\n",
       "Name: comment, dtype: object"
      ]
     },
     "execution_count": 15,
     "metadata": {},
     "output_type": "execute_result"
    }
   ],
   "source": [
    "df_youtube.loc[:10, 'comment']"
   ]
  },
  {
   "cell_type": "code",
   "execution_count": 16,
   "metadata": {},
   "outputs": [
    {
     "data": {
      "text/plain": [
       "0    He was a singer with a golden voice that I lov...\n",
       "1    The mist beautiful voice ever I listened to hi...\n",
       "2    I have most of Mr. Reeves songs.  Always love ...\n",
       "3    30 day leave from 1st tour in Viet Nam to conv...\n",
       "4    listening to his songs reminds me of my mum wh...\n",
       "5    Every time I heard this song as a child, I use...\n",
       "6    My dad loved listening to Jim Reeves, when I w...\n",
       "7    i HAVE ALSO LISTENED TO Jim Reeves since child...\n",
       "8             Wherever you  are you always in my heart\n",
       "9    Elvis will always be number one no one can com...\n",
       "Name: comment, dtype: object"
      ]
     },
     "execution_count": 16,
     "metadata": {},
     "output_type": "execute_result"
    }
   ],
   "source": [
    "df_youtube.iloc[:10, 0]"
   ]
  },
  {
   "cell_type": "markdown",
   "metadata": {},
   "source": [
    "## 4. Data Mining using Pandas"
   ]
  },
  {
   "cell_type": "markdown",
   "metadata": {},
   "source": [
    "### 4.1 Missing Values"
   ]
  },
  {
   "cell_type": "code",
   "execution_count": 17,
   "metadata": {},
   "outputs": [
    {
     "name": "stdout",
     "output_type": "stream",
     "text": [
      "comment              0\n",
      "sentiment_numeric    0\n",
      "sentiment_label      0\n",
      "dtype: int64\n"
     ]
    }
   ],
   "source": [
    "# Check for missing values in the DataFrame\n",
    "missing_values = df_youtube.isnull().sum()\n",
    "\n",
    "# Display the missing values for each column\n",
    "print(missing_values)"
   ]
  },
  {
   "cell_type": "code",
   "execution_count": 18,
   "metadata": {},
   "outputs": [
    {
     "data": {
      "text/html": [
       "<div>\n",
       "<style scoped>\n",
       "    .dataframe tbody tr th:only-of-type {\n",
       "        vertical-align: middle;\n",
       "    }\n",
       "\n",
       "    .dataframe tbody tr th {\n",
       "        vertical-align: top;\n",
       "    }\n",
       "\n",
       "    .dataframe thead th {\n",
       "        text-align: right;\n",
       "    }\n",
       "</style>\n",
       "<table border=\"1\" class=\"dataframe\">\n",
       "  <thead>\n",
       "    <tr style=\"text-align: right;\">\n",
       "      <th></th>\n",
       "      <th>comment</th>\n",
       "      <th>sentiment_numeric</th>\n",
       "      <th>sentiment_label</th>\n",
       "    </tr>\n",
       "  </thead>\n",
       "  <tbody>\n",
       "    <tr>\n",
       "      <th>0</th>\n",
       "      <td>The amoung of missing records is:</td>\n",
       "      <td>The amoung of missing records is:</td>\n",
       "      <td>The amoung of missing records is:</td>\n",
       "    </tr>\n",
       "    <tr>\n",
       "      <th>1</th>\n",
       "      <td>0</td>\n",
       "      <td>0</td>\n",
       "      <td>0</td>\n",
       "    </tr>\n",
       "  </tbody>\n",
       "</table>\n",
       "</div>"
      ],
      "text/plain": [
       "                              comment                   sentiment_numeric  \\\n",
       "0  The amoung of missing records is:   The amoung of missing records is:    \n",
       "1                                   0                                   0   \n",
       "\n",
       "                      sentiment_label  \n",
       "0  The amoung of missing records is:   \n",
       "1                                   0  "
      ]
     },
     "execution_count": 18,
     "metadata": {},
     "output_type": "execute_result"
    }
   ],
   "source": [
    "import helpers.data_mining_helpers as dmh\n",
    "df_youtube.isnull().apply(lambda x: dmh.check_missing_values(x))"
   ]
  },
  {
   "cell_type": "code",
   "execution_count": 19,
   "metadata": {},
   "outputs": [
    {
     "data": {
      "text/plain": [
       "0       (The amoung of missing records is: , 0)\n",
       "1       (The amoung of missing records is: , 0)\n",
       "2       (The amoung of missing records is: , 0)\n",
       "3       (The amoung of missing records is: , 0)\n",
       "4       (The amoung of missing records is: , 0)\n",
       "                         ...                   \n",
       "1495    (The amoung of missing records is: , 0)\n",
       "1496    (The amoung of missing records is: , 0)\n",
       "1497    (The amoung of missing records is: , 0)\n",
       "1498    (The amoung of missing records is: , 0)\n",
       "1499    (The amoung of missing records is: , 0)\n",
       "Length: 1500, dtype: object"
      ]
     },
     "execution_count": 19,
     "metadata": {},
     "output_type": "execute_result"
    }
   ],
   "source": [
    "# Exercise 4\n",
    "# Answer here\n",
    "import helpers.data_mining_helpers as dmh\n",
    "df_youtube.isnull().apply(lambda x: dmh.check_missing_values(x), axis=1)"
   ]
  },
  {
   "cell_type": "markdown",
   "metadata": {},
   "source": [
    "### 4.2 Dealing with Duplicate Data"
   ]
  },
  {
   "cell_type": "code",
   "execution_count": 20,
   "metadata": {},
   "outputs": [
    {
     "data": {
      "text/plain": [
       "0       False\n",
       "1       False\n",
       "2       False\n",
       "3       False\n",
       "4       False\n",
       "        ...  \n",
       "1495    False\n",
       "1496    False\n",
       "1497    False\n",
       "1498    False\n",
       "1499    False\n",
       "Length: 1500, dtype: bool"
      ]
     },
     "execution_count": 20,
     "metadata": {},
     "output_type": "execute_result"
    }
   ],
   "source": [
    "df_youtube.duplicated()"
   ]
  },
  {
   "cell_type": "code",
   "execution_count": 21,
   "metadata": {},
   "outputs": [
    {
     "data": {
      "text/plain": [
       "1"
      ]
     },
     "execution_count": 21,
     "metadata": {},
     "output_type": "execute_result"
    }
   ],
   "source": [
    "sum(df_youtube.duplicated())"
   ]
  },
  {
   "cell_type": "code",
   "execution_count": 22,
   "metadata": {},
   "outputs": [
    {
     "data": {
      "text/plain": [
       "1"
      ]
     },
     "execution_count": 22,
     "metadata": {},
     "output_type": "execute_result"
    }
   ],
   "source": [
    "sum(df_youtube.duplicated('comment'))"
   ]
  },
  {
   "cell_type": "code",
   "execution_count": 23,
   "metadata": {},
   "outputs": [
    {
     "name": "stdout",
     "output_type": "stream",
     "text": [
      "                                              comment  sentiment_numeric  \\\n",
      "62  never heard this song before... WOW What an am...                  0   \n",
      "78  never heard this song before... WOW What an am...                  0   \n",
      "\n",
      "   sentiment_label  \n",
      "62   not nostalgia  \n",
      "78   not nostalgia  \n"
     ]
    }
   ],
   "source": [
    "# Find all duplicated rows, including the first occurrence\n",
    "duplicated_all = df_youtube[df_youtube.duplicated(keep=False)]\n",
    "\n",
    "# Display all duplicated rows\n",
    "print(duplicated_all)"
   ]
  },
  {
   "cell_type": "code",
   "execution_count": 24,
   "metadata": {},
   "outputs": [
    {
     "name": "stdout",
     "output_type": "stream",
     "text": [
      "                                                comment  sentiment_numeric  \\\n",
      "0     He was a singer with a golden voice that I lov...                  0   \n",
      "1     The mist beautiful voice ever I listened to hi...                  1   \n",
      "2     I have most of Mr. Reeves songs.  Always love ...                  1   \n",
      "3     30 day leave from 1st tour in Viet Nam to conv...                  0   \n",
      "4     listening to his songs reminds me of my mum wh...                  1   \n",
      "...                                                 ...                ...   \n",
      "1495  i don't know!..but the opening of the video,.....                  0   \n",
      "1496  it's sad this is such a beautiful song when yo...                  0   \n",
      "1497  Dear Friend, I think age and time is not that ...                  0   \n",
      "1498  I was born in 1954 and started to be aware of ...                  1   \n",
      "1499  This is the first CD I bought after my marriag...                  1   \n",
      "\n",
      "     sentiment_label  \n",
      "0      not nostalgia  \n",
      "1          nostalgia  \n",
      "2          nostalgia  \n",
      "3      not nostalgia  \n",
      "4          nostalgia  \n",
      "...              ...  \n",
      "1495   not nostalgia  \n",
      "1496   not nostalgia  \n",
      "1497   not nostalgia  \n",
      "1498       nostalgia  \n",
      "1499       nostalgia  \n",
      "\n",
      "[1499 rows x 3 columns]\n"
     ]
    }
   ],
   "source": [
    "# Remove duplicated rows, keep the first occurrence\n",
    "df_youtube_cleaned = df_youtube.drop_duplicates()\n",
    "\n",
    "# Display the cleaned DataFrame\n",
    "print(df_youtube_cleaned)"
   ]
  },
  {
   "cell_type": "markdown",
   "metadata": {},
   "source": [
    "## 5. Data Preprocessing"
   ]
  },
  {
   "cell_type": "markdown",
   "metadata": {},
   "source": [
    "### 5.1 Sampling"
   ]
  },
  {
   "cell_type": "code",
   "execution_count": 25,
   "metadata": {},
   "outputs": [
    {
     "name": "stdout",
     "output_type": "stream",
     "text": [
      "                                                comment  sentiment_numeric  \\\n",
      "1116  Perception of death, birth, sorrow, suffering,...                  0   \n",
      "1368  One of those Classic (and there were so many o...                  0   \n",
      "422             So many memories in each and every song                  1   \n",
      "413   Was it in 1968 when Engelbert released it?  I ...                  1   \n",
      "451   OMG talk about take a trip down memory lane ho...                  1   \n",
      "\n",
      "     sentiment_label  \n",
      "1116   not nostalgia  \n",
      "1368   not nostalgia  \n",
      "422        nostalgia  \n",
      "413        nostalgia  \n",
      "451        nostalgia  \n"
     ]
    }
   ],
   "source": [
    "# Randomly sample 1000 rows\n",
    "sampled_youtube = df_youtube.sample(n=1000, random_state=42)\n",
    "\n",
    "# Display the sampled data\n",
    "print(sampled_youtube.head())"
   ]
  },
  {
   "cell_type": "code",
   "execution_count": 26,
   "metadata": {},
   "outputs": [
    {
     "data": {
      "text/html": [
       "<div>\n",
       "<style scoped>\n",
       "    .dataframe tbody tr th:only-of-type {\n",
       "        vertical-align: middle;\n",
       "    }\n",
       "\n",
       "    .dataframe tbody tr th {\n",
       "        vertical-align: top;\n",
       "    }\n",
       "\n",
       "    .dataframe thead th {\n",
       "        text-align: right;\n",
       "    }\n",
       "</style>\n",
       "<table border=\"1\" class=\"dataframe\">\n",
       "  <thead>\n",
       "    <tr style=\"text-align: right;\">\n",
       "      <th></th>\n",
       "      <th>comment</th>\n",
       "      <th>sentiment_numeric</th>\n",
       "      <th>sentiment_label</th>\n",
       "    </tr>\n",
       "  </thead>\n",
       "  <tbody>\n",
       "    <tr>\n",
       "      <th>1116</th>\n",
       "      <td>Perception of death, birth, sorrow, suffering,...</td>\n",
       "      <td>0</td>\n",
       "      <td>not nostalgia</td>\n",
       "    </tr>\n",
       "    <tr>\n",
       "      <th>1368</th>\n",
       "      <td>One of those Classic (and there were so many o...</td>\n",
       "      <td>0</td>\n",
       "      <td>not nostalgia</td>\n",
       "    </tr>\n",
       "    <tr>\n",
       "      <th>422</th>\n",
       "      <td>So many memories in each and every song</td>\n",
       "      <td>1</td>\n",
       "      <td>nostalgia</td>\n",
       "    </tr>\n",
       "    <tr>\n",
       "      <th>413</th>\n",
       "      <td>Was it in 1968 when Engelbert released it?  I ...</td>\n",
       "      <td>1</td>\n",
       "      <td>nostalgia</td>\n",
       "    </tr>\n",
       "  </tbody>\n",
       "</table>\n",
       "</div>"
      ],
      "text/plain": [
       "                                                comment  sentiment_numeric  \\\n",
       "1116  Perception of death, birth, sorrow, suffering,...                  0   \n",
       "1368  One of those Classic (and there were so many o...                  0   \n",
       "422             So many memories in each and every song                  1   \n",
       "413   Was it in 1968 when Engelbert released it?  I ...                  1   \n",
       "\n",
       "     sentiment_label  \n",
       "1116   not nostalgia  \n",
       "1368   not nostalgia  \n",
       "422        nostalgia  \n",
       "413        nostalgia  "
      ]
     },
     "execution_count": 26,
     "metadata": {},
     "output_type": "execute_result"
    }
   ],
   "source": [
    "sampled_youtube[:4]"
   ]
  },
  {
   "cell_type": "code",
   "execution_count": 27,
   "metadata": {},
   "outputs": [
    {
     "name": "stdout",
     "output_type": "stream",
     "text": [
      "sentiment_label\n",
      "not nostalgia    750\n",
      "nostalgia        750\n",
      "Name: count, dtype: int64\n"
     ]
    },
    {
     "data": {
      "image/png": "[encoded data removed]",
      "text/plain": [
       "<Figure size 800x300 with 1 Axes>"
      ]
     },
     "metadata": {},
     "output_type": "display_data"
    }
   ],
   "source": [
    "import matplotlib.pyplot as plt\n",
    "\n",
    "# Count the occurrence of each sentiment label\n",
    "sentiment_counts = df_youtube['sentiment_label'].value_counts()\n",
    "print(sentiment_counts)\n",
    "\n",
    "# Plot barchart for sentiment counts\n",
    "sentiment_counts.plot(kind='bar', \n",
    "                      title='Sentiment Distribution', \n",
    "                      ylim=[0, 700], \n",
    "                      rot=0, fontsize=11, figsize=(8, 3))\n",
    "\n",
    "# Show the plot\n",
    "plt.show()"
   ]
  },
  {
   "cell_type": "code",
   "execution_count": 28,
   "metadata": {},
   "outputs": [
    {
     "name": "stdout",
     "output_type": "stream",
     "text": [
      "sentiment_label\n",
      "nostalgia        507\n",
      "not nostalgia    493\n",
      "Name: count, dtype: int64\n"
     ]
    },
    {
     "data": {
      "image/png": "[encoded data removed]",
      "text/plain": [
       "<Figure size 800x300 with 1 Axes>"
      ]
     },
     "metadata": {},
     "output_type": "display_data"
    }
   ],
   "source": [
    "import matplotlib.pyplot as plt\n",
    "\n",
    "# Count the occurrence of each sentiment label\n",
    "sentiment_counts = sampled_youtube['sentiment_label'].value_counts()\n",
    "print(sentiment_counts)\n",
    "\n",
    "# Plot barchart for sentiment counts\n",
    "sentiment_counts.plot(kind='bar', \n",
    "                      title='Sentiment Distribution', \n",
    "                      ylim=[0, 700], \n",
    "                      rot=0, fontsize=11, figsize=(8, 3))\n",
    "\n",
    "# Show the plot\n",
    "plt.show()"
   ]
  },
  {
   "cell_type": "markdown",
   "metadata": {},
   "source": [
    "### >>> **Exercise 8 (take home):** "
   ]
  },
  {
   "cell_type": "code",
   "execution_count": 29,
   "metadata": {},
   "outputs": [],
   "source": [
    "# Calculate the sentiment distribution for the full dataset\n",
    "sentiment_counts_full = df_youtube['sentiment_label'].value_counts()\n",
    "\n",
    "# Calculate the sentiment distribution for the sampled dataset\n",
    "sentiment_counts_sampled = sampled_youtube['sentiment_label'].value_counts()"
   ]
  },
  {
   "cell_type": "code",
   "execution_count": 30,
   "metadata": {},
   "outputs": [
    {
     "name": "stdout",
     "output_type": "stream",
     "text": [
      "                 Full Dataset  Sampled Dataset\n",
      "sentiment_label                               \n",
      "nostalgia                 750              507\n",
      "not nostalgia             750              493\n"
     ]
    }
   ],
   "source": [
    "import pandas as pd\n",
    "\n",
    "# Create a DataFrame that contains both distributions\n",
    "comparison_df = pd.DataFrame({\n",
    "    'Full Dataset': sentiment_counts_full,\n",
    "    'Sampled Dataset': sentiment_counts_sampled\n",
    "})\n",
    "\n",
    "# Fill missing values with 0 (in case some labels are missing in the sampled dataset)\n",
    "comparison_df = comparison_df.fillna(0)\n",
    "\n",
    "# Display the comparison DataFrame (optional, to check the structure)\n",
    "print(comparison_df)"
   ]
  },
  {
   "cell_type": "code",
   "execution_count": 31,
   "metadata": {},
   "outputs": [
    {
     "data": {
      "image/png": "[encoded data removed]",
      "text/plain": [
       "<Figure size 800x400 with 1 Axes>"
      ]
     },
     "metadata": {},
     "output_type": "display_data"
    }
   ],
   "source": [
    "import matplotlib.pyplot as plt\n",
    "\n",
    "# Plot side-by-side bar chart\n",
    "comparison_df.plot(kind='bar', \n",
    "                   title='Comparison of Sentiment Distribution',\n",
    "                   ylim=[0, 700], \n",
    "                   rot=0, fontsize=11, figsize=(8, 4))\n",
    "\n",
    "# Show the plot\n",
    "plt.show()"
   ]
  },
  {
   "cell_type": "code",
   "execution_count": 32,
   "metadata": {},
   "outputs": [
    {
     "name": "stderr",
     "output_type": "stream",
     "text": [
      "[nltk_data] Downloading package punkt to\n",
      "[nltk_data]     C:\\Users\\user\\AppData\\Roaming\\nltk_data...\n",
      "[nltk_data]   Package punkt is already up-to-date!\n"
     ]
    },
    {
     "data": {
      "text/plain": [
       "True"
      ]
     },
     "execution_count": 32,
     "metadata": {},
     "output_type": "execute_result"
    }
   ],
   "source": [
    "import nltk\n",
    "nltk.download('punkt')  # Download the 'punkt' datasets"
   ]
  },
  {
   "cell_type": "code",
   "execution_count": 33,
   "metadata": {},
   "outputs": [],
   "source": [
    "# Apply the improved tokenize_text function to the text column\n",
    "df_youtube['unigrams'] = df_youtube['comment'].apply(lambda x: dmh.tokenize_text(x))"
   ]
  },
  {
   "cell_type": "code",
   "execution_count": 34,
   "metadata": {},
   "outputs": [
    {
     "data": {
      "text/plain": [
       "0    [He, was, a, singer, with, a, golden, voice, t...\n",
       "1    [The, mist, beautiful, voice, ever, I, listene...\n",
       "2    [I, have, most, of, Mr., Reeves, songs, ., Alw...\n",
       "3    [30, day, leave, from, 1st, tour, in, Viet, Na...\n",
       "Name: unigrams, dtype: object"
      ]
     },
     "execution_count": 34,
     "metadata": {},
     "output_type": "execute_result"
    }
   ],
   "source": [
    "# Show the cleaned tokens\n",
    "df_youtube[0:4]['unigrams']"
   ]
  },
  {
   "cell_type": "code",
   "execution_count": 35,
   "metadata": {},
   "outputs": [
    {
     "data": {
      "text/html": [
       "<div>\n",
       "<style scoped>\n",
       "    .dataframe tbody tr th:only-of-type {\n",
       "        vertical-align: middle;\n",
       "    }\n",
       "\n",
       "    .dataframe tbody tr th {\n",
       "        vertical-align: top;\n",
       "    }\n",
       "\n",
       "    .dataframe thead th {\n",
       "        text-align: right;\n",
       "    }\n",
       "</style>\n",
       "<table border=\"1\" class=\"dataframe\">\n",
       "  <thead>\n",
       "    <tr style=\"text-align: right;\">\n",
       "      <th></th>\n",
       "      <th>comment</th>\n",
       "      <th>sentiment_numeric</th>\n",
       "      <th>sentiment_label</th>\n",
       "      <th>unigrams</th>\n",
       "    </tr>\n",
       "  </thead>\n",
       "  <tbody>\n",
       "    <tr>\n",
       "      <th>0</th>\n",
       "      <td>He was a singer with a golden voice that I lov...</td>\n",
       "      <td>0</td>\n",
       "      <td>not nostalgia</td>\n",
       "      <td>[He, was, a, singer, with, a, golden, voice, t...</td>\n",
       "    </tr>\n",
       "    <tr>\n",
       "      <th>1</th>\n",
       "      <td>The mist beautiful voice ever I listened to hi...</td>\n",
       "      <td>1</td>\n",
       "      <td>nostalgia</td>\n",
       "      <td>[The, mist, beautiful, voice, ever, I, listene...</td>\n",
       "    </tr>\n",
       "    <tr>\n",
       "      <th>2</th>\n",
       "      <td>I have most of Mr. Reeves songs.  Always love ...</td>\n",
       "      <td>1</td>\n",
       "      <td>nostalgia</td>\n",
       "      <td>[I, have, most, of, Mr., Reeves, songs, ., Alw...</td>\n",
       "    </tr>\n",
       "    <tr>\n",
       "      <th>3</th>\n",
       "      <td>30 day leave from 1st tour in Viet Nam to conv...</td>\n",
       "      <td>0</td>\n",
       "      <td>not nostalgia</td>\n",
       "      <td>[30, day, leave, from, 1st, tour, in, Viet, Na...</td>\n",
       "    </tr>\n",
       "  </tbody>\n",
       "</table>\n",
       "</div>"
      ],
      "text/plain": [
       "                                             comment  sentiment_numeric  \\\n",
       "0  He was a singer with a golden voice that I lov...                  0   \n",
       "1  The mist beautiful voice ever I listened to hi...                  1   \n",
       "2  I have most of Mr. Reeves songs.  Always love ...                  1   \n",
       "3  30 day leave from 1st tour in Viet Nam to conv...                  0   \n",
       "\n",
       "  sentiment_label                                           unigrams  \n",
       "0   not nostalgia  [He, was, a, singer, with, a, golden, voice, t...  \n",
       "1       nostalgia  [The, mist, beautiful, voice, ever, I, listene...  \n",
       "2       nostalgia  [I, have, most, of, Mr., Reeves, songs, ., Alw...  \n",
       "3   not nostalgia  [30, day, leave, from, 1st, tour, in, Viet, Na...  "
      ]
     },
     "execution_count": 35,
     "metadata": {},
     "output_type": "execute_result"
    }
   ],
   "source": [
    "df_youtube[0:4]"
   ]
  },
  {
   "cell_type": "code",
   "execution_count": 36,
   "metadata": {},
   "outputs": [
    {
     "data": {
      "text/plain": [
       "[['He',\n",
       "  'was',\n",
       "  'a',\n",
       "  'singer',\n",
       "  'with',\n",
       "  'a',\n",
       "  'golden',\n",
       "  'voice',\n",
       "  'that',\n",
       "  'I',\n",
       "  'love',\n",
       "  'to',\n",
       "  'hear',\n",
       "  'all',\n",
       "  'the',\n",
       "  'time',\n",
       "  '.',\n",
       "  'I',\n",
       "  'was',\n",
       "  'his',\n",
       "  'great',\n",
       "  'fan',\n",
       "  'at',\n",
       "  'the',\n",
       "  'age',\n",
       "  'of',\n",
       "  '16years',\n",
       "  'in',\n",
       "  'those',\n",
       "  'days',\n",
       "  'and',\n",
       "  'still',\n",
       "  'now',\n",
       "  '.',\n",
       "  'Although',\n",
       "  'we',\n",
       "  'have',\n",
       "  'many',\n",
       "  'singers',\n",
       "  'now',\n",
       "  ',',\n",
       "  'but',\n",
       "  ',',\n",
       "  'I',\n",
       "  'can',\n",
       "  'vouch',\n",
       "  'for',\n",
       "  'Jim',\n",
       "  'Reeves',\n",
       "  'all',\n",
       "  'the',\n",
       "  'time',\n",
       "  '.',\n",
       "  'You',\n",
       "  'feel',\n",
       "  'relaxed',\n",
       "  ',',\n",
       "  'emotional',\n",
       "  'and',\n",
       "  'loving',\n",
       "  '.',\n",
       "  'Thank',\n",
       "  'you',\n",
       "  'Lord',\n",
       "  'for',\n",
       "  'his',\n",
       "  'life',\n",
       "  '.']]"
      ]
     },
     "execution_count": 36,
     "metadata": {},
     "output_type": "execute_result"
    }
   ],
   "source": [
    "list(df_youtube[0:1]['unigrams'])"
   ]
  },
  {
   "cell_type": "markdown",
   "metadata": {},
   "source": [
    "### 5.3 Feature subset selection"
   ]
  },
  {
   "cell_type": "code",
   "execution_count": 37,
   "metadata": {},
   "outputs": [
    {
     "name": "stdout",
     "output_type": "stream",
     "text": [
      "(1500, 3730)\n",
      "['00' '000' '045' '07' '10' '100' '10m' '11' '11th' '12']\n"
     ]
    }
   ],
   "source": [
    "from sklearn.feature_extraction.text import CountVectorizer\n",
    "\n",
    "count_vect = CountVectorizer()\n",
    "X_counts_youtube = count_vect.fit_transform(df_youtube['comment'])\n",
    "\n",
    "print(X_counts_youtube.shape)  # Display the shape of the matrix\n",
    "print(count_vect.get_feature_names_out()[:10])  # Display the first 10 feature names"
   ]
  },
  {
   "cell_type": "code",
   "execution_count": 38,
   "metadata": {},
   "outputs": [
    {
     "name": "stdout",
     "output_type": "stream",
     "text": [
      "  (np.int32(0), np.int32(1598))\t1\n",
      "  (np.int32(0), np.int32(3570))\t2\n",
      "  (np.int32(0), np.int32(2973))\t1\n",
      "  (np.int32(0), np.int32(3650))\t1\n",
      "  (np.int32(0), np.int32(1470))\t1\n",
      "  (np.int32(0), np.int32(3534))\t1\n",
      "  (np.int32(0), np.int32(3282))\t1\n",
      "  (np.int32(0), np.int32(2028))\t1\n",
      "  (np.int32(0), np.int32(3336))\t1\n",
      "  (np.int32(0), np.int32(1606))\t1\n",
      "  (np.int32(0), np.int32(233))\t2\n",
      "  (np.int32(0), np.int32(3284))\t3\n",
      "  (np.int32(0), np.int32(3328))\t2\n",
      "  (np.int32(0), np.int32(1651))\t2\n",
      "  (np.int32(0), np.int32(1512))\t1\n",
      "  (np.int32(0), np.int32(1249))\t1\n",
      "  (np.int32(0), np.int32(323))\t1\n",
      "  (np.int32(0), np.int32(214))\t1\n",
      "  (np.int32(0), np.int32(2341))\t1\n",
      "  (np.int32(0), np.int32(15))\t1\n",
      "  (np.int32(0), np.int32(1733))\t1\n",
      "  (np.int32(0), np.int32(3304))\t1\n",
      "  (np.int32(0), np.int32(907))\t1\n",
      "  (np.int32(0), np.int32(258))\t2\n",
      "  (np.int32(0), np.int32(3124))\t1\n",
      "  (np.int32(0), np.int32(2328))\t2\n",
      "  (np.int32(0), np.int32(245))\t1\n",
      "  (np.int32(0), np.int32(3581))\t1\n",
      "  (np.int32(0), np.int32(1591))\t1\n",
      "  (np.int32(0), np.int32(2082))\t1\n",
      "  (np.int32(0), np.int32(2974))\t1\n",
      "  (np.int32(0), np.int32(573))\t1\n",
      "  (np.int32(0), np.int32(593))\t1\n",
      "  (np.int32(0), np.int32(3538))\t1\n",
      "  (np.int32(0), np.int32(1347))\t2\n",
      "  (np.int32(0), np.int32(1833))\t1\n",
      "  (np.int32(0), np.int32(2671))\t1\n",
      "  (np.int32(0), np.int32(3713))\t2\n",
      "  (np.int32(0), np.int32(1272))\t1\n",
      "  (np.int32(0), np.int32(2688))\t1\n",
      "  (np.int32(0), np.int32(1125))\t1\n",
      "  (np.int32(0), np.int32(2035))\t1\n",
      "  (np.int32(0), np.int32(3278))\t1\n",
      "  (np.int32(0), np.int32(2018))\t1\n",
      "  (np.int32(0), np.int32(1964))\t1\n"
     ]
    }
   ],
   "source": [
    "print(X_counts_youtube[0])"
   ]
  },
  {
   "cell_type": "code",
   "execution_count": 39,
   "metadata": {},
   "outputs": [
    {
     "data": {
      "text/plain": [
       "'he'"
      ]
     },
     "execution_count": 39,
     "metadata": {},
     "output_type": "execute_result"
    }
   ],
   "source": [
    "count_vect.get_feature_names_out()[1598]"
   ]
  },
  {
   "cell_type": "code",
   "execution_count": 40,
   "metadata": {},
   "outputs": [
    {
     "data": {
      "text/plain": [
       "'the'"
      ]
     },
     "execution_count": 40,
     "metadata": {},
     "output_type": "execute_result"
    }
   ],
   "source": [
    "count_vect.get_feature_names_out()[3284]"
   ]
  },
  {
   "cell_type": "markdown",
   "metadata": {},
   "source": [
    "### **>>> Exercise 9:**"
   ]
  },
  {
   "cell_type": "code",
   "execution_count": 41,
   "metadata": {},
   "outputs": [
    {
     "data": {
      "text/plain": [
       "['he',\n",
       " 'was',\n",
       " 'singer',\n",
       " 'with',\n",
       " 'golden',\n",
       " 'voice',\n",
       " 'that',\n",
       " 'love',\n",
       " 'to',\n",
       " 'hear',\n",
       " 'all',\n",
       " 'the',\n",
       " 'time',\n",
       " 'was',\n",
       " 'his',\n",
       " 'great',\n",
       " 'fan',\n",
       " 'at',\n",
       " 'the',\n",
       " 'age',\n",
       " 'of',\n",
       " '16years',\n",
       " 'in',\n",
       " 'those',\n",
       " 'days',\n",
       " 'and',\n",
       " 'still',\n",
       " 'now',\n",
       " 'although',\n",
       " 'we',\n",
       " 'have',\n",
       " 'many',\n",
       " 'singers',\n",
       " 'now',\n",
       " 'but',\n",
       " 'can',\n",
       " 'vouch',\n",
       " 'for',\n",
       " 'jim',\n",
       " 'reeves',\n",
       " 'all',\n",
       " 'the',\n",
       " 'time',\n",
       " 'you',\n",
       " 'feel',\n",
       " 'relaxed',\n",
       " 'emotional',\n",
       " 'and',\n",
       " 'loving',\n",
       " 'thank',\n",
       " 'you',\n",
       " 'lord',\n",
       " 'for',\n",
       " 'his',\n",
       " 'life']"
      ]
     },
     "execution_count": 41,
     "metadata": {},
     "output_type": "execute_result"
    }
   ],
   "source": [
    "analyze = count_vect.build_analyzer()\n",
    "analyze(df_youtube[\"comment\"][0])"
   ]
  },
  {
   "cell_type": "code",
   "execution_count": 49,
   "metadata": {},
   "outputs": [
    {
     "data": {
      "text/plain": [
       "array(['00', '000', '045', '07', '10', '100', '10m', '11', '11th', '12'],\n",
       "      dtype=object)"
      ]
     },
     "execution_count": 49,
     "metadata": {},
     "output_type": "execute_result"
    }
   ],
   "source": [
    "count_vect.get_feature_names_out()[0:10]"
   ]
  },
  {
   "cell_type": "code",
   "execution_count": 42,
   "metadata": {},
   "outputs": [
    {
     "data": {
      "text/plain": [
       "array([[0, 0, 0, 0, 0, 0, 0, 0, 0, 0, 0, 0, 0, 0, 0, 1, 0, 0, 0, 0, 0, 0,\n",
       "        0, 0, 0, 0, 0, 0, 0, 0, 0, 0, 0, 0, 0, 0, 0, 0, 0, 0, 0, 0, 0, 0,\n",
       "        0, 0, 0, 0, 0, 0, 0, 0, 0, 0, 0, 0, 0, 0, 0, 0, 0, 0, 0, 0, 0, 0,\n",
       "        0, 0, 0, 0, 0, 0, 0, 0, 0, 0, 0, 0, 0, 0, 0, 0, 0, 0, 0, 0, 0, 0,\n",
       "        0, 0, 0, 0, 0, 0, 0, 0, 0, 0, 0, 0],\n",
       "       [0, 0, 0, 0, 0, 0, 0, 0, 0, 0, 0, 0, 0, 0, 0, 0, 0, 0, 0, 0, 0, 0,\n",
       "        0, 0, 0, 0, 0, 0, 0, 0, 0, 0, 0, 0, 0, 0, 0, 0, 0, 0, 0, 0, 0, 0,\n",
       "        0, 0, 0, 0, 0, 0, 0, 0, 0, 0, 0, 0, 0, 0, 0, 0, 0, 0, 0, 0, 0, 0,\n",
       "        0, 0, 0, 0, 0, 0, 0, 0, 0, 0, 0, 0, 0, 0, 0, 0, 0, 0, 0, 0, 0, 0,\n",
       "        0, 0, 0, 0, 0, 0, 0, 0, 0, 0, 0, 0],\n",
       "       [0, 0, 0, 0, 0, 0, 0, 0, 0, 0, 0, 0, 0, 0, 0, 0, 1, 0, 0, 0, 0, 0,\n",
       "        0, 0, 0, 0, 0, 0, 0, 0, 0, 0, 0, 0, 0, 0, 0, 0, 0, 0, 0, 0, 0, 0,\n",
       "        0, 0, 0, 0, 0, 0, 0, 0, 0, 0, 0, 0, 0, 0, 0, 0, 0, 0, 0, 0, 0, 0,\n",
       "        0, 0, 0, 0, 0, 0, 0, 0, 0, 0, 0, 0, 0, 0, 0, 0, 0, 0, 0, 0, 0, 0,\n",
       "        0, 0, 0, 0, 0, 0, 0, 0, 0, 0, 0, 0],\n",
       "       [0, 0, 0, 0, 0, 0, 0, 0, 0, 0, 0, 0, 0, 0, 0, 0, 0, 0, 0, 0, 0, 0,\n",
       "        0, 0, 0, 0, 0, 0, 0, 0, 0, 0, 0, 0, 0, 0, 0, 0, 0, 0, 0, 0, 0, 0,\n",
       "        0, 0, 0, 0, 0, 0, 0, 0, 0, 0, 0, 0, 0, 0, 0, 0, 0, 0, 1, 0, 0, 0,\n",
       "        0, 0, 0, 0, 0, 0, 0, 0, 0, 0, 0, 0, 0, 0, 0, 0, 0, 0, 0, 0, 0, 0,\n",
       "        0, 0, 1, 1, 0, 0, 0, 0, 0, 0, 0, 0],\n",
       "       [0, 0, 0, 0, 0, 0, 0, 0, 0, 0, 0, 0, 0, 0, 0, 0, 0, 0, 0, 0, 0, 0,\n",
       "        0, 0, 0, 0, 0, 0, 0, 0, 0, 0, 0, 0, 0, 0, 0, 0, 0, 0, 0, 0, 0, 0,\n",
       "        0, 0, 0, 0, 0, 0, 0, 0, 0, 0, 0, 0, 0, 0, 0, 0, 0, 0, 0, 0, 0, 0,\n",
       "        0, 0, 0, 0, 0, 0, 0, 0, 0, 0, 0, 0, 0, 0, 0, 0, 0, 0, 0, 0, 0, 0,\n",
       "        0, 0, 0, 0, 0, 0, 0, 0, 0, 0, 0, 0]])"
      ]
     },
     "execution_count": 42,
     "metadata": {},
     "output_type": "execute_result"
    }
   ],
   "source": [
    "# we convert from sparse array to normal array\n",
    "X_counts_youtube[0:5, 0:100].toarray()"
   ]
  },
  {
   "cell_type": "code",
   "execution_count": 43,
   "metadata": {},
   "outputs": [
    {
     "data": {
      "text/plain": [
       "array(['00'], dtype=object)"
      ]
     },
     "execution_count": 43,
     "metadata": {},
     "output_type": "execute_result"
    }
   ],
   "source": [
    "count_vect.get_feature_names_out()[0:1]"
   ]
  },
  {
   "cell_type": "code",
   "execution_count": 45,
   "metadata": {},
   "outputs": [
    {
     "name": "stdout",
     "output_type": "stream",
     "text": [
      "The first word corresponding to 1 is: 16years\n"
     ]
    }
   ],
   "source": [
    "# Get feature names (words) from the CountVectorizer\n",
    "feature_names = count_vect.get_feature_names_out()\n",
    "\n",
    "# Find the first occurrence of 1 in the sparse matrix\n",
    "import numpy as np\n",
    "\n",
    "# Convert sparse matrix to array (or you can leave it as sparse if preferred)\n",
    "X_array = X_counts_youtube.toarray()\n",
    "\n",
    "# Find the index of the first occurrence of 1\n",
    "row_index, col_index = np.argwhere(X_array == 1)[0]\n",
    "\n",
    "# Get the corresponding word using the feature name list\n",
    "first_word = feature_names[col_index]\n",
    "print(f\"The first word corresponding to 1 is: {first_word}\")"
   ]
  },
  {
   "cell_type": "markdown",
   "metadata": {},
   "source": [
    "### **>>> Exercise 10 (take home):**"
   ]
  },
  {
   "cell_type": "code",
   "execution_count": 46,
   "metadata": {},
   "outputs": [
    {
     "name": "stdout",
     "output_type": "stream",
     "text": [
      "The second '1' is found in record 0, and the word is 'was'.\n"
     ]
    }
   ],
   "source": [
    "from sklearn.feature_extraction.text import CountVectorizer\n",
    "\n",
    "# Assume count_vect and X_counts_youtube have already been initialized\n",
    "# Step 1: Retrieve the term frequency vector of the fifth record\n",
    "one_count = 0\n",
    "target_record = None\n",
    "target_word = None\n",
    "\n",
    "# Step 2: Find the position of the second '1' in the matrix\n",
    "for i in range(X_counts_youtube.shape[0]):\n",
    "    record = X_counts_youtube[i]\n",
    "    \n",
    "    # Extract the indices of non-zero elements (which represent the words that appear in this record)\n",
    "    non_zero_indices = record.nonzero()[1]\n",
    "    \n",
    "    # Step 3: Find the position of the second word that appears (the second '1' in the matrix)\n",
    "    for index in non_zero_indices:\n",
    "        one_count += 1\n",
    "        if one_count == 2:  # Find the second '1'\n",
    "            target_record = i\n",
    "            target_word = count_vect.get_feature_names_out()[index]\n",
    "            break  \n",
    "        \n",
    "    if target_record is not None:  # Stop if the target record is found\n",
    "        break\n",
    "\n",
    "# 顯示結果\n",
    "if target_record is not None:\n",
    "    print(f\"The second '1' is found in record {target_record}, and the word is '{target_word}'.\")\n",
    "else:\n",
    "    print(\"The second '1' was not found.\")\n"
   ]
  },
  {
   "cell_type": "code",
   "execution_count": 47,
   "metadata": {},
   "outputs": [],
   "source": [
    "# first twenty features only\n",
    "plot_x = [\"term_\"+str(i) for i in count_vect.get_feature_names_out()[0:20]]"
   ]
  },
  {
   "cell_type": "code",
   "execution_count": 48,
   "metadata": {},
   "outputs": [],
   "source": [
    "# obtain document index\n",
    "plot_y = [\"doc_\"+str(i) for i in list(df_youtube.index)[0:20]]"
   ]
  },
  {
   "cell_type": "code",
   "execution_count": 50,
   "metadata": {},
   "outputs": [
    {
     "data": {
      "text/plain": [
       "array([[0, 0, 0, 0, 0, 0, 0, 0, 0, 0, 0, 0, 0, 0, 0, 1, 0, 0, 0, 0],\n",
       "       [0, 0, 0, 0, 0, 0, 0, 0, 0, 0, 0, 0, 0, 0, 0, 0, 0, 0, 0, 0],\n",
       "       [0, 0, 0, 0, 0, 0, 0, 0, 0, 0, 0, 0, 0, 0, 0, 0, 1, 0, 0, 0],\n",
       "       [0, 0, 0, 0, 0, 0, 0, 0, 0, 0, 0, 0, 0, 0, 0, 0, 0, 0, 0, 0],\n",
       "       [0, 0, 0, 0, 0, 0, 0, 0, 0, 0, 0, 0, 0, 0, 0, 0, 0, 0, 0, 0],\n",
       "       [0, 0, 0, 0, 0, 0, 0, 0, 0, 0, 0, 0, 0, 0, 0, 0, 0, 0, 0, 0],\n",
       "       [0, 0, 0, 0, 0, 0, 0, 0, 0, 0, 0, 0, 0, 0, 0, 0, 0, 0, 0, 0],\n",
       "       [0, 0, 0, 0, 0, 0, 0, 0, 0, 0, 0, 0, 0, 0, 0, 0, 0, 0, 0, 0],\n",
       "       [0, 0, 0, 0, 0, 0, 0, 0, 0, 0, 0, 0, 0, 0, 0, 0, 0, 0, 0, 0],\n",
       "       [0, 0, 0, 0, 0, 0, 0, 0, 0, 0, 0, 0, 0, 0, 0, 0, 0, 0, 0, 0],\n",
       "       [0, 0, 0, 0, 0, 0, 0, 0, 0, 0, 0, 0, 0, 0, 0, 0, 0, 0, 0, 0],\n",
       "       [0, 0, 0, 0, 0, 0, 0, 0, 0, 0, 0, 0, 0, 0, 0, 0, 0, 0, 1, 0],\n",
       "       [0, 0, 0, 0, 0, 0, 0, 0, 0, 0, 0, 0, 0, 0, 0, 0, 0, 0, 0, 0],\n",
       "       [0, 0, 0, 0, 0, 0, 0, 0, 0, 0, 0, 0, 0, 0, 0, 0, 0, 0, 0, 0],\n",
       "       [0, 0, 0, 0, 0, 0, 0, 0, 0, 0, 0, 0, 0, 0, 0, 0, 0, 0, 0, 0],\n",
       "       [0, 0, 0, 0, 0, 0, 0, 0, 0, 0, 0, 0, 0, 0, 0, 0, 0, 0, 0, 0],\n",
       "       [0, 0, 0, 0, 0, 1, 0, 0, 0, 0, 0, 0, 0, 0, 0, 0, 0, 0, 0, 0],\n",
       "       [0, 0, 0, 0, 0, 0, 0, 0, 0, 0, 0, 0, 0, 0, 0, 0, 0, 0, 0, 0],\n",
       "       [0, 0, 0, 0, 0, 0, 0, 0, 0, 0, 0, 0, 0, 0, 0, 0, 0, 0, 0, 0],\n",
       "       [0, 0, 0, 0, 0, 0, 0, 0, 0, 0, 0, 0, 0, 0, 0, 0, 0, 0, 0, 0]])"
      ]
     },
     "execution_count": 50,
     "metadata": {},
     "output_type": "execute_result"
    }
   ],
   "source": [
    "plot_z = X_counts_youtube[0:20, 0:20].toarray() #X_counts[how many documents, how many terms]\n",
    "plot_z"
   ]
  },
  {
   "cell_type": "code",
   "execution_count": 51,
   "metadata": {},
   "outputs": [
    {
     "data": {
      "image/png": "[encoded data removed]",
      "text/plain": [
       "<Figure size 900x700 with 2 Axes>"
      ]
     },
     "metadata": {},
     "output_type": "display_data"
    }
   ],
   "source": [
    "import seaborn as sns\n",
    "\n",
    "df_todraw = pd.DataFrame(plot_z, columns = plot_x, index = plot_y)\n",
    "plt.subplots(figsize=(9, 7))\n",
    "ax = sns.heatmap(df_todraw,\n",
    "                 cmap=\"PuRd\",\n",
    "                 vmin=0, vmax=1, annot=True)"
   ]
  },
  {
   "cell_type": "markdown",
   "metadata": {},
   "source": [
    "### **>>> Exercise 11 (take home):** "
   ]
  },
  {
   "cell_type": "code",
   "execution_count": 55,
   "metadata": {},
   "outputs": [
    {
     "data": {
      "image/png": "[encoded data removed]",
      "text/plain": [
       "<Figure size 1200x1000 with 2 Axes>"
      ]
     },
     "metadata": {},
     "output_type": "display_data"
    }
   ],
   "source": [
    "# Answer here\n",
    "# Sample 100 documents and 100 terms\n",
    "plot_z = X_counts_youtube[0:100, 0:100].toarray()\n",
    "\n",
    "# Create a larger heatmap\n",
    "import seaborn as sns\n",
    "import matplotlib.pyplot as plt\n",
    "import pandas as pd\n",
    "\n",
    "# Create DataFrame\n",
    "plot_x = [\"term_\"+str(i) for i in count_vect.get_feature_names_out()[0:100]]\n",
    "plot_y = [\"doc_\"+ str(i) for i in list(df_youtube.index)[0:100]]\n",
    "df_todraw = pd.DataFrame(plot_z, columns=plot_x, index=plot_y)\n",
    "\n",
    "# Plot\n",
    "plt.subplots(figsize=(12, 10))\n",
    "ax = sns.heatmap(df_todraw,\n",
    "                 cmap=\"PuRd\",\n",
    "                 vmin=0, vmax=1, annot=False)\n",
    "plt.show()"
   ]
  },
  {
   "cell_type": "markdown",
   "metadata": {},
   "source": [
    "### 5.4 Attribute Transformation / Aggregation"
   ]
  },
  {
   "cell_type": "code",
   "execution_count": 56,
   "metadata": {},
   "outputs": [],
   "source": [
    "# \n",
    "term_frequencies = []\n",
    "for j in range(0, X_counts_youtube.shape[1]):\n",
    "    term_frequencies.append(sum(X_counts_youtube[:,j].toarray()))"
   ]
  },
  {
   "cell_type": "code",
   "execution_count": 58,
   "metadata": {},
   "outputs": [],
   "source": [
    "term_frequencies = np.asarray(X_counts_youtube.sum(axis=0))[0]"
   ]
  },
  {
   "cell_type": "code",
   "execution_count": 59,
   "metadata": {},
   "outputs": [
    {
     "data": {
      "text/plain": [
       "np.int64(1)"
      ]
     },
     "execution_count": 59,
     "metadata": {},
     "output_type": "execute_result"
    }
   ],
   "source": [
    "term_frequencies[0]"
   ]
  },
  {
   "cell_type": "code",
   "execution_count": 60,
   "metadata": {},
   "outputs": [
    {
     "name": "stderr",
     "output_type": "stream",
     "text": [
      "C:\\Users\\user\\AppData\\Local\\Temp\\ipykernel_25928\\3140323867.py:4: UserWarning: set_ticklabels() should only be used with a fixed number of ticks, i.e. after set_ticks() or using a FixedLocator.\n",
      "  g.set_xticklabels(count_vect.get_feature_names_out()[:300], rotation = 90)\n"
     ]
    },
    {
     "data": {
      "text/plain": [
       "[Text(0, 0, '00'),\n",
       " Text(1, 0, '000'),\n",
       " Text(2, 0, '045'),\n",
       " Text(3, 0, '07'),\n",
       " Text(4, 0, '10'),\n",
       " Text(5, 0, '100'),\n",
       " Text(6, 0, '10m'),\n",
       " Text(7, 0, '11'),\n",
       " Text(8, 0, '11th'),\n",
       " Text(9, 0, '12'),\n",
       " Text(10, 0, '13'),\n",
       " Text(11, 0, '14'),\n",
       " Text(12, 0, '15'),\n",
       " Text(13, 0, '150'),\n",
       " Text(14, 0, '16'),\n",
       " Text(15, 0, '16years'),\n",
       " Text(16, 0, '17'),\n",
       " Text(17, 0, '17th'),\n",
       " Text(18, 0, '18'),\n",
       " Text(19, 0, '19'),\n",
       " Text(20, 0, '1927'),\n",
       " Text(21, 0, '1930'),\n",
       " Text(22, 0, '1930s'),\n",
       " Text(23, 0, '1950'),\n",
       " Text(24, 0, '1950s'),\n",
       " Text(25, 0, '1952'),\n",
       " Text(26, 0, '1954'),\n",
       " Text(27, 0, '1955'),\n",
       " Text(28, 0, '1956'),\n",
       " Text(29, 0, '1957'),\n",
       " Text(30, 0, '1958'),\n",
       " Text(31, 0, '1960'),\n",
       " Text(32, 0, '1960s'),\n",
       " Text(33, 0, '1962'),\n",
       " Text(34, 0, '1963'),\n",
       " Text(35, 0, '1964'),\n",
       " Text(36, 0, '1965'),\n",
       " Text(37, 0, '1966'),\n",
       " Text(38, 0, '1967'),\n",
       " Text(39, 0, '1968'),\n",
       " Text(40, 0, '1969'),\n",
       " Text(41, 0, '1970'),\n",
       " Text(42, 0, '1970s'),\n",
       " Text(43, 0, '1973'),\n",
       " Text(44, 0, '1974'),\n",
       " Text(45, 0, '1975'),\n",
       " Text(46, 0, '1976'),\n",
       " Text(47, 0, '1977'),\n",
       " Text(48, 0, '1979'),\n",
       " Text(49, 0, '1980'),\n",
       " Text(50, 0, '1980s'),\n",
       " Text(51, 0, '1981'),\n",
       " Text(52, 0, '1985'),\n",
       " Text(53, 0, '1987'),\n",
       " Text(54, 0, '1988'),\n",
       " Text(55, 0, '1989'),\n",
       " Text(56, 0, '1990'),\n",
       " Text(57, 0, '1992'),\n",
       " Text(58, 0, '1993'),\n",
       " Text(59, 0, '1996'),\n",
       " Text(60, 0, '1997'),\n",
       " Text(61, 0, '1998'),\n",
       " Text(62, 0, '1st'),\n",
       " Text(63, 0, '20'),\n",
       " Text(64, 0, '2000s'),\n",
       " Text(65, 0, '2002'),\n",
       " Text(66, 0, '2006'),\n",
       " Text(67, 0, '2009'),\n",
       " Text(68, 0, '2010'),\n",
       " Text(69, 0, '2014'),\n",
       " Text(70, 0, '2015'),\n",
       " Text(71, 0, '2016'),\n",
       " Text(72, 0, '2017'),\n",
       " Text(73, 0, '2018'),\n",
       " Text(74, 0, '2019'),\n",
       " Text(75, 0, '2040'),\n",
       " Text(76, 0, '20s'),\n",
       " Text(77, 0, '20th'),\n",
       " Text(78, 0, '21'),\n",
       " Text(79, 0, '21st'),\n",
       " Text(80, 0, '21yr'),\n",
       " Text(81, 0, '22'),\n",
       " Text(82, 0, '22nd'),\n",
       " Text(83, 0, '23'),\n",
       " Text(84, 0, '25'),\n",
       " Text(85, 0, '26'),\n",
       " Text(86, 0, '27'),\n",
       " Text(87, 0, '28'),\n",
       " Text(88, 0, '29'),\n",
       " Text(89, 0, '29th'),\n",
       " Text(90, 0, '2nd'),\n",
       " Text(91, 0, '30'),\n",
       " Text(92, 0, '30s'),\n",
       " Text(93, 0, '30th'),\n",
       " Text(94, 0, '31'),\n",
       " Text(95, 0, '32'),\n",
       " Text(96, 0, '34'),\n",
       " Text(97, 0, '36'),\n",
       " Text(98, 0, '37'),\n",
       " Text(99, 0, '3pm'),\n",
       " Text(100, 0, '3rd'),\n",
       " Text(101, 0, '40'),\n",
       " Text(102, 0, '400'),\n",
       " Text(103, 0, '40s'),\n",
       " Text(104, 0, '40th'),\n",
       " Text(105, 0, '40years'),\n",
       " Text(106, 0, '40yrs'),\n",
       " Text(107, 0, '42'),\n",
       " Text(108, 0, '44yr'),\n",
       " Text(109, 0, '45'),\n",
       " Text(110, 0, '45rpm'),\n",
       " Text(111, 0, '45s'),\n",
       " Text(112, 0, '46'),\n",
       " Text(113, 0, '47'),\n",
       " Text(114, 0, '48am'),\n",
       " Text(115, 0, '49'),\n",
       " Text(116, 0, '4th'),\n",
       " Text(117, 0, '50'),\n",
       " Text(118, 0, '500'),\n",
       " Text(119, 0, '50s'),\n",
       " Text(120, 0, '51'),\n",
       " Text(121, 0, '53'),\n",
       " Text(122, 0, '55'),\n",
       " Text(123, 0, '56'),\n",
       " Text(124, 0, '57'),\n",
       " Text(125, 0, '58'),\n",
       " Text(126, 0, '59'),\n",
       " Text(127, 0, '5th'),\n",
       " Text(128, 0, '60'),\n",
       " Text(129, 0, '60s'),\n",
       " Text(130, 0, '60th'),\n",
       " Text(131, 0, '60yrs'),\n",
       " Text(132, 0, '61'),\n",
       " Text(133, 0, '62'),\n",
       " Text(134, 0, '63'),\n",
       " Text(135, 0, '64'),\n",
       " Text(136, 0, '66'),\n",
       " Text(137, 0, '67'),\n",
       " Text(138, 0, '68'),\n",
       " Text(139, 0, '6pm'),\n",
       " Text(140, 0, '6rtr'),\n",
       " Text(141, 0, '6th'),\n",
       " Text(142, 0, '70'),\n",
       " Text(143, 0, '70s'),\n",
       " Text(144, 0, '71'),\n",
       " Text(145, 0, '72'),\n",
       " Text(146, 0, '73'),\n",
       " Text(147, 0, '74'),\n",
       " Text(148, 0, '75'),\n",
       " Text(149, 0, '76'),\n",
       " Text(150, 0, '78'),\n",
       " Text(151, 0, '80'),\n",
       " Text(152, 0, '80s'),\n",
       " Text(153, 0, '82'),\n",
       " Text(154, 0, '86'),\n",
       " Text(155, 0, '88'),\n",
       " Text(156, 0, '89'),\n",
       " Text(157, 0, '8th'),\n",
       " Text(158, 0, '90'),\n",
       " Text(159, 0, '90s'),\n",
       " Text(160, 0, '94'),\n",
       " Text(161, 0, '95'),\n",
       " Text(162, 0, '97'),\n",
       " Text(163, 0, '9th'),\n",
       " Text(164, 0, 'abandant'),\n",
       " Text(165, 0, 'ability'),\n",
       " Text(166, 0, 'able'),\n",
       " Text(167, 0, 'about'),\n",
       " Text(168, 0, 'above'),\n",
       " Text(169, 0, 'abroad'),\n",
       " Text(170, 0, 'absolutely'),\n",
       " Text(171, 0, 'absorbed'),\n",
       " Text(172, 0, 'accent'),\n",
       " Text(173, 0, 'accepting'),\n",
       " Text(174, 0, 'accident'),\n",
       " Text(175, 0, 'accurate'),\n",
       " Text(176, 0, 'acknowledge'),\n",
       " Text(177, 0, 'across'),\n",
       " Text(178, 0, 'act'),\n",
       " Text(179, 0, 'action'),\n",
       " Text(180, 0, 'actor'),\n",
       " Text(181, 0, 'actors'),\n",
       " Text(182, 0, 'actress'),\n",
       " Text(183, 0, 'actresses'),\n",
       " Text(184, 0, 'actually'),\n",
       " Text(185, 0, 'adaline'),\n",
       " Text(186, 0, 'adam'),\n",
       " Text(187, 0, 'add'),\n",
       " Text(188, 0, 'addition'),\n",
       " Text(189, 0, 'additional'),\n",
       " Text(190, 0, 'adds'),\n",
       " Text(191, 0, 'adele'),\n",
       " Text(192, 0, 'admit'),\n",
       " Text(193, 0, 'adorable'),\n",
       " Text(194, 0, 'adore'),\n",
       " Text(195, 0, 'ads'),\n",
       " Text(196, 0, 'adult'),\n",
       " Text(197, 0, 'adults'),\n",
       " Text(198, 0, 'advance'),\n",
       " Text(199, 0, 'advice'),\n",
       " Text(200, 0, 'affair'),\n",
       " Text(201, 0, 'affluence'),\n",
       " Text(202, 0, 'afford'),\n",
       " Text(203, 0, 'affordable'),\n",
       " Text(204, 0, 'afn'),\n",
       " Text(205, 0, 'afraid'),\n",
       " Text(206, 0, 'africa'),\n",
       " Text(207, 0, 'afro'),\n",
       " Text(208, 0, 'after'),\n",
       " Text(209, 0, 'afternoon'),\n",
       " Text(210, 0, 'afterwards'),\n",
       " Text(211, 0, 'afterwords'),\n",
       " Text(212, 0, 'again'),\n",
       " Text(213, 0, 'against'),\n",
       " Text(214, 0, 'age'),\n",
       " Text(215, 0, 'aged'),\n",
       " Text(216, 0, 'ageless'),\n",
       " Text(217, 0, 'ages'),\n",
       " Text(218, 0, 'ago'),\n",
       " Text(219, 0, 'agree'),\n",
       " Text(220, 0, 'ah'),\n",
       " Text(221, 0, 'ahead'),\n",
       " Text(222, 0, 'ain'),\n",
       " Text(223, 0, 'aint'),\n",
       " Text(224, 0, 'air'),\n",
       " Text(225, 0, 'airport'),\n",
       " Text(226, 0, 'aisle'),\n",
       " Text(227, 0, 'alabama'),\n",
       " Text(228, 0, 'alan'),\n",
       " Text(229, 0, 'album'),\n",
       " Text(230, 0, 'albums'),\n",
       " Text(231, 0, 'alike'),\n",
       " Text(232, 0, 'alive'),\n",
       " Text(233, 0, 'all'),\n",
       " Text(234, 0, 'allergies'),\n",
       " Text(235, 0, 'allowance'),\n",
       " Text(236, 0, 'almost'),\n",
       " Text(237, 0, 'alone'),\n",
       " Text(238, 0, 'along'),\n",
       " Text(239, 0, 'alongs'),\n",
       " Text(240, 0, 'aloud'),\n",
       " Text(241, 0, 'already'),\n",
       " Text(242, 0, 'alright'),\n",
       " Text(243, 0, 'also'),\n",
       " Text(244, 0, 'alternative'),\n",
       " Text(245, 0, 'although'),\n",
       " Text(246, 0, 'always'),\n",
       " Text(247, 0, 'am'),\n",
       " Text(248, 0, 'amazing'),\n",
       " Text(249, 0, 'amazingly'),\n",
       " Text(250, 0, 'amen'),\n",
       " Text(251, 0, 'america'),\n",
       " Text(252, 0, 'american'),\n",
       " Text(253, 0, 'ames'),\n",
       " Text(254, 0, 'among'),\n",
       " Text(255, 0, 'amount'),\n",
       " Text(256, 0, 'an'),\n",
       " Text(257, 0, 'ancient'),\n",
       " Text(258, 0, 'and'),\n",
       " Text(259, 0, 'angel'),\n",
       " Text(260, 0, 'angels'),\n",
       " Text(261, 0, 'angst'),\n",
       " Text(262, 0, 'anita'),\n",
       " Text(263, 0, 'anna'),\n",
       " Text(264, 0, 'anniversary'),\n",
       " Text(265, 0, 'announcement'),\n",
       " Text(266, 0, 'annoying'),\n",
       " Text(267, 0, 'another'),\n",
       " Text(268, 0, 'answer'),\n",
       " Text(269, 0, 'anthony'),\n",
       " Text(270, 0, 'anti'),\n",
       " Text(271, 0, 'any'),\n",
       " Text(272, 0, 'anybody'),\n",
       " Text(273, 0, 'anymore'),\n",
       " Text(274, 0, 'anyone'),\n",
       " Text(275, 0, 'anything'),\n",
       " Text(276, 0, 'anytime'),\n",
       " Text(277, 0, 'anyway'),\n",
       " Text(278, 0, 'apart'),\n",
       " Text(279, 0, 'apc'),\n",
       " Text(280, 0, 'apologies'),\n",
       " Text(281, 0, 'apologize'),\n",
       " Text(282, 0, 'apparent'),\n",
       " Text(283, 0, 'apparently'),\n",
       " Text(284, 0, 'appeals'),\n",
       " Text(285, 0, 'appear'),\n",
       " Text(286, 0, 'appearances'),\n",
       " Text(287, 0, 'appeared'),\n",
       " Text(288, 0, 'appears'),\n",
       " Text(289, 0, 'apply'),\n",
       " Text(290, 0, 'appreciate'),\n",
       " Text(291, 0, 'appreciated'),\n",
       " Text(292, 0, 'appreciation'),\n",
       " Text(293, 0, 'april'),\n",
       " Text(294, 0, 'apropos'),\n",
       " Text(295, 0, 'apt'),\n",
       " Text(296, 0, 'are'),\n",
       " Text(297, 0, 'aren'),\n",
       " Text(298, 0, 'arm'),\n",
       " Text(299, 0, 'arms')]"
      ]
     },
     "execution_count": 60,
     "metadata": {},
     "output_type": "execute_result"
    },
    {
     "data": {
      "image/png": "[encoded data removed]",
      "text/plain": [
       "<Figure size 10000x1000 with 1 Axes>"
      ]
     },
     "metadata": {},
     "output_type": "display_data"
    }
   ],
   "source": [
    "plt.subplots(figsize=(100, 10))\n",
    "g = sns.barplot(x=count_vect.get_feature_names_out()[:300], \n",
    "            y=term_frequencies[:300])\n",
    "g.set_xticklabels(count_vect.get_feature_names_out()[:300], rotation = 90)"
   ]
  },
  {
   "cell_type": "markdown",
   "metadata": {},
   "source": [
    "### >>> **Exercise 12 (take home):**"
   ]
  },
  {
   "cell_type": "code",
   "execution_count": 61,
   "metadata": {},
   "outputs": [
    {
     "data": {
      "application/vnd.plotly.v1+json": {
       "config": {
        "plotlyServerURL": "https://plot.ly"
       },
       "data": [
        {
         "alignmentgroup": "True",
         "hovertemplate": "Terms=%{x}<br>Frequencies=%{y}<extra></extra>",
         "legendgroup": "",
         "marker": {
          "color": "#636efa",
          "pattern": {
           "shape": ""
          }
         },
         "name": "",
         "offsetgroup": "",
         "orientation": "v",
         "showlegend": false,
         "textposition": "auto",
         "type": "bar",
         "x": [
          "00",
          "000",
          "045",
          "07",
          "10",
          "100",
          "10m",
          "11",
          "11th",
          "12",
          "13",
          "14",
          "15",
          "150",
          "16",
          "16years",
          "17",
          "17th",
          "18",
          "19",
          "1927",
          "1930",
          "1930s",
          "1950",
          "1950s",
          "1952",
          "1954",
          "1955",
          "1956",
          "1957",
          "1958",
          "1960",
          "1960s",
          "1962",
          "1963",
          "1964",
          "1965",
          "1966",
          "1967",
          "1968",
          "1969",
          "1970",
          "1970s",
          "1973",
          "1974",
          "1975",
          "1976",
          "1977",
          "1979",
          "1980",
          "1980s",
          "1981",
          "1985",
          "1987",
          "1988",
          "1989",
          "1990",
          "1992",
          "1993",
          "1996",
          "1997",
          "1998",
          "1st",
          "20",
          "2000s",
          "2002",
          "2006",
          "2009",
          "2010",
          "2014",
          "2015",
          "2016",
          "2017",
          "2018",
          "2019",
          "2040",
          "20s",
          "20th",
          "21",
          "21st",
          "21yr",
          "22",
          "22nd",
          "23",
          "25",
          "26",
          "27",
          "28",
          "29",
          "29th",
          "2nd",
          "30",
          "30s",
          "30th",
          "31",
          "32",
          "34",
          "36",
          "37",
          "3pm",
          "3rd",
          "40",
          "400",
          "40s",
          "40th",
          "40years",
          "40yrs",
          "42",
          "44yr",
          "45",
          "45rpm",
          "45s",
          "46",
          "47",
          "48am",
          "49",
          "4th",
          "50",
          "500",
          "50s",
          "51",
          "53",
          "55",
          "56",
          "57",
          "58",
          "59",
          "5th",
          "60",
          "60s",
          "60th",
          "60yrs",
          "61",
          "62",
          "63",
          "64",
          "66",
          "67",
          "68",
          "6pm",
          "6rtr",
          "6th",
          "70",
          "70s",
          "71",
          "72",
          "73",
          "74",
          "75",
          "76",
          "78",
          "80",
          "80s",
          "82",
          "86",
          "88",
          "89",
          "8th",
          "90",
          "90s",
          "94",
          "95",
          "97",
          "9th",
          "abandant",
          "ability",
          "able",
          "about",
          "above",
          "abroad",
          "absolutely",
          "absorbed",
          "accent",
          "accepting",
          "accident",
          "accurate",
          "acknowledge",
          "across",
          "act",
          "action",
          "actor",
          "actors",
          "actress",
          "actresses",
          "actually",
          "adaline",
          "adam",
          "add",
          "addition",
          "additional",
          "adds",
          "adele",
          "admit",
          "adorable",
          "adore",
          "ads",
          "adult",
          "adults",
          "advance",
          "advice",
          "affair",
          "affluence",
          "afford",
          "affordable",
          "afn",
          "afraid",
          "africa",
          "afro",
          "after",
          "afternoon",
          "afterwards",
          "afterwords",
          "again",
          "against",
          "age",
          "aged",
          "ageless",
          "ages",
          "ago",
          "agree",
          "ah",
          "ahead",
          "ain",
          "aint",
          "air",
          "airport",
          "aisle",
          "alabama",
          "alan",
          "album",
          "albums",
          "alike",
          "alive",
          "all",
          "allergies",
          "allowance",
          "almost",
          "alone",
          "along",
          "alongs",
          "aloud",
          "already",
          "alright",
          "also",
          "alternative",
          "although",
          "always",
          "am",
          "amazing",
          "amazingly",
          "amen",
          "america",
          "american",
          "ames",
          "among",
          "amount",
          "an",
          "ancient",
          "and",
          "angel",
          "angels",
          "angst",
          "anita",
          "anna",
          "anniversary",
          "announcement",
          "annoying",
          "another",
          "answer",
          "anthony",
          "anti",
          "any",
          "anybody",
          "anymore",
          "anyone",
          "anything",
          "anytime",
          "anyway",
          "apart",
          "apc",
          "apologies",
          "apologize",
          "apparent",
          "apparently",
          "appeals",
          "appear",
          "appearances",
          "appeared",
          "appears",
          "apply",
          "appreciate",
          "appreciated",
          "appreciation",
          "april",
          "apropos",
          "apt",
          "are",
          "aren",
          "arm",
          "arms"
         ],
         "xaxis": "x",
         "y": [
          1,
          2,
          1,
          2,
          16,
          5,
          1,
          8,
          1,
          11,
          8,
          15,
          10,
          2,
          12,
          1,
          13,
          1,
          9,
          6,
          1,
          1,
          1,
          1,
          3,
          2,
          4,
          1,
          1,
          1,
          2,
          5,
          3,
          2,
          12,
          1,
          3,
          10,
          3,
          2,
          2,
          5,
          3,
          7,
          2,
          1,
          4,
          3,
          2,
          7,
          1,
          2,
          2,
          4,
          6,
          2,
          1,
          1,
          1,
          1,
          1,
          2,
          5,
          11,
          1,
          1,
          2,
          2,
          1,
          1,
          2,
          2,
          1,
          8,
          25,
          1,
          1,
          1,
          3,
          1,
          1,
          2,
          1,
          1,
          4,
          1,
          3,
          3,
          3,
          1,
          2,
          11,
          1,
          2,
          2,
          2,
          1,
          1,
          1,
          1,
          1,
          13,
          1,
          1,
          2,
          1,
          1,
          2,
          1,
          4,
          1,
          2,
          1,
          5,
          1,
          1,
          1,
          20,
          1,
          7,
          1,
          3,
          4,
          2,
          3,
          2,
          2,
          1,
          28,
          20,
          1,
          1,
          1,
          3,
          2,
          2,
          2,
          4,
          1,
          1,
          1,
          2,
          24,
          17,
          2,
          1,
          3,
          1,
          1,
          3,
          1,
          19,
          16,
          1,
          1,
          1,
          1,
          1,
          6,
          6,
          2,
          1,
          1,
          1,
          1,
          1,
          9,
          82,
          2,
          1,
          14,
          1,
          1,
          1,
          2,
          1,
          1,
          3,
          1,
          1,
          1,
          2,
          4,
          1,
          11,
          1,
          1,
          3,
          1,
          1,
          1,
          1,
          3,
          1,
          3,
          1,
          3,
          2,
          2,
          1,
          1,
          1,
          1,
          1,
          1,
          2,
          1,
          2,
          47,
          3,
          1,
          1,
          55,
          3,
          35,
          3,
          1,
          2,
          46,
          7,
          2,
          2,
          4,
          1,
          2,
          1,
          1,
          1,
          1,
          10,
          3,
          1,
          9,
          181,
          1,
          1,
          17,
          4,
          14,
          1,
          1,
          7,
          1,
          18,
          1,
          8,
          127,
          94,
          34,
          3,
          2,
          3,
          2,
          3,
          3,
          2,
          73,
          1,
          923,
          10,
          1,
          1,
          1,
          1,
          1,
          1,
          1,
          26,
          1,
          1,
          1,
          26,
          7,
          22,
          22,
          9,
          3,
          2,
          3,
          1,
          1,
          1,
          1,
          2,
          1,
          2,
          1,
          2,
          1,
          1,
          10,
          4,
          2,
          2,
          1,
          1,
          103,
          4,
          2,
          2
         ],
         "yaxis": "y"
        }
       ],
       "layout": {
        "barmode": "relative",
        "legend": {
         "tracegroupgap": 0
        },
        "template": {
         "data": {
          "bar": [
           {
            "error_x": {
             "color": "#2a3f5f"
            },
            "error_y": {
             "color": "#2a3f5f"
            },
            "marker": {
             "line": {
              "color": "#E5ECF6",
              "width": 0.5
             },
             "pattern": {
              "fillmode": "overlay",
              "size": 10,
              "solidity": 0.2
             }
            },
            "type": "bar"
           }
          ],
          "barpolar": [
           {
            "marker": {
             "line": {
              "color": "#E5ECF6",
              "width": 0.5
             },
             "pattern": {
              "fillmode": "overlay",
              "size": 10,
              "solidity": 0.2
             }
            },
            "type": "barpolar"
           }
          ],
          "carpet": [
           {
            "aaxis": {
             "endlinecolor": "#2a3f5f",
             "gridcolor": "white",
             "linecolor": "white",
             "minorgridcolor": "white",
             "startlinecolor": "#2a3f5f"
            },
            "baxis": {
             "endlinecolor": "#2a3f5f",
             "gridcolor": "white",
             "linecolor": "white",
             "minorgridcolor": "white",
             "startlinecolor": "#2a3f5f"
            },
            "type": "carpet"
           }
          ],
          "choropleth": [
           {
            "colorbar": {
             "outlinewidth": 0,
             "ticks": ""
            },
            "type": "choropleth"
           }
          ],
          "contour": [
           {
            "colorbar": {
             "outlinewidth": 0,
             "ticks": ""
            },
            "colorscale": [
             [
              0,
              "#0d0887"
             ],
             [
              0.1111111111111111,
              "#46039f"
             ],
             [
              0.2222222222222222,
              "#7201a8"
             ],
             [
              0.3333333333333333,
              "#9c179e"
             ],
             [
              0.4444444444444444,
              "#bd3786"
             ],
             [
              0.5555555555555556,
              "#d8576b"
             ],
             [
              0.6666666666666666,
              "#ed7953"
             ],
             [
              0.7777777777777778,
              "#fb9f3a"
             ],
             [
              0.8888888888888888,
              "#fdca26"
             ],
             [
              1,
              "#f0f921"
             ]
            ],
            "type": "contour"
           }
          ],
          "contourcarpet": [
           {
            "colorbar": {
             "outlinewidth": 0,
             "ticks": ""
            },
            "type": "contourcarpet"
           }
          ],
          "heatmap": [
           {
            "colorbar": {
             "outlinewidth": 0,
             "ticks": ""
            },
            "colorscale": [
             [
              0,
              "#0d0887"
             ],
             [
              0.1111111111111111,
              "#46039f"
             ],
             [
              0.2222222222222222,
              "#7201a8"
             ],
             [
              0.3333333333333333,
              "#9c179e"
             ],
             [
              0.4444444444444444,
              "#bd3786"
             ],
             [
              0.5555555555555556,
              "#d8576b"
             ],
             [
              0.6666666666666666,
              "#ed7953"
             ],
             [
              0.7777777777777778,
              "#fb9f3a"
             ],
             [
              0.8888888888888888,
              "#fdca26"
             ],
             [
              1,
              "#f0f921"
             ]
            ],
            "type": "heatmap"
           }
          ],
          "heatmapgl": [
           {
            "colorbar": {
             "outlinewidth": 0,
             "ticks": ""
            },
            "colorscale": [
             [
              0,
              "#0d0887"
             ],
             [
              0.1111111111111111,
              "#46039f"
             ],
             [
              0.2222222222222222,
              "#7201a8"
             ],
             [
              0.3333333333333333,
              "#9c179e"
             ],
             [
              0.4444444444444444,
              "#bd3786"
             ],
             [
              0.5555555555555556,
              "#d8576b"
             ],
             [
              0.6666666666666666,
              "#ed7953"
             ],
             [
              0.7777777777777778,
              "#fb9f3a"
             ],
             [
              0.8888888888888888,
              "#fdca26"
             ],
             [
              1,
              "#f0f921"
             ]
            ],
            "type": "heatmapgl"
           }
          ],
          "histogram": [
           {
            "marker": {
             "pattern": {
              "fillmode": "overlay",
              "size": 10,
              "solidity": 0.2
             }
            },
            "type": "histogram"
           }
          ],
          "histogram2d": [
           {
            "colorbar": {
             "outlinewidth": 0,
             "ticks": ""
            },
            "colorscale": [
             [
              0,
              "#0d0887"
             ],
             [
              0.1111111111111111,
              "#46039f"
             ],
             [
              0.2222222222222222,
              "#7201a8"
             ],
             [
              0.3333333333333333,
              "#9c179e"
             ],
             [
              0.4444444444444444,
              "#bd3786"
             ],
             [
              0.5555555555555556,
              "#d8576b"
             ],
             [
              0.6666666666666666,
              "#ed7953"
             ],
             [
              0.7777777777777778,
              "#fb9f3a"
             ],
             [
              0.8888888888888888,
              "#fdca26"
             ],
             [
              1,
              "#f0f921"
             ]
            ],
            "type": "histogram2d"
           }
          ],
          "histogram2dcontour": [
           {
            "colorbar": {
             "outlinewidth": 0,
             "ticks": ""
            },
            "colorscale": [
             [
              0,
              "#0d0887"
             ],
             [
              0.1111111111111111,
              "#46039f"
             ],
             [
              0.2222222222222222,
              "#7201a8"
             ],
             [
              0.3333333333333333,
              "#9c179e"
             ],
             [
              0.4444444444444444,
              "#bd3786"
             ],
             [
              0.5555555555555556,
              "#d8576b"
             ],
             [
              0.6666666666666666,
              "#ed7953"
             ],
             [
              0.7777777777777778,
              "#fb9f3a"
             ],
             [
              0.8888888888888888,
              "#fdca26"
             ],
             [
              1,
              "#f0f921"
             ]
            ],
            "type": "histogram2dcontour"
           }
          ],
          "mesh3d": [
           {
            "colorbar": {
             "outlinewidth": 0,
             "ticks": ""
            },
            "type": "mesh3d"
           }
          ],
          "parcoords": [
           {
            "line": {
             "colorbar": {
              "outlinewidth": 0,
              "ticks": ""
             }
            },
            "type": "parcoords"
           }
          ],
          "pie": [
           {
            "automargin": true,
            "type": "pie"
           }
          ],
          "scatter": [
           {
            "fillpattern": {
             "fillmode": "overlay",
             "size": 10,
             "solidity": 0.2
            },
            "type": "scatter"
           }
          ],
          "scatter3d": [
           {
            "line": {
             "colorbar": {
              "outlinewidth": 0,
              "ticks": ""
             }
            },
            "marker": {
             "colorbar": {
              "outlinewidth": 0,
              "ticks": ""
             }
            },
            "type": "scatter3d"
           }
          ],
          "scattercarpet": [
           {
            "marker": {
             "colorbar": {
              "outlinewidth": 0,
              "ticks": ""
             }
            },
            "type": "scattercarpet"
           }
          ],
          "scattergeo": [
           {
            "marker": {
             "colorbar": {
              "outlinewidth": 0,
              "ticks": ""
             }
            },
            "type": "scattergeo"
           }
          ],
          "scattergl": [
           {
            "marker": {
             "colorbar": {
              "outlinewidth": 0,
              "ticks": ""
             }
            },
            "type": "scattergl"
           }
          ],
          "scattermapbox": [
           {
            "marker": {
             "colorbar": {
              "outlinewidth": 0,
              "ticks": ""
             }
            },
            "type": "scattermapbox"
           }
          ],
          "scatterpolar": [
           {
            "marker": {
             "colorbar": {
              "outlinewidth": 0,
              "ticks": ""
             }
            },
            "type": "scatterpolar"
           }
          ],
          "scatterpolargl": [
           {
            "marker": {
             "colorbar": {
              "outlinewidth": 0,
              "ticks": ""
             }
            },
            "type": "scatterpolargl"
           }
          ],
          "scatterternary": [
           {
            "marker": {
             "colorbar": {
              "outlinewidth": 0,
              "ticks": ""
             }
            },
            "type": "scatterternary"
           }
          ],
          "surface": [
           {
            "colorbar": {
             "outlinewidth": 0,
             "ticks": ""
            },
            "colorscale": [
             [
              0,
              "#0d0887"
             ],
             [
              0.1111111111111111,
              "#46039f"
             ],
             [
              0.2222222222222222,
              "#7201a8"
             ],
             [
              0.3333333333333333,
              "#9c179e"
             ],
             [
              0.4444444444444444,
              "#bd3786"
             ],
             [
              0.5555555555555556,
              "#d8576b"
             ],
             [
              0.6666666666666666,
              "#ed7953"
             ],
             [
              0.7777777777777778,
              "#fb9f3a"
             ],
             [
              0.8888888888888888,
              "#fdca26"
             ],
             [
              1,
              "#f0f921"
             ]
            ],
            "type": "surface"
           }
          ],
          "table": [
           {
            "cells": {
             "fill": {
              "color": "#EBF0F8"
             },
             "line": {
              "color": "white"
             }
            },
            "header": {
             "fill": {
              "color": "#C8D4E3"
             },
             "line": {
              "color": "white"
             }
            },
            "type": "table"
           }
          ]
         },
         "layout": {
          "annotationdefaults": {
           "arrowcolor": "#2a3f5f",
           "arrowhead": 0,
           "arrowwidth": 1
          },
          "autotypenumbers": "strict",
          "coloraxis": {
           "colorbar": {
            "outlinewidth": 0,
            "ticks": ""
           }
          },
          "colorscale": {
           "diverging": [
            [
             0,
             "#8e0152"
            ],
            [
             0.1,
             "#c51b7d"
            ],
            [
             0.2,
             "#de77ae"
            ],
            [
             0.3,
             "#f1b6da"
            ],
            [
             0.4,
             "#fde0ef"
            ],
            [
             0.5,
             "#f7f7f7"
            ],
            [
             0.6,
             "#e6f5d0"
            ],
            [
             0.7,
             "#b8e186"
            ],
            [
             0.8,
             "#7fbc41"
            ],
            [
             0.9,
             "#4d9221"
            ],
            [
             1,
             "#276419"
            ]
           ],
           "sequential": [
            [
             0,
             "#0d0887"
            ],
            [
             0.1111111111111111,
             "#46039f"
            ],
            [
             0.2222222222222222,
             "#7201a8"
            ],
            [
             0.3333333333333333,
             "#9c179e"
            ],
            [
             0.4444444444444444,
             "#bd3786"
            ],
            [
             0.5555555555555556,
             "#d8576b"
            ],
            [
             0.6666666666666666,
             "#ed7953"
            ],
            [
             0.7777777777777778,
             "#fb9f3a"
            ],
            [
             0.8888888888888888,
             "#fdca26"
            ],
            [
             1,
             "#f0f921"
            ]
           ],
           "sequentialminus": [
            [
             0,
             "#0d0887"
            ],
            [
             0.1111111111111111,
             "#46039f"
            ],
            [
             0.2222222222222222,
             "#7201a8"
            ],
            [
             0.3333333333333333,
             "#9c179e"
            ],
            [
             0.4444444444444444,
             "#bd3786"
            ],
            [
             0.5555555555555556,
             "#d8576b"
            ],
            [
             0.6666666666666666,
             "#ed7953"
            ],
            [
             0.7777777777777778,
             "#fb9f3a"
            ],
            [
             0.8888888888888888,
             "#fdca26"
            ],
            [
             1,
             "#f0f921"
            ]
           ]
          },
          "colorway": [
           "#636efa",
           "#EF553B",
           "#00cc96",
           "#ab63fa",
           "#FFA15A",
           "#19d3f3",
           "#FF6692",
           "#B6E880",
           "#FF97FF",
           "#FECB52"
          ],
          "font": {
           "color": "#2a3f5f"
          },
          "geo": {
           "bgcolor": "white",
           "lakecolor": "white",
           "landcolor": "#E5ECF6",
           "showlakes": true,
           "showland": true,
           "subunitcolor": "white"
          },
          "hoverlabel": {
           "align": "left"
          },
          "hovermode": "closest",
          "mapbox": {
           "style": "light"
          },
          "paper_bgcolor": "white",
          "plot_bgcolor": "#E5ECF6",
          "polar": {
           "angularaxis": {
            "gridcolor": "white",
            "linecolor": "white",
            "ticks": ""
           },
           "bgcolor": "#E5ECF6",
           "radialaxis": {
            "gridcolor": "white",
            "linecolor": "white",
            "ticks": ""
           }
          },
          "scene": {
           "xaxis": {
            "backgroundcolor": "#E5ECF6",
            "gridcolor": "white",
            "gridwidth": 2,
            "linecolor": "white",
            "showbackground": true,
            "ticks": "",
            "zerolinecolor": "white"
           },
           "yaxis": {
            "backgroundcolor": "#E5ECF6",
            "gridcolor": "white",
            "gridwidth": 2,
            "linecolor": "white",
            "showbackground": true,
            "ticks": "",
            "zerolinecolor": "white"
           },
           "zaxis": {
            "backgroundcolor": "#E5ECF6",
            "gridcolor": "white",
            "gridwidth": 2,
            "linecolor": "white",
            "showbackground": true,
            "ticks": "",
            "zerolinecolor": "white"
           }
          },
          "shapedefaults": {
           "line": {
            "color": "#2a3f5f"
           }
          },
          "ternary": {
           "aaxis": {
            "gridcolor": "white",
            "linecolor": "white",
            "ticks": ""
           },
           "baxis": {
            "gridcolor": "white",
            "linecolor": "white",
            "ticks": ""
           },
           "bgcolor": "#E5ECF6",
           "caxis": {
            "gridcolor": "white",
            "linecolor": "white",
            "ticks": ""
           }
          },
          "title": {
           "x": 0.05
          },
          "xaxis": {
           "automargin": true,
           "gridcolor": "white",
           "linecolor": "white",
           "ticks": "",
           "title": {
            "standoff": 15
           },
           "zerolinecolor": "white",
           "zerolinewidth": 2
          },
          "yaxis": {
           "automargin": true,
           "gridcolor": "white",
           "linecolor": "white",
           "ticks": "",
           "title": {
            "standoff": 15
           },
           "zerolinecolor": "white",
           "zerolinewidth": 2
          }
         }
        },
        "title": {
         "text": "Term Frequencies"
        },
        "xaxis": {
         "anchor": "y",
         "domain": [
          0,
          1
         ],
         "tickangle": -90,
         "title": {
          "text": "Terms"
         }
        },
        "yaxis": {
         "anchor": "x",
         "domain": [
          0,
          1
         ],
         "title": {
          "text": "Frequencies"
         }
        }
       }
      }
     },
     "metadata": {},
     "output_type": "display_data"
    }
   ],
   "source": [
    "# Answer here\n",
    "import plotly.express as px\n",
    "import pandas as pd\n",
    "\n",
    "# Transform term frequencies into a DataFrame for plotting\n",
    "df = pd.DataFrame({\n",
    "    \"Terms\": count_vect.get_feature_names_out()[:300],  # First 300 terms\n",
    "    \"Frequencies\": term_frequencies[:300]              # Corresponding frequencies\n",
    "})\n",
    "\n",
    "# Use Plotly to create a bar chart\n",
    "fig = px.bar(df, x='Terms', y='Frequencies', title=\"Term Frequencies\", labels={'Terms': 'Terms', 'Frequencies': 'Frequencies'})\n",
    "\n",
    "# Rotate x-axis labels to avoid crowding\n",
    "fig.update_layout(xaxis_tickangle=-90)\n",
    "\n",
    "# Display the plot\n",
    "fig.show()"
   ]
  },
  {
   "cell_type": "markdown",
   "metadata": {},
   "source": [
    "### >>> **Exercise 13 (take home):** "
   ]
  },
  {
   "cell_type": "code",
   "execution_count": 62,
   "metadata": {},
   "outputs": [
    {
     "data": {
      "application/vnd.plotly.v1+json": {
       "config": {
        "plotlyServerURL": "https://plot.ly"
       },
       "data": [
        {
         "alignmentgroup": "True",
         "hovertemplate": "Terms=%{x}<br>Frequencies=%{y}<extra></extra>",
         "legendgroup": "",
         "marker": {
          "color": "#636efa",
          "pattern": {
           "shape": ""
          }
         },
         "name": "",
         "offsetgroup": "",
         "orientation": "v",
         "showlegend": false,
         "textposition": "auto",
         "type": "bar",
         "x": [
          "remember",
          "can",
          "now",
          "not",
          "what",
          "voice",
          "good",
          "from",
          "at",
          "be",
          "she",
          "we",
          "her",
          "just",
          "old",
          "songs",
          "one",
          "like",
          "as",
          "beautiful",
          "he",
          "all",
          "years",
          "have",
          "but",
          "great",
          "time",
          "with",
          "on",
          "memories",
          "music",
          "for",
          "back",
          "when",
          "love",
          "so",
          "that",
          "you",
          "is",
          "me",
          "was",
          "it",
          "in",
          "of",
          "song",
          "my",
          "and",
          "to",
          "this",
          "the"
         ],
         "xaxis": "x",
         "y": [
          132,
          136,
          137,
          137,
          138,
          138,
          138,
          139,
          139,
          139,
          142,
          143,
          153,
          154,
          159,
          160,
          167,
          169,
          171,
          172,
          178,
          181,
          184,
          186,
          195,
          209,
          213,
          222,
          240,
          244,
          267,
          278,
          290,
          299,
          309,
          315,
          360,
          367,
          375,
          388,
          584,
          586,
          612,
          722,
          749,
          765,
          923,
          937,
          998,
          1351
         ],
         "yaxis": "y"
        }
       ],
       "layout": {
        "barmode": "relative",
        "legend": {
         "tracegroupgap": 0
        },
        "template": {
         "data": {
          "bar": [
           {
            "error_x": {
             "color": "#2a3f5f"
            },
            "error_y": {
             "color": "#2a3f5f"
            },
            "marker": {
             "line": {
              "color": "#E5ECF6",
              "width": 0.5
             },
             "pattern": {
              "fillmode": "overlay",
              "size": 10,
              "solidity": 0.2
             }
            },
            "type": "bar"
           }
          ],
          "barpolar": [
           {
            "marker": {
             "line": {
              "color": "#E5ECF6",
              "width": 0.5
             },
             "pattern": {
              "fillmode": "overlay",
              "size": 10,
              "solidity": 0.2
             }
            },
            "type": "barpolar"
           }
          ],
          "carpet": [
           {
            "aaxis": {
             "endlinecolor": "#2a3f5f",
             "gridcolor": "white",
             "linecolor": "white",
             "minorgridcolor": "white",
             "startlinecolor": "#2a3f5f"
            },
            "baxis": {
             "endlinecolor": "#2a3f5f",
             "gridcolor": "white",
             "linecolor": "white",
             "minorgridcolor": "white",
             "startlinecolor": "#2a3f5f"
            },
            "type": "carpet"
           }
          ],
          "choropleth": [
           {
            "colorbar": {
             "outlinewidth": 0,
             "ticks": ""
            },
            "type": "choropleth"
           }
          ],
          "contour": [
           {
            "colorbar": {
             "outlinewidth": 0,
             "ticks": ""
            },
            "colorscale": [
             [
              0,
              "#0d0887"
             ],
             [
              0.1111111111111111,
              "#46039f"
             ],
             [
              0.2222222222222222,
              "#7201a8"
             ],
             [
              0.3333333333333333,
              "#9c179e"
             ],
             [
              0.4444444444444444,
              "#bd3786"
             ],
             [
              0.5555555555555556,
              "#d8576b"
             ],
             [
              0.6666666666666666,
              "#ed7953"
             ],
             [
              0.7777777777777778,
              "#fb9f3a"
             ],
             [
              0.8888888888888888,
              "#fdca26"
             ],
             [
              1,
              "#f0f921"
             ]
            ],
            "type": "contour"
           }
          ],
          "contourcarpet": [
           {
            "colorbar": {
             "outlinewidth": 0,
             "ticks": ""
            },
            "type": "contourcarpet"
           }
          ],
          "heatmap": [
           {
            "colorbar": {
             "outlinewidth": 0,
             "ticks": ""
            },
            "colorscale": [
             [
              0,
              "#0d0887"
             ],
             [
              0.1111111111111111,
              "#46039f"
             ],
             [
              0.2222222222222222,
              "#7201a8"
             ],
             [
              0.3333333333333333,
              "#9c179e"
             ],
             [
              0.4444444444444444,
              "#bd3786"
             ],
             [
              0.5555555555555556,
              "#d8576b"
             ],
             [
              0.6666666666666666,
              "#ed7953"
             ],
             [
              0.7777777777777778,
              "#fb9f3a"
             ],
             [
              0.8888888888888888,
              "#fdca26"
             ],
             [
              1,
              "#f0f921"
             ]
            ],
            "type": "heatmap"
           }
          ],
          "heatmapgl": [
           {
            "colorbar": {
             "outlinewidth": 0,
             "ticks": ""
            },
            "colorscale": [
             [
              0,
              "#0d0887"
             ],
             [
              0.1111111111111111,
              "#46039f"
             ],
             [
              0.2222222222222222,
              "#7201a8"
             ],
             [
              0.3333333333333333,
              "#9c179e"
             ],
             [
              0.4444444444444444,
              "#bd3786"
             ],
             [
              0.5555555555555556,
              "#d8576b"
             ],
             [
              0.6666666666666666,
              "#ed7953"
             ],
             [
              0.7777777777777778,
              "#fb9f3a"
             ],
             [
              0.8888888888888888,
              "#fdca26"
             ],
             [
              1,
              "#f0f921"
             ]
            ],
            "type": "heatmapgl"
           }
          ],
          "histogram": [
           {
            "marker": {
             "pattern": {
              "fillmode": "overlay",
              "size": 10,
              "solidity": 0.2
             }
            },
            "type": "histogram"
           }
          ],
          "histogram2d": [
           {
            "colorbar": {
             "outlinewidth": 0,
             "ticks": ""
            },
            "colorscale": [
             [
              0,
              "#0d0887"
             ],
             [
              0.1111111111111111,
              "#46039f"
             ],
             [
              0.2222222222222222,
              "#7201a8"
             ],
             [
              0.3333333333333333,
              "#9c179e"
             ],
             [
              0.4444444444444444,
              "#bd3786"
             ],
             [
              0.5555555555555556,
              "#d8576b"
             ],
             [
              0.6666666666666666,
              "#ed7953"
             ],
             [
              0.7777777777777778,
              "#fb9f3a"
             ],
             [
              0.8888888888888888,
              "#fdca26"
             ],
             [
              1,
              "#f0f921"
             ]
            ],
            "type": "histogram2d"
           }
          ],
          "histogram2dcontour": [
           {
            "colorbar": {
             "outlinewidth": 0,
             "ticks": ""
            },
            "colorscale": [
             [
              0,
              "#0d0887"
             ],
             [
              0.1111111111111111,
              "#46039f"
             ],
             [
              0.2222222222222222,
              "#7201a8"
             ],
             [
              0.3333333333333333,
              "#9c179e"
             ],
             [
              0.4444444444444444,
              "#bd3786"
             ],
             [
              0.5555555555555556,
              "#d8576b"
             ],
             [
              0.6666666666666666,
              "#ed7953"
             ],
             [
              0.7777777777777778,
              "#fb9f3a"
             ],
             [
              0.8888888888888888,
              "#fdca26"
             ],
             [
              1,
              "#f0f921"
             ]
            ],
            "type": "histogram2dcontour"
           }
          ],
          "mesh3d": [
           {
            "colorbar": {
             "outlinewidth": 0,
             "ticks": ""
            },
            "type": "mesh3d"
           }
          ],
          "parcoords": [
           {
            "line": {
             "colorbar": {
              "outlinewidth": 0,
              "ticks": ""
             }
            },
            "type": "parcoords"
           }
          ],
          "pie": [
           {
            "automargin": true,
            "type": "pie"
           }
          ],
          "scatter": [
           {
            "fillpattern": {
             "fillmode": "overlay",
             "size": 10,
             "solidity": 0.2
            },
            "type": "scatter"
           }
          ],
          "scatter3d": [
           {
            "line": {
             "colorbar": {
              "outlinewidth": 0,
              "ticks": ""
             }
            },
            "marker": {
             "colorbar": {
              "outlinewidth": 0,
              "ticks": ""
             }
            },
            "type": "scatter3d"
           }
          ],
          "scattercarpet": [
           {
            "marker": {
             "colorbar": {
              "outlinewidth": 0,
              "ticks": ""
             }
            },
            "type": "scattercarpet"
           }
          ],
          "scattergeo": [
           {
            "marker": {
             "colorbar": {
              "outlinewidth": 0,
              "ticks": ""
             }
            },
            "type": "scattergeo"
           }
          ],
          "scattergl": [
           {
            "marker": {
             "colorbar": {
              "outlinewidth": 0,
              "ticks": ""
             }
            },
            "type": "scattergl"
           }
          ],
          "scattermapbox": [
           {
            "marker": {
             "colorbar": {
              "outlinewidth": 0,
              "ticks": ""
             }
            },
            "type": "scattermapbox"
           }
          ],
          "scatterpolar": [
           {
            "marker": {
             "colorbar": {
              "outlinewidth": 0,
              "ticks": ""
             }
            },
            "type": "scatterpolar"
           }
          ],
          "scatterpolargl": [
           {
            "marker": {
             "colorbar": {
              "outlinewidth": 0,
              "ticks": ""
             }
            },
            "type": "scatterpolargl"
           }
          ],
          "scatterternary": [
           {
            "marker": {
             "colorbar": {
              "outlinewidth": 0,
              "ticks": ""
             }
            },
            "type": "scatterternary"
           }
          ],
          "surface": [
           {
            "colorbar": {
             "outlinewidth": 0,
             "ticks": ""
            },
            "colorscale": [
             [
              0,
              "#0d0887"
             ],
             [
              0.1111111111111111,
              "#46039f"
             ],
             [
              0.2222222222222222,
              "#7201a8"
             ],
             [
              0.3333333333333333,
              "#9c179e"
             ],
             [
              0.4444444444444444,
              "#bd3786"
             ],
             [
              0.5555555555555556,
              "#d8576b"
             ],
             [
              0.6666666666666666,
              "#ed7953"
             ],
             [
              0.7777777777777778,
              "#fb9f3a"
             ],
             [
              0.8888888888888888,
              "#fdca26"
             ],
             [
              1,
              "#f0f921"
             ]
            ],
            "type": "surface"
           }
          ],
          "table": [
           {
            "cells": {
             "fill": {
              "color": "#EBF0F8"
             },
             "line": {
              "color": "white"
             }
            },
            "header": {
             "fill": {
              "color": "#C8D4E3"
             },
             "line": {
              "color": "white"
             }
            },
            "type": "table"
           }
          ]
         },
         "layout": {
          "annotationdefaults": {
           "arrowcolor": "#2a3f5f",
           "arrowhead": 0,
           "arrowwidth": 1
          },
          "autotypenumbers": "strict",
          "coloraxis": {
           "colorbar": {
            "outlinewidth": 0,
            "ticks": ""
           }
          },
          "colorscale": {
           "diverging": [
            [
             0,
             "#8e0152"
            ],
            [
             0.1,
             "#c51b7d"
            ],
            [
             0.2,
             "#de77ae"
            ],
            [
             0.3,
             "#f1b6da"
            ],
            [
             0.4,
             "#fde0ef"
            ],
            [
             0.5,
             "#f7f7f7"
            ],
            [
             0.6,
             "#e6f5d0"
            ],
            [
             0.7,
             "#b8e186"
            ],
            [
             0.8,
             "#7fbc41"
            ],
            [
             0.9,
             "#4d9221"
            ],
            [
             1,
             "#276419"
            ]
           ],
           "sequential": [
            [
             0,
             "#0d0887"
            ],
            [
             0.1111111111111111,
             "#46039f"
            ],
            [
             0.2222222222222222,
             "#7201a8"
            ],
            [
             0.3333333333333333,
             "#9c179e"
            ],
            [
             0.4444444444444444,
             "#bd3786"
            ],
            [
             0.5555555555555556,
             "#d8576b"
            ],
            [
             0.6666666666666666,
             "#ed7953"
            ],
            [
             0.7777777777777778,
             "#fb9f3a"
            ],
            [
             0.8888888888888888,
             "#fdca26"
            ],
            [
             1,
             "#f0f921"
            ]
           ],
           "sequentialminus": [
            [
             0,
             "#0d0887"
            ],
            [
             0.1111111111111111,
             "#46039f"
            ],
            [
             0.2222222222222222,
             "#7201a8"
            ],
            [
             0.3333333333333333,
             "#9c179e"
            ],
            [
             0.4444444444444444,
             "#bd3786"
            ],
            [
             0.5555555555555556,
             "#d8576b"
            ],
            [
             0.6666666666666666,
             "#ed7953"
            ],
            [
             0.7777777777777778,
             "#fb9f3a"
            ],
            [
             0.8888888888888888,
             "#fdca26"
            ],
            [
             1,
             "#f0f921"
            ]
           ]
          },
          "colorway": [
           "#636efa",
           "#EF553B",
           "#00cc96",
           "#ab63fa",
           "#FFA15A",
           "#19d3f3",
           "#FF6692",
           "#B6E880",
           "#FF97FF",
           "#FECB52"
          ],
          "font": {
           "color": "#2a3f5f"
          },
          "geo": {
           "bgcolor": "white",
           "lakecolor": "white",
           "landcolor": "#E5ECF6",
           "showlakes": true,
           "showland": true,
           "subunitcolor": "white"
          },
          "hoverlabel": {
           "align": "left"
          },
          "hovermode": "closest",
          "mapbox": {
           "style": "light"
          },
          "paper_bgcolor": "white",
          "plot_bgcolor": "#E5ECF6",
          "polar": {
           "angularaxis": {
            "gridcolor": "white",
            "linecolor": "white",
            "ticks": ""
           },
           "bgcolor": "#E5ECF6",
           "radialaxis": {
            "gridcolor": "white",
            "linecolor": "white",
            "ticks": ""
           }
          },
          "scene": {
           "xaxis": {
            "backgroundcolor": "#E5ECF6",
            "gridcolor": "white",
            "gridwidth": 2,
            "linecolor": "white",
            "showbackground": true,
            "ticks": "",
            "zerolinecolor": "white"
           },
           "yaxis": {
            "backgroundcolor": "#E5ECF6",
            "gridcolor": "white",
            "gridwidth": 2,
            "linecolor": "white",
            "showbackground": true,
            "ticks": "",
            "zerolinecolor": "white"
           },
           "zaxis": {
            "backgroundcolor": "#E5ECF6",
            "gridcolor": "white",
            "gridwidth": 2,
            "linecolor": "white",
            "showbackground": true,
            "ticks": "",
            "zerolinecolor": "white"
           }
          },
          "shapedefaults": {
           "line": {
            "color": "#2a3f5f"
           }
          },
          "ternary": {
           "aaxis": {
            "gridcolor": "white",
            "linecolor": "white",
            "ticks": ""
           },
           "baxis": {
            "gridcolor": "white",
            "linecolor": "white",
            "ticks": ""
           },
           "bgcolor": "#E5ECF6",
           "caxis": {
            "gridcolor": "white",
            "linecolor": "white",
            "ticks": ""
           }
          },
          "title": {
           "x": 0.05
          },
          "xaxis": {
           "automargin": true,
           "gridcolor": "white",
           "linecolor": "white",
           "ticks": "",
           "title": {
            "standoff": 15
           },
           "zerolinecolor": "white",
           "zerolinewidth": 2
          },
          "yaxis": {
           "automargin": true,
           "gridcolor": "white",
           "linecolor": "white",
           "ticks": "",
           "title": {
            "standoff": 15
           },
           "zerolinecolor": "white",
           "zerolinewidth": 2
          }
         }
        },
        "title": {
         "text": "Top 50 Term Frequencies"
        },
        "xaxis": {
         "anchor": "y",
         "domain": [
          0,
          1
         ],
         "tickangle": -90,
         "title": {
          "text": "Terms"
         }
        },
        "yaxis": {
         "anchor": "x",
         "domain": [
          0,
          1
         ],
         "title": {
          "text": "Frequencies"
         }
        }
       }
      }
     },
     "metadata": {},
     "output_type": "display_data"
    }
   ],
   "source": [
    "# Answer here\n",
    "import numpy as np\n",
    "import plotly.express as px\n",
    "import pandas as pd\n",
    "\n",
    "# Step 1: Calculate the total frequency of each term\n",
    "term_frequencies = np.asarray(X_counts_youtube.sum(axis=0)).flatten()\n",
    "\n",
    "# Step 2: Select the top 50 terms with the highest frequencies\n",
    "top_n = 50\n",
    "top_term_indices = term_frequencies.argsort()[-top_n:]  # Find the indices of the most frequent terms\n",
    "\n",
    "# Step 3: Create a DataFrame to pair these terms with their frequencies\n",
    "df = pd.DataFrame({\n",
    "    \"Terms\": count_vect.get_feature_names_out()[top_term_indices],  # Top 50 terms\n",
    "    \"Frequencies\": term_frequencies[top_term_indices]  # Corresponding frequencies\n",
    "})\n",
    "\n",
    "# Step 4: Use Plotly to create an interactive bar chart\n",
    "fig = px.bar(df, x='Terms', y='Frequencies', title=\"Top 50 Term Frequencies\", labels={'Terms': 'Terms', 'Frequencies': 'Frequencies'})\n",
    "\n",
    "# Step 5: Rotate x-axis labels to avoid crowding\n",
    "fig.update_layout(xaxis_tickangle=-90)\n",
    "\n",
    "# Step 6: Display the plot\n",
    "fig.show()"
   ]
  },
  {
   "cell_type": "markdown",
   "metadata": {},
   "source": [
    "### >>> **Exercise 14 (take home):** "
   ]
  },
  {
   "cell_type": "code",
   "execution_count": 63,
   "metadata": {},
   "outputs": [
    {
     "data": {
      "application/vnd.plotly.v1+json": {
       "config": {
        "plotlyServerURL": "https://plot.ly"
       },
       "data": [
        {
         "alignmentgroup": "True",
         "hovertemplate": "Terms=%{x}<br>Frequencies=%{y}<extra></extra>",
         "legendgroup": "",
         "marker": {
          "color": "#636efa",
          "pattern": {
           "shape": ""
          }
         },
         "name": "",
         "offsetgroup": "",
         "orientation": "v",
         "showlegend": false,
         "textposition": "auto",
         "type": "bar",
         "x": [
          "the",
          "this",
          "to",
          "and",
          "my",
          "song",
          "of",
          "in",
          "it",
          "was",
          "me",
          "is",
          "you",
          "that",
          "so",
          "love",
          "when",
          "back",
          "for",
          "music",
          "memories",
          "on",
          "with",
          "time",
          "great",
          "but",
          "have",
          "years",
          "all",
          "he",
          "beautiful",
          "as",
          "like",
          "one",
          "songs",
          "old",
          "just",
          "her",
          "we",
          "she",
          "be",
          "at",
          "from",
          "good",
          "voice",
          "what",
          "not",
          "now",
          "can",
          "remember",
          "always",
          "his",
          "still",
          "they",
          "much",
          "brings",
          "will",
          "are",
          "never",
          "had",
          "many",
          "days",
          "very",
          "am",
          "up",
          "best",
          "listening",
          "him",
          "thank",
          "first",
          "these",
          "really",
          "who",
          "miss",
          "out",
          "how",
          "listen",
          "about",
          "hear",
          "childhood",
          "were",
          "heard",
          "no",
          "ever",
          "there",
          "reminds",
          "loved",
          "would",
          "those",
          "by",
          "only",
          "an",
          "sing",
          "know",
          "more",
          "has",
          "every",
          "if",
          "dad",
          "life"
         ],
         "xaxis": "x",
         "y": [
          1351,
          998,
          937,
          923,
          765,
          749,
          722,
          612,
          586,
          584,
          388,
          375,
          367,
          360,
          315,
          309,
          299,
          290,
          278,
          267,
          244,
          240,
          222,
          213,
          209,
          195,
          186,
          184,
          181,
          178,
          172,
          171,
          169,
          167,
          160,
          159,
          154,
          153,
          143,
          142,
          139,
          139,
          139,
          138,
          138,
          138,
          137,
          137,
          136,
          132,
          127,
          123,
          118,
          117,
          115,
          108,
          105,
          103,
          103,
          100,
          100,
          100,
          95,
          94,
          94,
          93,
          92,
          89,
          89,
          88,
          88,
          87,
          86,
          86,
          85,
          85,
          85,
          82,
          82,
          81,
          81,
          80,
          79,
          78,
          76,
          76,
          76,
          76,
          76,
          75,
          74,
          73,
          73,
          73,
          72,
          71,
          70,
          68,
          67,
          67
         ],
         "yaxis": "y"
        }
       ],
       "layout": {
        "barmode": "relative",
        "legend": {
         "tracegroupgap": 0
        },
        "template": {
         "data": {
          "bar": [
           {
            "error_x": {
             "color": "#2a3f5f"
            },
            "error_y": {
             "color": "#2a3f5f"
            },
            "marker": {
             "line": {
              "color": "#E5ECF6",
              "width": 0.5
             },
             "pattern": {
              "fillmode": "overlay",
              "size": 10,
              "solidity": 0.2
             }
            },
            "type": "bar"
           }
          ],
          "barpolar": [
           {
            "marker": {
             "line": {
              "color": "#E5ECF6",
              "width": 0.5
             },
             "pattern": {
              "fillmode": "overlay",
              "size": 10,
              "solidity": 0.2
             }
            },
            "type": "barpolar"
           }
          ],
          "carpet": [
           {
            "aaxis": {
             "endlinecolor": "#2a3f5f",
             "gridcolor": "white",
             "linecolor": "white",
             "minorgridcolor": "white",
             "startlinecolor": "#2a3f5f"
            },
            "baxis": {
             "endlinecolor": "#2a3f5f",
             "gridcolor": "white",
             "linecolor": "white",
             "minorgridcolor": "white",
             "startlinecolor": "#2a3f5f"
            },
            "type": "carpet"
           }
          ],
          "choropleth": [
           {
            "colorbar": {
             "outlinewidth": 0,
             "ticks": ""
            },
            "type": "choropleth"
           }
          ],
          "contour": [
           {
            "colorbar": {
             "outlinewidth": 0,
             "ticks": ""
            },
            "colorscale": [
             [
              0,
              "#0d0887"
             ],
             [
              0.1111111111111111,
              "#46039f"
             ],
             [
              0.2222222222222222,
              "#7201a8"
             ],
             [
              0.3333333333333333,
              "#9c179e"
             ],
             [
              0.4444444444444444,
              "#bd3786"
             ],
             [
              0.5555555555555556,
              "#d8576b"
             ],
             [
              0.6666666666666666,
              "#ed7953"
             ],
             [
              0.7777777777777778,
              "#fb9f3a"
             ],
             [
              0.8888888888888888,
              "#fdca26"
             ],
             [
              1,
              "#f0f921"
             ]
            ],
            "type": "contour"
           }
          ],
          "contourcarpet": [
           {
            "colorbar": {
             "outlinewidth": 0,
             "ticks": ""
            },
            "type": "contourcarpet"
           }
          ],
          "heatmap": [
           {
            "colorbar": {
             "outlinewidth": 0,
             "ticks": ""
            },
            "colorscale": [
             [
              0,
              "#0d0887"
             ],
             [
              0.1111111111111111,
              "#46039f"
             ],
             [
              0.2222222222222222,
              "#7201a8"
             ],
             [
              0.3333333333333333,
              "#9c179e"
             ],
             [
              0.4444444444444444,
              "#bd3786"
             ],
             [
              0.5555555555555556,
              "#d8576b"
             ],
             [
              0.6666666666666666,
              "#ed7953"
             ],
             [
              0.7777777777777778,
              "#fb9f3a"
             ],
             [
              0.8888888888888888,
              "#fdca26"
             ],
             [
              1,
              "#f0f921"
             ]
            ],
            "type": "heatmap"
           }
          ],
          "heatmapgl": [
           {
            "colorbar": {
             "outlinewidth": 0,
             "ticks": ""
            },
            "colorscale": [
             [
              0,
              "#0d0887"
             ],
             [
              0.1111111111111111,
              "#46039f"
             ],
             [
              0.2222222222222222,
              "#7201a8"
             ],
             [
              0.3333333333333333,
              "#9c179e"
             ],
             [
              0.4444444444444444,
              "#bd3786"
             ],
             [
              0.5555555555555556,
              "#d8576b"
             ],
             [
              0.6666666666666666,
              "#ed7953"
             ],
             [
              0.7777777777777778,
              "#fb9f3a"
             ],
             [
              0.8888888888888888,
              "#fdca26"
             ],
             [
              1,
              "#f0f921"
             ]
            ],
            "type": "heatmapgl"
           }
          ],
          "histogram": [
           {
            "marker": {
             "pattern": {
              "fillmode": "overlay",
              "size": 10,
              "solidity": 0.2
             }
            },
            "type": "histogram"
           }
          ],
          "histogram2d": [
           {
            "colorbar": {
             "outlinewidth": 0,
             "ticks": ""
            },
            "colorscale": [
             [
              0,
              "#0d0887"
             ],
             [
              0.1111111111111111,
              "#46039f"
             ],
             [
              0.2222222222222222,
              "#7201a8"
             ],
             [
              0.3333333333333333,
              "#9c179e"
             ],
             [
              0.4444444444444444,
              "#bd3786"
             ],
             [
              0.5555555555555556,
              "#d8576b"
             ],
             [
              0.6666666666666666,
              "#ed7953"
             ],
             [
              0.7777777777777778,
              "#fb9f3a"
             ],
             [
              0.8888888888888888,
              "#fdca26"
             ],
             [
              1,
              "#f0f921"
             ]
            ],
            "type": "histogram2d"
           }
          ],
          "histogram2dcontour": [
           {
            "colorbar": {
             "outlinewidth": 0,
             "ticks": ""
            },
            "colorscale": [
             [
              0,
              "#0d0887"
             ],
             [
              0.1111111111111111,
              "#46039f"
             ],
             [
              0.2222222222222222,
              "#7201a8"
             ],
             [
              0.3333333333333333,
              "#9c179e"
             ],
             [
              0.4444444444444444,
              "#bd3786"
             ],
             [
              0.5555555555555556,
              "#d8576b"
             ],
             [
              0.6666666666666666,
              "#ed7953"
             ],
             [
              0.7777777777777778,
              "#fb9f3a"
             ],
             [
              0.8888888888888888,
              "#fdca26"
             ],
             [
              1,
              "#f0f921"
             ]
            ],
            "type": "histogram2dcontour"
           }
          ],
          "mesh3d": [
           {
            "colorbar": {
             "outlinewidth": 0,
             "ticks": ""
            },
            "type": "mesh3d"
           }
          ],
          "parcoords": [
           {
            "line": {
             "colorbar": {
              "outlinewidth": 0,
              "ticks": ""
             }
            },
            "type": "parcoords"
           }
          ],
          "pie": [
           {
            "automargin": true,
            "type": "pie"
           }
          ],
          "scatter": [
           {
            "fillpattern": {
             "fillmode": "overlay",
             "size": 10,
             "solidity": 0.2
            },
            "type": "scatter"
           }
          ],
          "scatter3d": [
           {
            "line": {
             "colorbar": {
              "outlinewidth": 0,
              "ticks": ""
             }
            },
            "marker": {
             "colorbar": {
              "outlinewidth": 0,
              "ticks": ""
             }
            },
            "type": "scatter3d"
           }
          ],
          "scattercarpet": [
           {
            "marker": {
             "colorbar": {
              "outlinewidth": 0,
              "ticks": ""
             }
            },
            "type": "scattercarpet"
           }
          ],
          "scattergeo": [
           {
            "marker": {
             "colorbar": {
              "outlinewidth": 0,
              "ticks": ""
             }
            },
            "type": "scattergeo"
           }
          ],
          "scattergl": [
           {
            "marker": {
             "colorbar": {
              "outlinewidth": 0,
              "ticks": ""
             }
            },
            "type": "scattergl"
           }
          ],
          "scattermapbox": [
           {
            "marker": {
             "colorbar": {
              "outlinewidth": 0,
              "ticks": ""
             }
            },
            "type": "scattermapbox"
           }
          ],
          "scatterpolar": [
           {
            "marker": {
             "colorbar": {
              "outlinewidth": 0,
              "ticks": ""
             }
            },
            "type": "scatterpolar"
           }
          ],
          "scatterpolargl": [
           {
            "marker": {
             "colorbar": {
              "outlinewidth": 0,
              "ticks": ""
             }
            },
            "type": "scatterpolargl"
           }
          ],
          "scatterternary": [
           {
            "marker": {
             "colorbar": {
              "outlinewidth": 0,
              "ticks": ""
             }
            },
            "type": "scatterternary"
           }
          ],
          "surface": [
           {
            "colorbar": {
             "outlinewidth": 0,
             "ticks": ""
            },
            "colorscale": [
             [
              0,
              "#0d0887"
             ],
             [
              0.1111111111111111,
              "#46039f"
             ],
             [
              0.2222222222222222,
              "#7201a8"
             ],
             [
              0.3333333333333333,
              "#9c179e"
             ],
             [
              0.4444444444444444,
              "#bd3786"
             ],
             [
              0.5555555555555556,
              "#d8576b"
             ],
             [
              0.6666666666666666,
              "#ed7953"
             ],
             [
              0.7777777777777778,
              "#fb9f3a"
             ],
             [
              0.8888888888888888,
              "#fdca26"
             ],
             [
              1,
              "#f0f921"
             ]
            ],
            "type": "surface"
           }
          ],
          "table": [
           {
            "cells": {
             "fill": {
              "color": "#EBF0F8"
             },
             "line": {
              "color": "white"
             }
            },
            "header": {
             "fill": {
              "color": "#C8D4E3"
             },
             "line": {
              "color": "white"
             }
            },
            "type": "table"
           }
          ]
         },
         "layout": {
          "annotationdefaults": {
           "arrowcolor": "#2a3f5f",
           "arrowhead": 0,
           "arrowwidth": 1
          },
          "autotypenumbers": "strict",
          "coloraxis": {
           "colorbar": {
            "outlinewidth": 0,
            "ticks": ""
           }
          },
          "colorscale": {
           "diverging": [
            [
             0,
             "#8e0152"
            ],
            [
             0.1,
             "#c51b7d"
            ],
            [
             0.2,
             "#de77ae"
            ],
            [
             0.3,
             "#f1b6da"
            ],
            [
             0.4,
             "#fde0ef"
            ],
            [
             0.5,
             "#f7f7f7"
            ],
            [
             0.6,
             "#e6f5d0"
            ],
            [
             0.7,
             "#b8e186"
            ],
            [
             0.8,
             "#7fbc41"
            ],
            [
             0.9,
             "#4d9221"
            ],
            [
             1,
             "#276419"
            ]
           ],
           "sequential": [
            [
             0,
             "#0d0887"
            ],
            [
             0.1111111111111111,
             "#46039f"
            ],
            [
             0.2222222222222222,
             "#7201a8"
            ],
            [
             0.3333333333333333,
             "#9c179e"
            ],
            [
             0.4444444444444444,
             "#bd3786"
            ],
            [
             0.5555555555555556,
             "#d8576b"
            ],
            [
             0.6666666666666666,
             "#ed7953"
            ],
            [
             0.7777777777777778,
             "#fb9f3a"
            ],
            [
             0.8888888888888888,
             "#fdca26"
            ],
            [
             1,
             "#f0f921"
            ]
           ],
           "sequentialminus": [
            [
             0,
             "#0d0887"
            ],
            [
             0.1111111111111111,
             "#46039f"
            ],
            [
             0.2222222222222222,
             "#7201a8"
            ],
            [
             0.3333333333333333,
             "#9c179e"
            ],
            [
             0.4444444444444444,
             "#bd3786"
            ],
            [
             0.5555555555555556,
             "#d8576b"
            ],
            [
             0.6666666666666666,
             "#ed7953"
            ],
            [
             0.7777777777777778,
             "#fb9f3a"
            ],
            [
             0.8888888888888888,
             "#fdca26"
            ],
            [
             1,
             "#f0f921"
            ]
           ]
          },
          "colorway": [
           "#636efa",
           "#EF553B",
           "#00cc96",
           "#ab63fa",
           "#FFA15A",
           "#19d3f3",
           "#FF6692",
           "#B6E880",
           "#FF97FF",
           "#FECB52"
          ],
          "font": {
           "color": "#2a3f5f"
          },
          "geo": {
           "bgcolor": "white",
           "lakecolor": "white",
           "landcolor": "#E5ECF6",
           "showlakes": true,
           "showland": true,
           "subunitcolor": "white"
          },
          "hoverlabel": {
           "align": "left"
          },
          "hovermode": "closest",
          "mapbox": {
           "style": "light"
          },
          "paper_bgcolor": "white",
          "plot_bgcolor": "#E5ECF6",
          "polar": {
           "angularaxis": {
            "gridcolor": "white",
            "linecolor": "white",
            "ticks": ""
           },
           "bgcolor": "#E5ECF6",
           "radialaxis": {
            "gridcolor": "white",
            "linecolor": "white",
            "ticks": ""
           }
          },
          "scene": {
           "xaxis": {
            "backgroundcolor": "#E5ECF6",
            "gridcolor": "white",
            "gridwidth": 2,
            "linecolor": "white",
            "showbackground": true,
            "ticks": "",
            "zerolinecolor": "white"
           },
           "yaxis": {
            "backgroundcolor": "#E5ECF6",
            "gridcolor": "white",
            "gridwidth": 2,
            "linecolor": "white",
            "showbackground": true,
            "ticks": "",
            "zerolinecolor": "white"
           },
           "zaxis": {
            "backgroundcolor": "#E5ECF6",
            "gridcolor": "white",
            "gridwidth": 2,
            "linecolor": "white",
            "showbackground": true,
            "ticks": "",
            "zerolinecolor": "white"
           }
          },
          "shapedefaults": {
           "line": {
            "color": "#2a3f5f"
           }
          },
          "ternary": {
           "aaxis": {
            "gridcolor": "white",
            "linecolor": "white",
            "ticks": ""
           },
           "baxis": {
            "gridcolor": "white",
            "linecolor": "white",
            "ticks": ""
           },
           "bgcolor": "#E5ECF6",
           "caxis": {
            "gridcolor": "white",
            "linecolor": "white",
            "ticks": ""
           }
          },
          "title": {
           "x": 0.05
          },
          "xaxis": {
           "automargin": true,
           "gridcolor": "white",
           "linecolor": "white",
           "ticks": "",
           "title": {
            "standoff": 15
           },
           "zerolinecolor": "white",
           "zerolinewidth": 2
          },
          "yaxis": {
           "automargin": true,
           "gridcolor": "white",
           "linecolor": "white",
           "ticks": "",
           "title": {
            "standoff": 15
           },
           "zerolinecolor": "white",
           "zerolinewidth": 2
          }
         }
        },
        "title": {
         "text": "Top 100 Term Frequencies (Sorted by Frequency)"
        },
        "xaxis": {
         "anchor": "y",
         "domain": [
          0,
          1
         ],
         "tickangle": -90,
         "title": {
          "text": "Terms"
         }
        },
        "yaxis": {
         "anchor": "x",
         "domain": [
          0,
          1
         ],
         "title": {
          "text": "Frequencies"
         }
        }
       }
      }
     },
     "metadata": {},
     "output_type": "display_data"
    }
   ],
   "source": [
    "# Answer here\n",
    "import numpy as np\n",
    "import plotly.express as px\n",
    "import pandas as pd\n",
    "\n",
    "# Step 1: Calculate the total frequency of each term\n",
    "term_frequencies = np.asarray(X_counts_youtube.sum(axis=0)).flatten()\n",
    "\n",
    "# Step 2: Sort the terms and their frequencies (in descending order)\n",
    "sorted_indices = np.argsort(term_frequencies)[::-1]  # Sort the frequencies in descending order\n",
    "sorted_frequencies = term_frequencies[sorted_indices]  # Get the frequencies according to the sorted indices\n",
    "sorted_terms = count_vect.get_feature_names_out()[sorted_indices]  # Get the terms according to the sorted indices\n",
    "\n",
    "# Step 3: Select the top 100 terms for visualization (sorted by frequency)\n",
    "top_n = 100\n",
    "df = pd.DataFrame({\n",
    "    \"Terms\": sorted_terms[:top_n],  # Top 100 terms\n",
    "    \"Frequencies\": sorted_frequencies[:top_n]  # Corresponding frequencies\n",
    "})\n",
    "\n",
    "# Step 4: Use Plotly to create a bar chart of the top 100 term frequencies\n",
    "fig = px.bar(df, x='Terms', y='Frequencies', title=\"Top 100 Term Frequencies (Sorted by Frequency)\", labels={'Terms': 'Terms', 'Frequencies': 'Frequencies'})\n",
    "\n",
    "# Step 5: Rotate x-axis labels to avoid crowding\n",
    "fig.update_layout(xaxis_tickangle=-90)\n",
    "\n",
    "# Step 6: Display the plot\n",
    "fig.show()"
   ]
  },
  {
   "cell_type": "code",
   "execution_count": 64,
   "metadata": {},
   "outputs": [],
   "source": [
    "import math\n",
    "term_frequencies_log = [math.log(i) for i in term_frequencies]"
   ]
  },
  {
   "cell_type": "code",
   "execution_count": 65,
   "metadata": {},
   "outputs": [
    {
     "name": "stderr",
     "output_type": "stream",
     "text": [
      "C:\\Users\\user\\AppData\\Local\\Temp\\ipykernel_25928\\1516414146.py:4: UserWarning:\n",
      "\n",
      "set_ticklabels() should only be used with a fixed number of ticks, i.e. after set_ticks() or using a FixedLocator.\n",
      "\n"
     ]
    },
    {
     "data": {
      "text/plain": [
       "[Text(0, 0, '00'),\n",
       " Text(1, 0, '000'),\n",
       " Text(2, 0, '045'),\n",
       " Text(3, 0, '07'),\n",
       " Text(4, 0, '10'),\n",
       " Text(5, 0, '100'),\n",
       " Text(6, 0, '10m'),\n",
       " Text(7, 0, '11'),\n",
       " Text(8, 0, '11th'),\n",
       " Text(9, 0, '12'),\n",
       " Text(10, 0, '13'),\n",
       " Text(11, 0, '14'),\n",
       " Text(12, 0, '15'),\n",
       " Text(13, 0, '150'),\n",
       " Text(14, 0, '16'),\n",
       " Text(15, 0, '16years'),\n",
       " Text(16, 0, '17'),\n",
       " Text(17, 0, '17th'),\n",
       " Text(18, 0, '18'),\n",
       " Text(19, 0, '19'),\n",
       " Text(20, 0, '1927'),\n",
       " Text(21, 0, '1930'),\n",
       " Text(22, 0, '1930s'),\n",
       " Text(23, 0, '1950'),\n",
       " Text(24, 0, '1950s'),\n",
       " Text(25, 0, '1952'),\n",
       " Text(26, 0, '1954'),\n",
       " Text(27, 0, '1955'),\n",
       " Text(28, 0, '1956'),\n",
       " Text(29, 0, '1957'),\n",
       " Text(30, 0, '1958'),\n",
       " Text(31, 0, '1960'),\n",
       " Text(32, 0, '1960s'),\n",
       " Text(33, 0, '1962'),\n",
       " Text(34, 0, '1963'),\n",
       " Text(35, 0, '1964'),\n",
       " Text(36, 0, '1965'),\n",
       " Text(37, 0, '1966'),\n",
       " Text(38, 0, '1967'),\n",
       " Text(39, 0, '1968'),\n",
       " Text(40, 0, '1969'),\n",
       " Text(41, 0, '1970'),\n",
       " Text(42, 0, '1970s'),\n",
       " Text(43, 0, '1973'),\n",
       " Text(44, 0, '1974'),\n",
       " Text(45, 0, '1975'),\n",
       " Text(46, 0, '1976'),\n",
       " Text(47, 0, '1977'),\n",
       " Text(48, 0, '1979'),\n",
       " Text(49, 0, '1980'),\n",
       " Text(50, 0, '1980s'),\n",
       " Text(51, 0, '1981'),\n",
       " Text(52, 0, '1985'),\n",
       " Text(53, 0, '1987'),\n",
       " Text(54, 0, '1988'),\n",
       " Text(55, 0, '1989'),\n",
       " Text(56, 0, '1990'),\n",
       " Text(57, 0, '1992'),\n",
       " Text(58, 0, '1993'),\n",
       " Text(59, 0, '1996'),\n",
       " Text(60, 0, '1997'),\n",
       " Text(61, 0, '1998'),\n",
       " Text(62, 0, '1st'),\n",
       " Text(63, 0, '20'),\n",
       " Text(64, 0, '2000s'),\n",
       " Text(65, 0, '2002'),\n",
       " Text(66, 0, '2006'),\n",
       " Text(67, 0, '2009'),\n",
       " Text(68, 0, '2010'),\n",
       " Text(69, 0, '2014'),\n",
       " Text(70, 0, '2015'),\n",
       " Text(71, 0, '2016'),\n",
       " Text(72, 0, '2017'),\n",
       " Text(73, 0, '2018'),\n",
       " Text(74, 0, '2019'),\n",
       " Text(75, 0, '2040'),\n",
       " Text(76, 0, '20s'),\n",
       " Text(77, 0, '20th'),\n",
       " Text(78, 0, '21'),\n",
       " Text(79, 0, '21st'),\n",
       " Text(80, 0, '21yr'),\n",
       " Text(81, 0, '22'),\n",
       " Text(82, 0, '22nd'),\n",
       " Text(83, 0, '23'),\n",
       " Text(84, 0, '25'),\n",
       " Text(85, 0, '26'),\n",
       " Text(86, 0, '27'),\n",
       " Text(87, 0, '28'),\n",
       " Text(88, 0, '29'),\n",
       " Text(89, 0, '29th'),\n",
       " Text(90, 0, '2nd'),\n",
       " Text(91, 0, '30'),\n",
       " Text(92, 0, '30s'),\n",
       " Text(93, 0, '30th'),\n",
       " Text(94, 0, '31'),\n",
       " Text(95, 0, '32'),\n",
       " Text(96, 0, '34'),\n",
       " Text(97, 0, '36'),\n",
       " Text(98, 0, '37'),\n",
       " Text(99, 0, '3pm'),\n",
       " Text(100, 0, '3rd'),\n",
       " Text(101, 0, '40'),\n",
       " Text(102, 0, '400'),\n",
       " Text(103, 0, '40s'),\n",
       " Text(104, 0, '40th'),\n",
       " Text(105, 0, '40years'),\n",
       " Text(106, 0, '40yrs'),\n",
       " Text(107, 0, '42'),\n",
       " Text(108, 0, '44yr'),\n",
       " Text(109, 0, '45'),\n",
       " Text(110, 0, '45rpm'),\n",
       " Text(111, 0, '45s'),\n",
       " Text(112, 0, '46'),\n",
       " Text(113, 0, '47'),\n",
       " Text(114, 0, '48am'),\n",
       " Text(115, 0, '49'),\n",
       " Text(116, 0, '4th'),\n",
       " Text(117, 0, '50'),\n",
       " Text(118, 0, '500'),\n",
       " Text(119, 0, '50s'),\n",
       " Text(120, 0, '51'),\n",
       " Text(121, 0, '53'),\n",
       " Text(122, 0, '55'),\n",
       " Text(123, 0, '56'),\n",
       " Text(124, 0, '57'),\n",
       " Text(125, 0, '58'),\n",
       " Text(126, 0, '59'),\n",
       " Text(127, 0, '5th'),\n",
       " Text(128, 0, '60'),\n",
       " Text(129, 0, '60s'),\n",
       " Text(130, 0, '60th'),\n",
       " Text(131, 0, '60yrs'),\n",
       " Text(132, 0, '61'),\n",
       " Text(133, 0, '62'),\n",
       " Text(134, 0, '63'),\n",
       " Text(135, 0, '64'),\n",
       " Text(136, 0, '66'),\n",
       " Text(137, 0, '67'),\n",
       " Text(138, 0, '68'),\n",
       " Text(139, 0, '6pm'),\n",
       " Text(140, 0, '6rtr'),\n",
       " Text(141, 0, '6th'),\n",
       " Text(142, 0, '70'),\n",
       " Text(143, 0, '70s'),\n",
       " Text(144, 0, '71'),\n",
       " Text(145, 0, '72'),\n",
       " Text(146, 0, '73'),\n",
       " Text(147, 0, '74'),\n",
       " Text(148, 0, '75'),\n",
       " Text(149, 0, '76'),\n",
       " Text(150, 0, '78'),\n",
       " Text(151, 0, '80'),\n",
       " Text(152, 0, '80s'),\n",
       " Text(153, 0, '82'),\n",
       " Text(154, 0, '86'),\n",
       " Text(155, 0, '88'),\n",
       " Text(156, 0, '89'),\n",
       " Text(157, 0, '8th'),\n",
       " Text(158, 0, '90'),\n",
       " Text(159, 0, '90s'),\n",
       " Text(160, 0, '94'),\n",
       " Text(161, 0, '95'),\n",
       " Text(162, 0, '97'),\n",
       " Text(163, 0, '9th'),\n",
       " Text(164, 0, 'abandant'),\n",
       " Text(165, 0, 'ability'),\n",
       " Text(166, 0, 'able'),\n",
       " Text(167, 0, 'about'),\n",
       " Text(168, 0, 'above'),\n",
       " Text(169, 0, 'abroad'),\n",
       " Text(170, 0, 'absolutely'),\n",
       " Text(171, 0, 'absorbed'),\n",
       " Text(172, 0, 'accent'),\n",
       " Text(173, 0, 'accepting'),\n",
       " Text(174, 0, 'accident'),\n",
       " Text(175, 0, 'accurate'),\n",
       " Text(176, 0, 'acknowledge'),\n",
       " Text(177, 0, 'across'),\n",
       " Text(178, 0, 'act'),\n",
       " Text(179, 0, 'action'),\n",
       " Text(180, 0, 'actor'),\n",
       " Text(181, 0, 'actors'),\n",
       " Text(182, 0, 'actress'),\n",
       " Text(183, 0, 'actresses'),\n",
       " Text(184, 0, 'actually'),\n",
       " Text(185, 0, 'adaline'),\n",
       " Text(186, 0, 'adam'),\n",
       " Text(187, 0, 'add'),\n",
       " Text(188, 0, 'addition'),\n",
       " Text(189, 0, 'additional'),\n",
       " Text(190, 0, 'adds'),\n",
       " Text(191, 0, 'adele'),\n",
       " Text(192, 0, 'admit'),\n",
       " Text(193, 0, 'adorable'),\n",
       " Text(194, 0, 'adore'),\n",
       " Text(195, 0, 'ads'),\n",
       " Text(196, 0, 'adult'),\n",
       " Text(197, 0, 'adults'),\n",
       " Text(198, 0, 'advance'),\n",
       " Text(199, 0, 'advice'),\n",
       " Text(200, 0, 'affair'),\n",
       " Text(201, 0, 'affluence'),\n",
       " Text(202, 0, 'afford'),\n",
       " Text(203, 0, 'affordable'),\n",
       " Text(204, 0, 'afn'),\n",
       " Text(205, 0, 'afraid'),\n",
       " Text(206, 0, 'africa'),\n",
       " Text(207, 0, 'afro'),\n",
       " Text(208, 0, 'after'),\n",
       " Text(209, 0, 'afternoon'),\n",
       " Text(210, 0, 'afterwards'),\n",
       " Text(211, 0, 'afterwords'),\n",
       " Text(212, 0, 'again'),\n",
       " Text(213, 0, 'against'),\n",
       " Text(214, 0, 'age'),\n",
       " Text(215, 0, 'aged'),\n",
       " Text(216, 0, 'ageless'),\n",
       " Text(217, 0, 'ages'),\n",
       " Text(218, 0, 'ago'),\n",
       " Text(219, 0, 'agree'),\n",
       " Text(220, 0, 'ah'),\n",
       " Text(221, 0, 'ahead'),\n",
       " Text(222, 0, 'ain'),\n",
       " Text(223, 0, 'aint'),\n",
       " Text(224, 0, 'air'),\n",
       " Text(225, 0, 'airport'),\n",
       " Text(226, 0, 'aisle'),\n",
       " Text(227, 0, 'alabama'),\n",
       " Text(228, 0, 'alan'),\n",
       " Text(229, 0, 'album'),\n",
       " Text(230, 0, 'albums'),\n",
       " Text(231, 0, 'alike'),\n",
       " Text(232, 0, 'alive'),\n",
       " Text(233, 0, 'all'),\n",
       " Text(234, 0, 'allergies'),\n",
       " Text(235, 0, 'allowance'),\n",
       " Text(236, 0, 'almost'),\n",
       " Text(237, 0, 'alone'),\n",
       " Text(238, 0, 'along'),\n",
       " Text(239, 0, 'alongs'),\n",
       " Text(240, 0, 'aloud'),\n",
       " Text(241, 0, 'already'),\n",
       " Text(242, 0, 'alright'),\n",
       " Text(243, 0, 'also'),\n",
       " Text(244, 0, 'alternative'),\n",
       " Text(245, 0, 'although'),\n",
       " Text(246, 0, 'always'),\n",
       " Text(247, 0, 'am'),\n",
       " Text(248, 0, 'amazing'),\n",
       " Text(249, 0, 'amazingly'),\n",
       " Text(250, 0, 'amen'),\n",
       " Text(251, 0, 'america'),\n",
       " Text(252, 0, 'american'),\n",
       " Text(253, 0, 'ames'),\n",
       " Text(254, 0, 'among'),\n",
       " Text(255, 0, 'amount'),\n",
       " Text(256, 0, 'an'),\n",
       " Text(257, 0, 'ancient'),\n",
       " Text(258, 0, 'and'),\n",
       " Text(259, 0, 'angel'),\n",
       " Text(260, 0, 'angels'),\n",
       " Text(261, 0, 'angst'),\n",
       " Text(262, 0, 'anita'),\n",
       " Text(263, 0, 'anna'),\n",
       " Text(264, 0, 'anniversary'),\n",
       " Text(265, 0, 'announcement'),\n",
       " Text(266, 0, 'annoying'),\n",
       " Text(267, 0, 'another'),\n",
       " Text(268, 0, 'answer'),\n",
       " Text(269, 0, 'anthony'),\n",
       " Text(270, 0, 'anti'),\n",
       " Text(271, 0, 'any'),\n",
       " Text(272, 0, 'anybody'),\n",
       " Text(273, 0, 'anymore'),\n",
       " Text(274, 0, 'anyone'),\n",
       " Text(275, 0, 'anything'),\n",
       " Text(276, 0, 'anytime'),\n",
       " Text(277, 0, 'anyway'),\n",
       " Text(278, 0, 'apart'),\n",
       " Text(279, 0, 'apc'),\n",
       " Text(280, 0, 'apologies'),\n",
       " Text(281, 0, 'apologize'),\n",
       " Text(282, 0, 'apparent'),\n",
       " Text(283, 0, 'apparently'),\n",
       " Text(284, 0, 'appeals'),\n",
       " Text(285, 0, 'appear'),\n",
       " Text(286, 0, 'appearances'),\n",
       " Text(287, 0, 'appeared'),\n",
       " Text(288, 0, 'appears'),\n",
       " Text(289, 0, 'apply'),\n",
       " Text(290, 0, 'appreciate'),\n",
       " Text(291, 0, 'appreciated'),\n",
       " Text(292, 0, 'appreciation'),\n",
       " Text(293, 0, 'april'),\n",
       " Text(294, 0, 'apropos'),\n",
       " Text(295, 0, 'apt'),\n",
       " Text(296, 0, 'are'),\n",
       " Text(297, 0, 'aren'),\n",
       " Text(298, 0, 'arm'),\n",
       " Text(299, 0, 'arms')]"
      ]
     },
     "execution_count": 65,
     "metadata": {},
     "output_type": "execute_result"
    },
    {
     "data": {
      "image/png": "[encoded data removed]",
      "text/plain": [
       "<Figure size 10000x1000 with 1 Axes>"
      ]
     },
     "metadata": {},
     "output_type": "display_data"
    }
   ],
   "source": [
    "plt.subplots(figsize=(100, 10))\n",
    "g = sns.barplot(x=count_vect.get_feature_names_out()[:300],\n",
    "                y=term_frequencies_log[:300])\n",
    "g.set_xticklabels(count_vect.get_feature_names_out()[:300], rotation = 90)"
   ]
  },
  {
   "cell_type": "markdown",
   "metadata": {},
   "source": [
    "### >>> **Exercise 15 (take home):** "
   ]
  },
  {
   "cell_type": "code",
   "execution_count": 66,
   "metadata": {},
   "outputs": [
    {
     "data": {
      "application/vnd.plotly.v1+json": {
       "config": {
        "plotlyServerURL": "https://plot.ly"
       },
       "data": [
        {
         "alignmentgroup": "True",
         "hovertemplate": "Terms=%{x}<br>Log Frequencies=%{y}<extra></extra>",
         "legendgroup": "",
         "marker": {
          "color": "#636efa",
          "pattern": {
           "shape": ""
          }
         },
         "name": "",
         "offsetgroup": "",
         "orientation": "v",
         "showlegend": false,
         "textposition": "auto",
         "type": "bar",
         "x": [
          "the",
          "this",
          "to",
          "and",
          "my",
          "song",
          "of",
          "in",
          "it",
          "was",
          "me",
          "is",
          "you",
          "that",
          "so",
          "love",
          "when",
          "back",
          "for",
          "music",
          "memories",
          "on",
          "with",
          "time",
          "great",
          "but",
          "have",
          "years",
          "all",
          "he",
          "beautiful",
          "as",
          "like",
          "one",
          "songs",
          "old",
          "just",
          "her",
          "we",
          "she",
          "be",
          "at",
          "from",
          "good",
          "voice",
          "what",
          "not",
          "now",
          "can",
          "remember",
          "always",
          "his",
          "still",
          "they",
          "much",
          "brings",
          "will",
          "are",
          "never",
          "had",
          "many",
          "days",
          "very",
          "am",
          "up",
          "best",
          "listening",
          "him",
          "thank",
          "first",
          "these",
          "really",
          "who",
          "miss",
          "out",
          "how",
          "listen",
          "about",
          "hear",
          "childhood",
          "were",
          "heard",
          "no",
          "ever",
          "there",
          "reminds",
          "loved",
          "would",
          "those",
          "by",
          "only",
          "an",
          "sing",
          "know",
          "more",
          "has",
          "every",
          "if",
          "dad",
          "life"
         ],
         "xaxis": "x",
         "y": [
          7.20934025660291,
          6.906754778648554,
          6.843749949006225,
          6.828712071641684,
          6.641182169740591,
          6.620073206530356,
          6.583409222158765,
          6.418364935936212,
          6.375024819828097,
          6.371611847231857,
          5.963579343618446,
          5.929589143389895,
          5.908082938168931,
          5.8888779583328805,
          5.755742213586912,
          5.736572297479192,
          5.703782474656201,
          5.673323267171493,
          5.631211781821365,
          5.5909869805108565,
          5.501258210544727,
          5.484796933490655,
          5.407171771460119,
          5.365976015021851,
          5.3471075307174685,
          5.278114659230517,
          5.231108616854587,
          5.220355825078324,
          5.204006687076795,
          5.187385805840755,
          5.153291594497779,
          5.147494476813453,
          5.135798437050262,
          5.123963979403259,
          5.081404364984463,
          5.075173815233827,
          5.043425116919247,
          5.0369526024136295,
          4.969813299576001,
          4.962844630259907,
          4.941642422609304,
          4.941642422609304,
          4.941642422609304,
          4.9344739331306915,
          4.9344739331306915,
          4.9344739331306915,
          4.927253685157205,
          4.927253685157205,
          4.919980925828125,
          4.890349128221754,
          4.852030263919617,
          4.820281565605037,
          4.77912349311153,
          4.770684624465665,
          4.7535901911063645,
          4.6913478822291435,
          4.663439094112067,
          4.6443908991413725,
          4.6443908991413725,
          4.61512051684126,
          4.61512051684126,
          4.61512051684126,
          4.564348191467836,
          4.553876891600541,
          4.553876891600541,
          4.543294782270004,
          4.532599493153256,
          4.499809670330265,
          4.499809670330265,
          4.48863636973214,
          4.48863636973214,
          4.477336814478207,
          4.465908118654584,
          4.465908118654584,
          4.454347296253507,
          4.454347296253507,
          4.454347296253507,
          4.418840607796598,
          4.418840607796598,
          4.406719247264253,
          4.406719247264253,
          4.394449154672439,
          4.382026634673881,
          4.3694478524670215,
          4.343805421853684,
          4.343805421853684,
          4.343805421853684,
          4.343805421853684,
          4.343805421853684,
          4.330733340286331,
          4.31748811353631,
          4.30406509320417,
          4.30406509320417,
          4.30406509320417,
          4.290459441148391,
          4.276666119016055,
          4.2626798770413155,
          4.23410650459726,
          4.219507705176107,
          4.219507705176107
         ],
         "yaxis": "y"
        }
       ],
       "layout": {
        "barmode": "relative",
        "legend": {
         "tracegroupgap": 0
        },
        "template": {
         "data": {
          "bar": [
           {
            "error_x": {
             "color": "#2a3f5f"
            },
            "error_y": {
             "color": "#2a3f5f"
            },
            "marker": {
             "line": {
              "color": "#E5ECF6",
              "width": 0.5
             },
             "pattern": {
              "fillmode": "overlay",
              "size": 10,
              "solidity": 0.2
             }
            },
            "type": "bar"
           }
          ],
          "barpolar": [
           {
            "marker": {
             "line": {
              "color": "#E5ECF6",
              "width": 0.5
             },
             "pattern": {
              "fillmode": "overlay",
              "size": 10,
              "solidity": 0.2
             }
            },
            "type": "barpolar"
           }
          ],
          "carpet": [
           {
            "aaxis": {
             "endlinecolor": "#2a3f5f",
             "gridcolor": "white",
             "linecolor": "white",
             "minorgridcolor": "white",
             "startlinecolor": "#2a3f5f"
            },
            "baxis": {
             "endlinecolor": "#2a3f5f",
             "gridcolor": "white",
             "linecolor": "white",
             "minorgridcolor": "white",
             "startlinecolor": "#2a3f5f"
            },
            "type": "carpet"
           }
          ],
          "choropleth": [
           {
            "colorbar": {
             "outlinewidth": 0,
             "ticks": ""
            },
            "type": "choropleth"
           }
          ],
          "contour": [
           {
            "colorbar": {
             "outlinewidth": 0,
             "ticks": ""
            },
            "colorscale": [
             [
              0,
              "#0d0887"
             ],
             [
              0.1111111111111111,
              "#46039f"
             ],
             [
              0.2222222222222222,
              "#7201a8"
             ],
             [
              0.3333333333333333,
              "#9c179e"
             ],
             [
              0.4444444444444444,
              "#bd3786"
             ],
             [
              0.5555555555555556,
              "#d8576b"
             ],
             [
              0.6666666666666666,
              "#ed7953"
             ],
             [
              0.7777777777777778,
              "#fb9f3a"
             ],
             [
              0.8888888888888888,
              "#fdca26"
             ],
             [
              1,
              "#f0f921"
             ]
            ],
            "type": "contour"
           }
          ],
          "contourcarpet": [
           {
            "colorbar": {
             "outlinewidth": 0,
             "ticks": ""
            },
            "type": "contourcarpet"
           }
          ],
          "heatmap": [
           {
            "colorbar": {
             "outlinewidth": 0,
             "ticks": ""
            },
            "colorscale": [
             [
              0,
              "#0d0887"
             ],
             [
              0.1111111111111111,
              "#46039f"
             ],
             [
              0.2222222222222222,
              "#7201a8"
             ],
             [
              0.3333333333333333,
              "#9c179e"
             ],
             [
              0.4444444444444444,
              "#bd3786"
             ],
             [
              0.5555555555555556,
              "#d8576b"
             ],
             [
              0.6666666666666666,
              "#ed7953"
             ],
             [
              0.7777777777777778,
              "#fb9f3a"
             ],
             [
              0.8888888888888888,
              "#fdca26"
             ],
             [
              1,
              "#f0f921"
             ]
            ],
            "type": "heatmap"
           }
          ],
          "heatmapgl": [
           {
            "colorbar": {
             "outlinewidth": 0,
             "ticks": ""
            },
            "colorscale": [
             [
              0,
              "#0d0887"
             ],
             [
              0.1111111111111111,
              "#46039f"
             ],
             [
              0.2222222222222222,
              "#7201a8"
             ],
             [
              0.3333333333333333,
              "#9c179e"
             ],
             [
              0.4444444444444444,
              "#bd3786"
             ],
             [
              0.5555555555555556,
              "#d8576b"
             ],
             [
              0.6666666666666666,
              "#ed7953"
             ],
             [
              0.7777777777777778,
              "#fb9f3a"
             ],
             [
              0.8888888888888888,
              "#fdca26"
             ],
             [
              1,
              "#f0f921"
             ]
            ],
            "type": "heatmapgl"
           }
          ],
          "histogram": [
           {
            "marker": {
             "pattern": {
              "fillmode": "overlay",
              "size": 10,
              "solidity": 0.2
             }
            },
            "type": "histogram"
           }
          ],
          "histogram2d": [
           {
            "colorbar": {
             "outlinewidth": 0,
             "ticks": ""
            },
            "colorscale": [
             [
              0,
              "#0d0887"
             ],
             [
              0.1111111111111111,
              "#46039f"
             ],
             [
              0.2222222222222222,
              "#7201a8"
             ],
             [
              0.3333333333333333,
              "#9c179e"
             ],
             [
              0.4444444444444444,
              "#bd3786"
             ],
             [
              0.5555555555555556,
              "#d8576b"
             ],
             [
              0.6666666666666666,
              "#ed7953"
             ],
             [
              0.7777777777777778,
              "#fb9f3a"
             ],
             [
              0.8888888888888888,
              "#fdca26"
             ],
             [
              1,
              "#f0f921"
             ]
            ],
            "type": "histogram2d"
           }
          ],
          "histogram2dcontour": [
           {
            "colorbar": {
             "outlinewidth": 0,
             "ticks": ""
            },
            "colorscale": [
             [
              0,
              "#0d0887"
             ],
             [
              0.1111111111111111,
              "#46039f"
             ],
             [
              0.2222222222222222,
              "#7201a8"
             ],
             [
              0.3333333333333333,
              "#9c179e"
             ],
             [
              0.4444444444444444,
              "#bd3786"
             ],
             [
              0.5555555555555556,
              "#d8576b"
             ],
             [
              0.6666666666666666,
              "#ed7953"
             ],
             [
              0.7777777777777778,
              "#fb9f3a"
             ],
             [
              0.8888888888888888,
              "#fdca26"
             ],
             [
              1,
              "#f0f921"
             ]
            ],
            "type": "histogram2dcontour"
           }
          ],
          "mesh3d": [
           {
            "colorbar": {
             "outlinewidth": 0,
             "ticks": ""
            },
            "type": "mesh3d"
           }
          ],
          "parcoords": [
           {
            "line": {
             "colorbar": {
              "outlinewidth": 0,
              "ticks": ""
             }
            },
            "type": "parcoords"
           }
          ],
          "pie": [
           {
            "automargin": true,
            "type": "pie"
           }
          ],
          "scatter": [
           {
            "fillpattern": {
             "fillmode": "overlay",
             "size": 10,
             "solidity": 0.2
            },
            "type": "scatter"
           }
          ],
          "scatter3d": [
           {
            "line": {
             "colorbar": {
              "outlinewidth": 0,
              "ticks": ""
             }
            },
            "marker": {
             "colorbar": {
              "outlinewidth": 0,
              "ticks": ""
             }
            },
            "type": "scatter3d"
           }
          ],
          "scattercarpet": [
           {
            "marker": {
             "colorbar": {
              "outlinewidth": 0,
              "ticks": ""
             }
            },
            "type": "scattercarpet"
           }
          ],
          "scattergeo": [
           {
            "marker": {
             "colorbar": {
              "outlinewidth": 0,
              "ticks": ""
             }
            },
            "type": "scattergeo"
           }
          ],
          "scattergl": [
           {
            "marker": {
             "colorbar": {
              "outlinewidth": 0,
              "ticks": ""
             }
            },
            "type": "scattergl"
           }
          ],
          "scattermapbox": [
           {
            "marker": {
             "colorbar": {
              "outlinewidth": 0,
              "ticks": ""
             }
            },
            "type": "scattermapbox"
           }
          ],
          "scatterpolar": [
           {
            "marker": {
             "colorbar": {
              "outlinewidth": 0,
              "ticks": ""
             }
            },
            "type": "scatterpolar"
           }
          ],
          "scatterpolargl": [
           {
            "marker": {
             "colorbar": {
              "outlinewidth": 0,
              "ticks": ""
             }
            },
            "type": "scatterpolargl"
           }
          ],
          "scatterternary": [
           {
            "marker": {
             "colorbar": {
              "outlinewidth": 0,
              "ticks": ""
             }
            },
            "type": "scatterternary"
           }
          ],
          "surface": [
           {
            "colorbar": {
             "outlinewidth": 0,
             "ticks": ""
            },
            "colorscale": [
             [
              0,
              "#0d0887"
             ],
             [
              0.1111111111111111,
              "#46039f"
             ],
             [
              0.2222222222222222,
              "#7201a8"
             ],
             [
              0.3333333333333333,
              "#9c179e"
             ],
             [
              0.4444444444444444,
              "#bd3786"
             ],
             [
              0.5555555555555556,
              "#d8576b"
             ],
             [
              0.6666666666666666,
              "#ed7953"
             ],
             [
              0.7777777777777778,
              "#fb9f3a"
             ],
             [
              0.8888888888888888,
              "#fdca26"
             ],
             [
              1,
              "#f0f921"
             ]
            ],
            "type": "surface"
           }
          ],
          "table": [
           {
            "cells": {
             "fill": {
              "color": "#EBF0F8"
             },
             "line": {
              "color": "white"
             }
            },
            "header": {
             "fill": {
              "color": "#C8D4E3"
             },
             "line": {
              "color": "white"
             }
            },
            "type": "table"
           }
          ]
         },
         "layout": {
          "annotationdefaults": {
           "arrowcolor": "#2a3f5f",
           "arrowhead": 0,
           "arrowwidth": 1
          },
          "autotypenumbers": "strict",
          "coloraxis": {
           "colorbar": {
            "outlinewidth": 0,
            "ticks": ""
           }
          },
          "colorscale": {
           "diverging": [
            [
             0,
             "#8e0152"
            ],
            [
             0.1,
             "#c51b7d"
            ],
            [
             0.2,
             "#de77ae"
            ],
            [
             0.3,
             "#f1b6da"
            ],
            [
             0.4,
             "#fde0ef"
            ],
            [
             0.5,
             "#f7f7f7"
            ],
            [
             0.6,
             "#e6f5d0"
            ],
            [
             0.7,
             "#b8e186"
            ],
            [
             0.8,
             "#7fbc41"
            ],
            [
             0.9,
             "#4d9221"
            ],
            [
             1,
             "#276419"
            ]
           ],
           "sequential": [
            [
             0,
             "#0d0887"
            ],
            [
             0.1111111111111111,
             "#46039f"
            ],
            [
             0.2222222222222222,
             "#7201a8"
            ],
            [
             0.3333333333333333,
             "#9c179e"
            ],
            [
             0.4444444444444444,
             "#bd3786"
            ],
            [
             0.5555555555555556,
             "#d8576b"
            ],
            [
             0.6666666666666666,
             "#ed7953"
            ],
            [
             0.7777777777777778,
             "#fb9f3a"
            ],
            [
             0.8888888888888888,
             "#fdca26"
            ],
            [
             1,
             "#f0f921"
            ]
           ],
           "sequentialminus": [
            [
             0,
             "#0d0887"
            ],
            [
             0.1111111111111111,
             "#46039f"
            ],
            [
             0.2222222222222222,
             "#7201a8"
            ],
            [
             0.3333333333333333,
             "#9c179e"
            ],
            [
             0.4444444444444444,
             "#bd3786"
            ],
            [
             0.5555555555555556,
             "#d8576b"
            ],
            [
             0.6666666666666666,
             "#ed7953"
            ],
            [
             0.7777777777777778,
             "#fb9f3a"
            ],
            [
             0.8888888888888888,
             "#fdca26"
            ],
            [
             1,
             "#f0f921"
            ]
           ]
          },
          "colorway": [
           "#636efa",
           "#EF553B",
           "#00cc96",
           "#ab63fa",
           "#FFA15A",
           "#19d3f3",
           "#FF6692",
           "#B6E880",
           "#FF97FF",
           "#FECB52"
          ],
          "font": {
           "color": "#2a3f5f"
          },
          "geo": {
           "bgcolor": "white",
           "lakecolor": "white",
           "landcolor": "#E5ECF6",
           "showlakes": true,
           "showland": true,
           "subunitcolor": "white"
          },
          "hoverlabel": {
           "align": "left"
          },
          "hovermode": "closest",
          "mapbox": {
           "style": "light"
          },
          "paper_bgcolor": "white",
          "plot_bgcolor": "#E5ECF6",
          "polar": {
           "angularaxis": {
            "gridcolor": "white",
            "linecolor": "white",
            "ticks": ""
           },
           "bgcolor": "#E5ECF6",
           "radialaxis": {
            "gridcolor": "white",
            "linecolor": "white",
            "ticks": ""
           }
          },
          "scene": {
           "xaxis": {
            "backgroundcolor": "#E5ECF6",
            "gridcolor": "white",
            "gridwidth": 2,
            "linecolor": "white",
            "showbackground": true,
            "ticks": "",
            "zerolinecolor": "white"
           },
           "yaxis": {
            "backgroundcolor": "#E5ECF6",
            "gridcolor": "white",
            "gridwidth": 2,
            "linecolor": "white",
            "showbackground": true,
            "ticks": "",
            "zerolinecolor": "white"
           },
           "zaxis": {
            "backgroundcolor": "#E5ECF6",
            "gridcolor": "white",
            "gridwidth": 2,
            "linecolor": "white",
            "showbackground": true,
            "ticks": "",
            "zerolinecolor": "white"
           }
          },
          "shapedefaults": {
           "line": {
            "color": "#2a3f5f"
           }
          },
          "ternary": {
           "aaxis": {
            "gridcolor": "white",
            "linecolor": "white",
            "ticks": ""
           },
           "baxis": {
            "gridcolor": "white",
            "linecolor": "white",
            "ticks": ""
           },
           "bgcolor": "#E5ECF6",
           "caxis": {
            "gridcolor": "white",
            "linecolor": "white",
            "ticks": ""
           }
          },
          "title": {
           "x": 0.05
          },
          "xaxis": {
           "automargin": true,
           "gridcolor": "white",
           "linecolor": "white",
           "ticks": "",
           "title": {
            "standoff": 15
           },
           "zerolinecolor": "white",
           "zerolinewidth": 2
          },
          "yaxis": {
           "automargin": true,
           "gridcolor": "white",
           "linecolor": "white",
           "ticks": "",
           "title": {
            "standoff": 15
           },
           "zerolinecolor": "white",
           "zerolinewidth": 2
          }
         }
        },
        "title": {
         "text": "Top 100 Term Log Frequencies (Sorted by Log Frequency)"
        },
        "xaxis": {
         "anchor": "y",
         "domain": [
          0,
          1
         ],
         "tickangle": -90,
         "title": {
          "text": "Terms"
         }
        },
        "yaxis": {
         "anchor": "x",
         "domain": [
          0,
          1
         ],
         "title": {
          "text": "Log Frequencies"
         }
        }
       }
      }
     },
     "metadata": {},
     "output_type": "display_data"
    }
   ],
   "source": [
    "# Answer here\n",
    "import numpy as np\n",
    "import plotly.express as px\n",
    "import pandas as pd\n",
    "\n",
    "# Step 1: Calculate the total frequency of each term\n",
    "term_frequencies = np.asarray(X_counts_youtube.sum(axis=0)).flatten()\n",
    "\n",
    "# Step 2: Take the logarithm of term frequencies to avoid log(0) issues\n",
    "term_frequencies_log = np.log1p(term_frequencies)  # log(1+x) is used to avoid log(0)\n",
    "\n",
    "# Step 3: Sort the terms by frequency\n",
    "sorted_indices = np.argsort(term_frequencies_log)[::-1]  # Sort the frequencies in descending order\n",
    "sorted_frequencies_log = term_frequencies_log[sorted_indices]\n",
    "sorted_terms = count_vect.get_feature_names_out()[sorted_indices]\n",
    "\n",
    "# Step 4: Select the top 100 terms for visualization (sorted by log frequency)\n",
    "top_n = 100\n",
    "df_log = pd.DataFrame({\n",
    "    \"Terms\": sorted_terms[:top_n],\n",
    "    \"Log Frequencies\": sorted_frequencies_log[:top_n]\n",
    "})\n",
    "\n",
    "# Step 5: Use Plotly to create a bar chart of the top 100 term log frequencies\n",
    "fig_log = px.bar(df_log, x='Terms', y='Log Frequencies', title=\"Top 100 Term Log Frequencies (Sorted by Log Frequency)\", labels={'Terms': 'Terms', 'Log Frequencies': 'Log Frequencies'})\n",
    "\n",
    "# Step 6: Rotate x-axis labels to avoid crowding\n",
    "fig_log.update_layout(xaxis_tickangle=-90)\n",
    "\n",
    "# Step 7: \n",
    "fig_log.show()\n",
    "\n",
    "\n",
    "# Logarithmic distribution of term frequencies vs. original term frequencies\n",
    "# Original woed frequencies distrubution shows the actual woed frequencies in the text data. \n",
    "# Words that appear more frequently occupy the left side of the graph, while words with low frequencies are almost unnoticeable in the picture.\n",
    "# Logarithmic distribution of term frequencies shows the logarithmic transformation of the original term frequencies. \n",
    "# The logarithmic transformation makes the distribution more evenly distributed, making it easier to observe the differences in term frequencies."
   ]
  },
  {
   "cell_type": "markdown",
   "metadata": {},
   "source": [
    "###  Finding frequent patterns\n",
    "Perfect, so now that we know how to interpret a document-term matrix from our text data, we will see how to get extra insight from it, we will do this by mining frequent patterns. For this we will be using the PAMI library that we previously installed."
   ]
  },
  {
   "cell_type": "code",
   "execution_count": null,
   "metadata": {},
   "outputs": [],
   "source": []
  }
 ],
 "metadata": {
  "kernelspec": {
   "display_name": "DM",
   "language": "python",
   "name": "python3"
  },
  "language_info": {
   "codemirror_mode": {
    "name": "ipython",
    "version": 3
   },
   "file_extension": ".py",
   "mimetype": "text/x-python",
   "name": "python",
   "nbconvert_exporter": "python",
   "pygments_lexer": "ipython3",
   "version": "3.9.6"
  }
 },
 "nbformat": 4,
 "nbformat_minor": 2
}
