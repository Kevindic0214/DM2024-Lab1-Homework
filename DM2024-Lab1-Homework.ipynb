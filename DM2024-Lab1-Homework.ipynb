{
 "cells": [
  {
   "cell_type": "markdown",
   "metadata": {},
   "source": [
    "### Student Information\n",
    "Name: Hung-Ting Hsieh (謝弘廷)\n",
    "\n",
    "Student ID: 110704054\n",
    "\n",
    "GitHub ID: Kevindic0214"
   ]
  },
  {
   "cell_type": "markdown",
   "metadata": {},
   "source": [
    "---"
   ]
  },
  {
   "cell_type": "markdown",
   "metadata": {},
   "source": [
    "### Instructions"
   ]
  },
  {
   "cell_type": "markdown",
   "metadata": {},
   "source": [
    "1. First: do the **take home** exercises in the [DM2024-Lab1-Master](https://github.com/didiersalazar/DM2024-Lab1-Master.git). You may need to copy some cells from the Lab notebook to this notebook. __This part is worth 20% of your grade.__\n",
    "\n",
    "\n",
    "2. Second: follow the same process from the [DM2024-Lab1-Master](https://github.com/didiersalazar/DM2024-Lab1-Master.git) on **the new dataset**. You don't need to explain all details as we did (some **minimal comments** explaining your code are useful though).  __This part is worth 30% of your grade.__\n",
    "    - Download the [the new dataset](https://huggingface.co/datasets/Senem/Nostalgic_Sentiment_Analysis_of_YouTube_Comments_Data). The dataset contains a `sentiment` and `comment` columns, with the sentiment labels being: 'nostalgia' and 'not nostalgia'. Read the specificiations of the dataset for background details. \n",
    "    - You are allowed to use and modify the `helper` functions in the folder of the first lab session (notice they may need modification) or create your own.\n",
    "\n",
    "\n",
    "3. Third: please attempt the following tasks on **the new dataset**. __This part is worth 30% of your grade.__\n",
    "    - Generate meaningful **new data visualizations**. Refer to online resources and the Data Mining textbook for inspiration and ideas. \n",
    "    - Generate **TF-IDF features** from the tokens of each text. This will generating a document matrix, however, the weights will be computed differently (using the TF-IDF value of each word per document as opposed to the word frequency). Refer to this Scikit-learn [guide](http://scikit-learn.org/stable/modules/generated/sklearn.feature_extraction.text.TfidfVectorizer.html) .\n",
    "    - Implement a simple **Naive Bayes classifier** that automatically classifies the records into their categories. Use both the TF-IDF features and word frequency features to build two seperate classifiers. Note that for the TF-IDF features you might need to use other type of NB classifier different than the one in the Master Notebook. Comment on the differences.  Refer to this [article](https://hub.packtpub.com/implementing-3-naive-bayes-classifiers-in-scikit-learn/).\n",
    "\n",
    "\n",
    "4. Fourth: In the lab, we applied each step really quickly just to illustrate how to work with your dataset. There are somethings that are not ideal or the most efficient/meaningful. Each dataset can be handled differently as well. What are those inefficent parts you noticed? How can you improve the Data preprocessing for these specific datasets? __This part is worth 10% of your grade.__\n",
    "\n",
    "\n",
    "5. Fifth: It's hard for us to follow if your code is messy, so please **tidy up your notebook** and **add minimal comments where needed**. __This part is worth 10% of your grade.__\n",
    "\n",
    "\n",
    "You can submit your homework following these guidelines: [Git Intro & How to hand your homework](https://github.com/didiersalazar/DM2024-Lab1-Master/blob/main/Git%20Intro%20%26%20How%20to%20hand%20your%20homework.ipynb). Make sure to commit and save your changes to your repository __BEFORE the deadline (October 27th 11:59 pm, Sunday)__. "
   ]
  },
  {
   "cell_type": "code",
   "execution_count": 1,
   "metadata": {},
   "outputs": [],
   "source": [
    "### Begin Assignment Here"
   ]
  },
  {
   "cell_type": "markdown",
   "metadata": {},
   "source": [
    "### First Section: Exercise from the Lab-1-Master"
   ]
  },
  {
   "cell_type": "code",
   "execution_count": null,
   "metadata": {},
   "outputs": [],
   "source": [
    "# Exercise 2 (Take Home)\n",
    "\n",
    "# Answer here\n",
    "# 過濾出屬於 'sci.med' 類別的記錄\n",
    "sci_med_data = X.loc[X['category_name'] == 'sci.med']\n",
    "\n",
    "print(sci_med_data)"
   ]
  },
  {
   "cell_type": "code",
   "execution_count": null,
   "metadata": {},
   "outputs": [],
   "source": [
    "# Exercise 5 (Take Home)\n",
    "\n",
    "# Answer here\n",
    "# .isnull() only recognizes np.nan, None, or specific missing data types but does not catch strings like 'NaN', 'None', or an empty string. \n",
    "# This is why it only flagged some entries as True."
   ]
  },
  {
   "cell_type": "markdown",
   "metadata": {},
   "source": [
    "Exercise 6 (Take Home)\n",
    "\n",
    "Answer here <br>\n",
    "The Changes are the index is not in order anymore, and the data is a random sample of 1000 records from the original dataset, \n",
    "which means that the length of the dataset is less than origianl one."
   ]
  },
  {
   "cell_type": "code",
   "execution_count": null,
   "metadata": {},
   "outputs": [],
   "source": [
    "# Exercise 8 (Take Home)\n",
    "\n",
    "# Answer here\n",
    "# 計算每個數據集中 'category_name' 的分佈\n",
    "category_counts_X = X['category_name'].value_counts()\n",
    "category_counts_X_sample = X_sample['category_name'].value_counts()\n",
    "\n",
    "# 將兩個數據集的 category_name 分佈對齊\n",
    "categories = category_counts_X.index.union(category_counts_X_sample.index)\n",
    "category_counts_X = category_counts_X.reindex(categories, fill_value=0)\n",
    "category_counts_X_sample = category_counts_X_sample.reindex(categories, fill_value=0)\n",
    "\n",
    "import matplotlib.pyplot as plt\n",
    "import numpy as np\n",
    "\n",
    "# 設置條形的位置\n",
    "bar_width = 0.15  # 每個條形的寬度\n",
    "index = np.arange(len(categories))  # X 軸的類別位置\n",
    "\n",
    "# 創建條形圖\n",
    "plt.bar(index, category_counts_X, bar_width, label='X')  # 原數據集的條形\n",
    "plt.bar(index + bar_width, category_counts_X_sample, bar_width, label='X_sample')  # 抽樣數據集的條形\n",
    "\n",
    "# 添加標題和標籤\n",
    "plt.title('Category distribution')\n",
    "plt.xlabel('Category')\n",
    "plt.ylabel('Count')\n",
    "plt.xticks(index + bar_width / 2, categories)  # 設置 X 軸刻度和旋轉角度\n",
    "plt.legend()\n",
    "\n",
    "# 顯示圖表\n",
    "plt.tight_layout()\n",
    "plt.show()"
   ]
  },
  {
   "cell_type": "code",
   "execution_count": null,
   "metadata": {},
   "outputs": [],
   "source": [
    "# Exercise 10 (Take Home)\n",
    "\n",
    "# Answer here\n",
    "from sklearn.feature_extraction.text import CountVectorizer\n",
    "\n",
    "# Assume count_vect and X_counts have already been initialized\n",
    "# Step 1: Retrieve the term frequency vector of the fifth record\n",
    "fifth_record = X_counts[4]\n",
    "\n",
    "# Step 2: Find the positions of all non-zero elements (which represent the words that appear in this record)\n",
    "non_zero_indices = fifth_record.nonzero()[1]\n",
    "\n",
    "# Step 3: Retrieve the position of the second word that appears (the second '1' in the matrix)\n",
    "second_index = non_zero_indices[1]\n",
    "\n",
    "# Step 4: Retrieve the vocabulary and find the word corresponding to the second index\n",
    "feature_names = count_vect.get_feature_names_out()\n",
    "second_word = feature_names[second_index]\n",
    "\n",
    "# Display the result\n",
    "print(\"The second word in the fifth record is:\", second_word)"
   ]
  },
  {
   "cell_type": "code",
   "execution_count": null,
   "metadata": {},
   "outputs": [],
   "source": [
    "# Exercise 11 (Take Home)\n",
    "\n",
    "# Answer here\n",
    "# 取樣100篇文章和100個詞\n",
    "plot_z = X_counts[0:100, 0:100].toarray()\n",
    "\n",
    "# 繪製更大的熱圖\n",
    "import seaborn as sns\n",
    "import matplotlib.pyplot as plt\n",
    "import pandas as pd\n",
    "\n",
    "# 建立 DataFrame\n",
    "plot_x = [\"term_\"+str(i) for i in count_vect.get_feature_names_out()[0:100]]\n",
    "plot_y = [\"doc_\"+ str(i) for i in list(X.index)[0:100]]\n",
    "df_todraw = pd.DataFrame(plot_z, columns=plot_x, index=plot_y)\n",
    "\n",
    "# 繪圖\n",
    "plt.subplots(figsize=(12, 10))\n",
    "ax = sns.heatmap(df_todraw,\n",
    "                 cmap=\"PuRd\",\n",
    "                 vmin=0, vmax=1, annot=False)  # 不顯示數字以減少擁擠\n",
    "plt.show()"
   ]
  },
  {
   "cell_type": "code",
   "execution_count": null,
   "metadata": {},
   "outputs": [],
   "source": [
    "# Cont.\n",
    "\n",
    "# 計算每個詞的總出現次數\n",
    "term_frequencies = X_counts.sum(axis=0).A1  # A1 是將矩陣轉為一維數組\n",
    "top_term_indices = term_frequencies.argsort()[-100:]  # 選擇出現頻率最高的100個詞\n",
    "\n",
    "# 繪製這些詞與100篇文章的熱圖\n",
    "plot_z = X_counts[0:100, top_term_indices].toarray()\n",
    "\n",
    "# 更新 X 軸詞彙標籤\n",
    "plot_x = [\"term_\"+str(i) for i in top_term_indices]\n",
    "\n",
    "# 繪圖\n",
    "df_todraw = pd.DataFrame(plot_z, columns=plot_x, index=plot_y)\n",
    "plt.subplots(figsize=(12, 10))\n",
    "ax = sns.heatmap(df_todraw,\n",
    "                 cmap=\"PuRd\",\n",
    "                 vmin=0, vmax=1, annot=False)\n",
    "plt.show()"
   ]
  },
  {
   "cell_type": "code",
   "execution_count": null,
   "metadata": {},
   "outputs": [],
   "source": [
    "# Exercise 12 (Take Home)\n",
    "\n",
    "# Answer here\n",
    "import plotly.express as px\n",
    "import pandas as pd\n",
    "\n",
    "# 將詞頻數據轉換為 DataFrame 以便繪圖\n",
    "df = pd.DataFrame({\n",
    "    \"Terms\": count_vect.get_feature_names_out()[:300],  # 前 300 個詞彙\n",
    "    \"Frequencies\": term_frequencies[:300]              # 對應的詞頻\n",
    "})\n",
    "\n",
    "# 使用 Plotly 繪製柱狀圖\n",
    "fig = px.bar(df, x='Terms', y='Frequencies', title=\"Term Frequencies\", labels={'Terms': 'Terms', 'Frequencies': 'Frequencies'})\n",
    "\n",
    "# 更新 X 軸標籤旋轉角度，以避免擁擠\n",
    "fig.update_layout(xaxis_tickangle=-90)\n",
    "\n",
    "# 顯示圖表\n",
    "fig.show()"
   ]
  },
  {
   "cell_type": "code",
   "execution_count": null,
   "metadata": {},
   "outputs": [],
   "source": [
    "# Exercise 13 (Take Home)\n",
    "\n",
    "# Answer here\n",
    "import numpy as np\n",
    "import plotly.express as px\n",
    "import pandas as pd\n",
    "\n",
    "# Step 1: 計算每個詞的總頻率\n",
    "term_frequencies = np.asarray(X_counts.sum(axis=0)).flatten()\n",
    "\n",
    "# Step 2: 選擇前 50 個頻率最高的詞\n",
    "top_n = 50\n",
    "top_term_indices = term_frequencies.argsort()[-top_n:]  # 找到頻率最高的詞的索引\n",
    "\n",
    "# Step 3: 創建 DataFrame，將這些詞的詞彙與其對應的頻率對應起來\n",
    "df = pd.DataFrame({\n",
    "    \"Terms\": count_vect.get_feature_names_out()[top_term_indices],  # 高頻詞\n",
    "    \"Frequencies\": term_frequencies[top_term_indices]  # 對應的頻率\n",
    "})\n",
    "\n",
    "# Step 4: 使用 Plotly 繪製交互式圖表\n",
    "fig = px.bar(df, x='Terms', y='Frequencies', title=\"Top 50 Term Frequencies\", labels={'Terms': 'Terms', 'Frequencies': 'Frequencies'})\n",
    "\n",
    "# Step 5: 旋轉 X 軸的標籤，避免擁擠\n",
    "fig.update_layout(xaxis_tickangle=-90)\n",
    "\n",
    "# Step 6: 顯示圖表\n",
    "fig.show()"
   ]
  },
  {
   "cell_type": "code",
   "execution_count": null,
   "metadata": {},
   "outputs": [],
   "source": [
    "# Exercise 14 (Take Home)\n",
    "\n",
    "# Answer here\n",
    "import numpy as np\n",
    "import plotly.express as px\n",
    "import pandas as pd\n",
    "\n",
    "# Step 1: 計算每個詞的總頻率\n",
    "term_frequencies = np.asarray(X_counts.sum(axis=0)).flatten()\n",
    "\n",
    "# Step 2: 將詞彙和它們的頻率排序（降序）\n",
    "sorted_indices = np.argsort(term_frequencies)[::-1]  # 逆序排列詞頻，從高到低\n",
    "sorted_frequencies = term_frequencies[sorted_indices]  # 按照排序後的索引獲取詞頻\n",
    "sorted_terms = count_vect.get_feature_names_out()[sorted_indices]  # 按照排序後的索引獲取詞彙\n",
    "\n",
    "# Step 3: 選擇前 100 個詞進行可視化（根據詞頻排序）\n",
    "top_n = 100\n",
    "df = pd.DataFrame({\n",
    "    \"Terms\": sorted_terms[:top_n],  # 頻率最高的前 100 個詞\n",
    "    \"Frequencies\": sorted_frequencies[:top_n]  # 對應的詞頻\n",
    "})\n",
    "\n",
    "# Step 4: 使用 Plotly 繪製詞頻分佈圖\n",
    "fig = px.bar(df, x='Terms', y='Frequencies', title=\"Top 100 Term Frequencies (Sorted by Frequency)\", labels={'Terms': 'Terms', 'Frequencies': 'Frequencies'})\n",
    "\n",
    "# Step 5: 更新 X 軸標籤角度以避免擁擠\n",
    "fig.update_layout(xaxis_tickangle=-90)\n",
    "\n",
    "# Step 6: 顯示圖表\n",
    "fig.show()"
   ]
  },
  {
   "cell_type": "code",
   "execution_count": null,
   "metadata": {},
   "outputs": [],
   "source": [
    "# Exerxise 15 (Take Home)\n",
    "\n",
    "# Answer here\n",
    "import numpy as np\n",
    "import plotly.express as px\n",
    "import pandas as pd\n",
    "\n",
    "# Step 1: 計算每個詞的總頻率\n",
    "term_frequencies = np.asarray(X_counts.sum(axis=0)).flatten()\n",
    "\n",
    "# Step 2: 將詞頻取對數，防止 log(0) 的問題，用 log(1 + term_frequency)\n",
    "term_frequencies_log = np.log1p(term_frequencies)  # log(1+x) 是為了避免 log(0)\n",
    "\n",
    "# Step 3: 按照詞頻排序\n",
    "sorted_indices = np.argsort(term_frequencies_log)[::-1]  # 逆序排列詞頻\n",
    "sorted_frequencies_log = term_frequencies_log[sorted_indices]\n",
    "sorted_terms = count_vect.get_feature_names_out()[sorted_indices]\n",
    "\n",
    "# Step 4: 選擇前 100 個詞進行可視化（根據對數詞頻排序）\n",
    "top_n = 100\n",
    "df_log = pd.DataFrame({\n",
    "    \"Terms\": sorted_terms[:top_n],  # 前 100 個詞\n",
    "    \"Log Frequencies\": sorted_frequencies_log[:top_n]  # 對應的對數詞頻\n",
    "})\n",
    "\n",
    "# Step 5: 使用 Plotly 繪製對數詞頻分佈圖\n",
    "fig_log = px.bar(df_log, x='Terms', y='Log Frequencies', title=\"Top 100 Term Log Frequencies (Sorted by Log Frequency)\", labels={'Terms': 'Terms', 'Log Frequencies': 'Log Frequencies'})\n",
    "\n",
    "# Step 6: 更新 X 軸標籤角度以避免擁擠\n",
    "fig_log.update_layout(xaxis_tickangle=-90)\n",
    "\n",
    "# Step 7: 顯示圖表\n",
    "fig_log.show()\n",
    "\n",
    "\n",
    "# Logarithmic distribution of term frequencies vs. original term frequencies\n",
    "# Original woed frequencies distrubution shows the actual woed frequencies in the text data. \n",
    "# Words that appear more frequently occupy the left side of the graph, while words with low frequencies are almost unnoticeable in the picture.\n",
    "# Logarithmic distribution of term frequencies shows the logarithmic transformation of the original term frequencies. \n",
    "# The logarithmic transformation makes the distribution more evenly distributed, making it easier to observe the differences in term frequencies."
   ]
  },
  {
   "cell_type": "code",
   "execution_count": null,
   "metadata": {},
   "outputs": [],
   "source": [
    "# Exercise 16 (Take Home)\n",
    "\n",
    "# Answer here\n",
    "def filter_top_bottom_words(term_document_df, top_percent=0.05, bottom_percent=0.01):\n",
    "    word_counts = term_document_df.sum(axis=0).to_numpy()  # 計算每個詞的總頻次\n",
    "    sorted_indices = np.argsort(word_counts)  # 獲取升序排列的索引\n",
    "    sorted_counts = word_counts[sorted_indices]  # 根據頻次排序\n",
    "    \n",
    "    total_terms = len(sorted_counts)  # 詞彙的總數\n",
    "    \n",
    "    # 計算最高 5% 和最低 1% 詞彙的索引\n",
    "    top_5_percent_index = int(top_percent * total_terms)\n",
    "    bottom_1_percent_index = int(bottom_percent * total_terms)\n",
    "    \n",
    "    # 獲取最高 5% 和最低 1% 的索引\n",
    "    top_5_percent_indices = sorted_indices[-top_5_percent_index:]  # 最後的 top 5% 詞\n",
    "    bottom_1_percent_indices = sorted_indices[:bottom_1_percent_index]  # 最前的 bottom 1% 詞\n",
    "    \n",
    "    # 過濾掉這些詞的索引\n",
    "    filtered_indices = np.concatenate([top_5_percent_indices, bottom_1_percent_indices])\n",
    "    \n",
    "    # 使用 CountVectorizer 來獲取這些詞\n",
    "    filtered_words = [count_vect.get_feature_names_out()[i] for i in filtered_indices]\n",
    "    \n",
    "    # 將詞彙按照字母順序排序\n",
    "    filtered_words_sorted = sorted(filtered_words)\n",
    "    \n",
    "    return filtered_words_sorted  # 返回按字母順序排列的被過濾詞彙\n",
    "\n",
    "for category in categories:\n",
    "    print(f\"\\nCategory: {category}\")\n",
    "    \n",
    "    # 獲取篩選掉的詞（最高 5% 和最低 1%）\n",
    "    filtered_words = filter_top_bottom_words(term_document_dfs[category])\n",
    "    \n",
    "    # 顯示被過濾掉的詞彙總數和具體詞彙（已排序）\n",
    "    print(f\"Number of filtered words: {len(filtered_words)}\")\n",
    "    print(f\"Filtered words (alphabetically sorted): {filtered_words}\")"
   ]
  },
  {
   "cell_type": "markdown",
   "metadata": {},
   "source": [
    "**Answer for Exercise 16** <br>\n",
    "觀察資料可以發現，被過濾掉的數據幾乎都是數字以及帶有底線的文字，以及一些常用的文字和類似亂碼的文字。"
   ]
  },
  {
   "cell_type": "code",
   "execution_count": null,
   "metadata": {},
   "outputs": [],
   "source": [
    "# Exercise 17 (Take Home)\n",
    "\n",
    "from PAMI.frequentPattern.topk import FAE as alg\n",
    "import pandas as pd\n",
    "\n",
    "# 設定輸入參數\n",
    "inputFile = 'td_freq_db_comp_graphics.csv'  # 交易數據庫的文件路徑\n",
    "separator = ','  # 設定分隔符號（根據檔案格式）\n",
    "klist = [500, 1000, 1500]  # 不同的 k 值\n",
    "\n",
    "# 初始化一個數據框來存儲FAE的結果\n",
    "result = pd.DataFrame(columns=['algorithm', 'k', 'patterns', 'runtime', 'memory'])\n",
    "\n",
    "# 迴圈不同的 k 值執行算法\n",
    "for kCount in klist:\n",
    "    obj = alg.FAE(inputFile, k=kCount, sep=separator)\n",
    "    obj.mine()  # 控掘頻繁模式\n",
    "    # 將結果存儲到數據框中\n",
    "    result.loc[result.shape[0]] = ['FAE', kCount, len(obj.getPatterns()), obj.getRuntime(), obj.getMemoryRSS()]\n",
    "\n",
    "# 打印結果\n",
    "print(\"TopK frequent patterns were successfully generated using FAE algorithm.\")\n",
    "print(result)"
   ]
  },
  {
   "cell_type": "code",
   "execution_count": null,
   "metadata": {},
   "outputs": [],
   "source": [
    "# Exercise 18 (Take Home)\n",
    "\n",
    "# Answer here\n",
    "from mpl_toolkits.mplot3d import Axes3D\n",
    "import matplotlib.pyplot as plt\n",
    "from sklearn.decomposition import PCA\n",
    "from sklearn.manifold import TSNE\n",
    "import umap\n",
    "\n",
    "# Apply PCA, t-SNE, and UMAP with n_components=3\n",
    "X_pca_tdm = PCA(n_components=3).fit_transform(tdm_df.values)\n",
    "X_tsne_tdm = TSNE(n_components=3).fit_transform(tdm_df.values)\n",
    "X_umap_tdm = umap.UMAP(n_components=3).fit_transform(tdm_df.values)\n",
    "\n",
    "# Define the category labels for coloring the scatter plots\n",
    "categories = X['category_name'].unique()\n",
    "\n",
    "# Create a function for 3D plotting\n",
    "def plot_3d_scatter(ax, X_reduced, title, elev, azim):\n",
    "    for c, category in enumerate(categories):\n",
    "        xs = X_reduced[X['category_name'] == category, 0]\n",
    "        ys = X_reduced[X['category_name'] == category, 1]\n",
    "        zs = X_reduced[X['category_name'] == category, 2]\n",
    "        ax.scatter(xs, ys, zs, label=category)\n",
    "\n",
    "    ax.view_init(elev=elev, azim=azim)  # Set camera position\n",
    "    ax.set_title(title)\n",
    "    ax.set_xlabel('X')\n",
    "    ax.set_ylabel('Y')\n",
    "    ax.set_zlabel('Z')\n",
    "    ax.legend()\n",
    "\n",
    "# Plot results with different angles\n",
    "fig = plt.figure(figsize=(18, 6))\n",
    "\n",
    "# PCA\n",
    "ax = fig.add_subplot(131, projection='3d')\n",
    "plot_3d_scatter(ax, X_pca_tdm, 'PCA', elev=20, azim=60)\n",
    "\n",
    "# t-SNE\n",
    "ax = fig.add_subplot(132, projection='3d')\n",
    "plot_3d_scatter(ax, X_tsne_tdm, 't-SNE', elev=30, azim=120)\n",
    "\n",
    "# UMAP\n",
    "ax = fig.add_subplot(133, projection='3d')\n",
    "plot_3d_scatter(ax, X_umap_tdm, 'UMAP', elev=45, azim=180)\n",
    "\n",
    "plt.suptitle('3D Comparison of PCA, t-SNE, and UMAP')\n",
    "plt.show()"
   ]
  },
  {
   "cell_type": "code",
   "execution_count": null,
   "metadata": {},
   "outputs": [],
   "source": [
    "# Exercise 19 (Take Home)\n",
    "\n",
    "# Answer here\n",
    "from sklearn import preprocessing\n",
    "\n",
    "# 初始化 LabelBinarizer\n",
    "mlb = preprocessing.LabelBinarizer()\n",
    "\n",
    "# 對 category_name 欄位進行訓練\n",
    "mlb.fit(X['category_name'])\n",
    "\n",
    "# 將 category_name 欄位進行二進位化，並儲存在 bin_category_name 欄位\n",
    "X['bin_category_name'] = mlb.transform(X['category_name']).tolist()\n",
    "\n",
    "# 檢查結果\n",
    "X[0:9]"
   ]
  },
  {
   "cell_type": "markdown",
   "metadata": {},
   "source": [
    "### Second Section: Emplement the new dataset"
   ]
  },
  {
   "cell_type": "markdown",
   "metadata": {},
   "source": [
    "## 1. Data Preparation"
   ]
  },
  {
   "cell_type": "code",
   "execution_count": 5,
   "metadata": {},
   "outputs": [
    {
     "data": {
      "application/vnd.jupyter.widget-view+json": {
       "model_id": "001295b6a34043e7a5c5a3016935cb67",
       "version_major": 2,
       "version_minor": 0
      },
      "text/plain": [
       "README.md:   0%|          | 0.00/978 [00:00<?, ?B/s]"
      ]
     },
     "metadata": {},
     "output_type": "display_data"
    },
    {
     "name": "stderr",
     "output_type": "stream",
     "text": [
      "c:\\Users\\user\\anaconda3\\envs\\DM\\lib\\site-packages\\huggingface_hub\\file_download.py:139: UserWarning: `huggingface_hub` cache-system uses symlinks by default to efficiently store duplicated files but your machine does not support them in C:\\Users\\user\\.cache\\huggingface\\hub\\datasets--Senem--Nostalgic_Sentiment_Analysis_of_YouTube_Comments_Data. Caching files will still work but in a degraded version that might require more space on your disk. This warning can be disabled by setting the `HF_HUB_DISABLE_SYMLINKS_WARNING` environment variable. For more details, see https://huggingface.co/docs/huggingface_hub/how-to-cache#limitations.\n",
      "To support symlinks on Windows, you either need to activate Developer Mode or to run Python as an administrator. In order to activate developer mode, see this article: https://docs.microsoft.com/en-us/windows/apps/get-started/enable-your-device-for-development\n",
      "  warnings.warn(message)\n"
     ]
    },
    {
     "data": {
      "application/vnd.jupyter.widget-view+json": {
       "model_id": "e4a6436654a2406687750e0123c1ffca",
       "version_major": 2,
       "version_minor": 0
      },
      "text/plain": [
       "(…)nt_Analysis_of_YouTube_Comments_Data.csv:   0%|          | 0.00/219k [00:00<?, ?B/s]"
      ]
     },
     "metadata": {},
     "output_type": "display_data"
    },
    {
     "data": {
      "application/vnd.jupyter.widget-view+json": {
       "model_id": "eedd1450ba7e4e119076021bfe12abf3",
       "version_major": 2,
       "version_minor": 0
      },
      "text/plain": [
       "Generating train split:   0%|          | 0/1500 [00:00<?, ? examples/s]"
      ]
     },
     "metadata": {},
     "output_type": "display_data"
    }
   ],
   "source": [
    "from datasets import load_dataset\n",
    "\n",
    "# Load the YouTube sentiment analysis dataset\n",
    "ds = load_dataset(\"Senem/Nostalgic_Sentiment_Analysis_of_YouTube_Comments_Data\")"
   ]
  },
  {
   "cell_type": "code",
   "execution_count": 73,
   "metadata": {},
   "outputs": [
    {
     "data": {
      "text/plain": [
       "{'sentiment': Value(dtype='string', id=None),\n",
       " 'comment': Value(dtype='string', id=None),\n",
       " 'target': Value(dtype='int64', id=None)}"
      ]
     },
     "execution_count": 73,
     "metadata": {},
     "output_type": "execute_result"
    }
   ],
   "source": [
    "ds['train'].features"
   ]
  },
  {
   "cell_type": "code",
   "execution_count": 74,
   "metadata": {},
   "outputs": [
    {
     "name": "stdout",
     "output_type": "stream",
     "text": [
      "{'sentiment': 'not nostalgia', 'comment': 'He was a singer with a golden voice that I love to hear all the time. I was his great fan at the age of 16years in those days and still now. Although we have many singers now, but, I can vouch for Jim Reeves all the time. You feel relaxed, emotional and loving. Thank you Lord for his life.', 'target': 0}\n"
     ]
    }
   ],
   "source": [
    "# Display the first record in the training set to ensure data is loaded correctly\n",
    "print(ds['train'][0])"
   ]
  },
  {
   "cell_type": "code",
   "execution_count": 11,
   "metadata": {},
   "outputs": [
    {
     "name": "stdout",
     "output_type": "stream",
     "text": [
      "{'not nostalgia', 'nostalgia'}\n"
     ]
    }
   ],
   "source": [
    "# Check the unique sentiment labels 'nostalgia' and 'not nostalgia'\n",
    "print(set(ds['train']['sentiment']))"
   ]
  },
  {
   "cell_type": "code",
   "execution_count": 75,
   "metadata": {},
   "outputs": [
    {
     "name": "stdout",
     "output_type": "stream",
     "text": [
      "Total number of rows in the training set: 1500\n"
     ]
    }
   ],
   "source": [
    "# Check the total number of rows in the training set\n",
    "print(f\"Total number of rows in the training set: {len(ds['train'])}\")"
   ]
  },
  {
   "cell_type": "code",
   "execution_count": 76,
   "metadata": {},
   "outputs": [
    {
     "name": "stdout",
     "output_type": "stream",
     "text": [
      "Columns in the dataset: ['sentiment', 'comment', 'target']\n"
     ]
    }
   ],
   "source": [
    "# Check the column names in the dataset\n",
    "print(f\"Columns in the dataset: {ds['train'].column_names}\")"
   ]
  },
  {
   "cell_type": "code",
   "execution_count": 14,
   "metadata": {},
   "outputs": [
    {
     "name": "stdout",
     "output_type": "stream",
     "text": [
      "He was a singer with a golden voice that I love to hear all the time. I was his great fan at the age of 16years in those days and still now. Although we have many singers now, but, I can vouch for Jim Reeves all the time. You feel relaxed, emotional and loving. Thank you Lord for his life.\n",
      "not nostalgia\n"
     ]
    }
   ],
   "source": [
    "# Display the first comment and its corresponding sentiment label\n",
    "print(ds['train']['comment'][0])  # Display the first comment\n",
    "print(ds['train']['sentiment'][0])  # Display the corresponding sentiment label"
   ]
  },
  {
   "cell_type": "code",
   "execution_count": 77,
   "metadata": {},
   "outputs": [
    {
     "name": "stdout",
     "output_type": "stream",
     "text": [
      "sentiment\n",
      "not nostalgia    750\n",
      "nostalgia        750\n",
      "Name: count, dtype: int64\n"
     ]
    }
   ],
   "source": [
    "# Get the distribution of sentiment labels\n",
    "sentiment_distribution = ds['train'].to_pandas()['sentiment'].value_counts()\n",
    "print(sentiment_distribution)"
   ]
  },
  {
   "cell_type": "markdown",
   "metadata": {},
   "source": [
    "## 3. Data Transformation"
   ]
  },
  {
   "cell_type": "markdown",
   "metadata": {},
   "source": [
    "### 3.1 Converting Dictionary into Pandas Dataframe"
   ]
  },
  {
   "cell_type": "code",
   "execution_count": 78,
   "metadata": {},
   "outputs": [
    {
     "name": "stdout",
     "output_type": "stream",
     "text": [
      "                                             comment      sentiment\n",
      "0  He was a singer with a golden voice that I lov...  not nostalgia\n",
      "1  The mist beautiful voice ever I listened to hi...      nostalgia\n",
      "2  I have most of Mr. Reeves songs.  Always love ...      nostalgia\n",
      "3  30 day leave from 1st tour in Viet Nam to conv...  not nostalgia\n",
      "4  listening to his songs reminds me of my mum wh...      nostalgia\n"
     ]
    }
   ],
   "source": [
    "import pandas as pd\n",
    "\n",
    "# Convert the dataset from dictionary format to pandas DataFrame\n",
    "df_youtube = pd.DataFrame({\n",
    "    'comment': ds['train']['comment'],  # Extract the comments\n",
    "    'sentiment': ds['train']['sentiment']  # Extract the sentiment labels\n",
    "})\n",
    "\n",
    "# Display the first few rows of the DataFrame to ensure the conversion is successful\n",
    "print(df_youtube.head())"
   ]
  },
  {
   "cell_type": "code",
   "execution_count": 79,
   "metadata": {},
   "outputs": [
    {
     "name": "stdout",
     "output_type": "stream",
     "text": [
      "<class 'pandas.core.frame.DataFrame'>\n",
      "RangeIndex: 1500 entries, 0 to 1499\n",
      "Data columns (total 2 columns):\n",
      " #   Column     Non-Null Count  Dtype \n",
      "---  ------     --------------  ----- \n",
      " 0   comment    1500 non-null   object\n",
      " 1   sentiment  1500 non-null   object\n",
      "dtypes: object(2)\n",
      "memory usage: 23.6+ KB\n",
      "None\n",
      "sentiment\n",
      "not nostalgia    750\n",
      "nostalgia        750\n",
      "Name: count, dtype: int64\n"
     ]
    }
   ],
   "source": [
    "# Display the structure of the DataFrame\n",
    "print(df_youtube.info())\n",
    "\n",
    "# Check the distribution of sentiment labels again to ensure data is correct\n",
    "print(df_youtube['sentiment'].value_counts())"
   ]
  },
  {
   "cell_type": "code",
   "execution_count": 80,
   "metadata": {},
   "outputs": [
    {
     "name": "stdout",
     "output_type": "stream",
     "text": [
      "                                             comment      sentiment  \\\n",
      "0  He was a singer with a golden voice that I lov...  not nostalgia   \n",
      "1  The mist beautiful voice ever I listened to hi...      nostalgia   \n",
      "2  I have most of Mr. Reeves songs.  Always love ...      nostalgia   \n",
      "3  30 day leave from 1st tour in Viet Nam to conv...  not nostalgia   \n",
      "4  listening to his songs reminds me of my mum wh...      nostalgia   \n",
      "5  Every time I heard this song as a child, I use...      nostalgia   \n",
      "6  My dad loved listening to Jim Reeves, when I w...      nostalgia   \n",
      "7  i HAVE ALSO LISTENED TO Jim Reeves since child...      nostalgia   \n",
      "8           Wherever you  are you always in my heart  not nostalgia   \n",
      "9  Elvis will always be number one no one can com...  not nostalgia   \n",
      "\n",
      "   sentiment_numeric  \n",
      "0                  0  \n",
      "1                  1  \n",
      "2                  1  \n",
      "3                  0  \n",
      "4                  1  \n",
      "5                  1  \n",
      "6                  1  \n",
      "7                  1  \n",
      "8                  0  \n",
      "9                  0  \n"
     ]
    }
   ],
   "source": [
    "# Add sentiment column to the DataFrame (this will be the numerical label)\n",
    "df_youtube['sentiment_numeric'] = df_youtube['sentiment'].apply(lambda x: 1 if x == 'nostalgia' else 0)\n",
    "\n",
    "# Display the first 10 rows to check the result\n",
    "print(df_youtube.head(10))"
   ]
  },
  {
   "cell_type": "code",
   "execution_count": 81,
   "metadata": {},
   "outputs": [
    {
     "name": "stdout",
     "output_type": "stream",
     "text": [
      "                                             comment      sentiment  \\\n",
      "0  He was a singer with a golden voice that I lov...  not nostalgia   \n",
      "1  The mist beautiful voice ever I listened to hi...      nostalgia   \n",
      "2  I have most of Mr. Reeves songs.  Always love ...      nostalgia   \n",
      "3  30 day leave from 1st tour in Viet Nam to conv...  not nostalgia   \n",
      "4  listening to his songs reminds me of my mum wh...      nostalgia   \n",
      "5  Every time I heard this song as a child, I use...      nostalgia   \n",
      "6  My dad loved listening to Jim Reeves, when I w...      nostalgia   \n",
      "7  i HAVE ALSO LISTENED TO Jim Reeves since child...      nostalgia   \n",
      "8           Wherever you  are you always in my heart  not nostalgia   \n",
      "9  Elvis will always be number one no one can com...  not nostalgia   \n",
      "\n",
      "   sentiment_numeric sentiment_label  \n",
      "0                  0   not nostalgia  \n",
      "1                  1       nostalgia  \n",
      "2                  1       nostalgia  \n",
      "3                  0   not nostalgia  \n",
      "4                  1       nostalgia  \n",
      "5                  1       nostalgia  \n",
      "6                  1       nostalgia  \n",
      "7                  1       nostalgia  \n",
      "8                  0   not nostalgia  \n",
      "9                  0   not nostalgia  \n"
     ]
    }
   ],
   "source": [
    "def format_labels(target, docs):\n",
    "    \"\"\" Format the numerical labels to textual labels \"\"\"\n",
    "    return 'nostalgia' if target == 1 else 'not nostalgia'\n",
    "\n",
    "# Apply the format_labels function to add a formatted label column\n",
    "df_youtube['sentiment_label'] = df_youtube['sentiment_numeric'].apply(lambda t: format_labels(t, df_youtube))\n",
    "\n",
    "# Display the first 10 rows to see the final DataFrame\n",
    "print(df_youtube.head(10))"
   ]
  },
  {
   "cell_type": "code",
   "execution_count": 82,
   "metadata": {},
   "outputs": [
    {
     "name": "stdout",
     "output_type": "stream",
     "text": [
      "                                             comment  sentiment_numeric  \\\n",
      "0  He was a singer with a golden voice that I lov...                  0   \n",
      "1  The mist beautiful voice ever I listened to hi...                  1   \n",
      "2  I have most of Mr. Reeves songs.  Always love ...                  1   \n",
      "3  30 day leave from 1st tour in Viet Nam to conv...                  0   \n",
      "4  listening to his songs reminds me of my mum wh...                  1   \n",
      "5  Every time I heard this song as a child, I use...                  1   \n",
      "6  My dad loved listening to Jim Reeves, when I w...                  1   \n",
      "7  i HAVE ALSO LISTENED TO Jim Reeves since child...                  1   \n",
      "8           Wherever you  are you always in my heart                  0   \n",
      "9  Elvis will always be number one no one can com...                  0   \n",
      "\n",
      "  sentiment_label  \n",
      "0   not nostalgia  \n",
      "1       nostalgia  \n",
      "2       nostalgia  \n",
      "3   not nostalgia  \n",
      "4       nostalgia  \n",
      "5       nostalgia  \n",
      "6       nostalgia  \n",
      "7       nostalgia  \n",
      "8   not nostalgia  \n",
      "9   not nostalgia  \n"
     ]
    }
   ],
   "source": [
    "# Drop the original 'sentiment' column\n",
    "df_youtube = df_youtube.drop(columns=['sentiment'])\n",
    "\n",
    "# Display the updated DataFrame to ensure the column is removed\n",
    "print(df_youtube.head(10))"
   ]
  },
  {
   "cell_type": "code",
   "execution_count": 84,
   "metadata": {},
   "outputs": [
    {
     "data": {
      "text/html": [
       "<div>\n",
       "<style scoped>\n",
       "    .dataframe tbody tr th:only-of-type {\n",
       "        vertical-align: middle;\n",
       "    }\n",
       "\n",
       "    .dataframe tbody tr th {\n",
       "        vertical-align: top;\n",
       "    }\n",
       "\n",
       "    .dataframe thead th {\n",
       "        text-align: right;\n",
       "    }\n",
       "</style>\n",
       "<table border=\"1\" class=\"dataframe\">\n",
       "  <thead>\n",
       "    <tr style=\"text-align: right;\">\n",
       "      <th></th>\n",
       "      <th>comment</th>\n",
       "      <th>sentiment_label</th>\n",
       "    </tr>\n",
       "  </thead>\n",
       "  <tbody>\n",
       "    <tr>\n",
       "      <th>0</th>\n",
       "      <td>He was a singer with a golden voice that I lov...</td>\n",
       "      <td>not nostalgia</td>\n",
       "    </tr>\n",
       "    <tr>\n",
       "      <th>1</th>\n",
       "      <td>The mist beautiful voice ever I listened to hi...</td>\n",
       "      <td>nostalgia</td>\n",
       "    </tr>\n",
       "    <tr>\n",
       "      <th>2</th>\n",
       "      <td>I have most of Mr. Reeves songs.  Always love ...</td>\n",
       "      <td>nostalgia</td>\n",
       "    </tr>\n",
       "    <tr>\n",
       "      <th>3</th>\n",
       "      <td>30 day leave from 1st tour in Viet Nam to conv...</td>\n",
       "      <td>not nostalgia</td>\n",
       "    </tr>\n",
       "    <tr>\n",
       "      <th>4</th>\n",
       "      <td>listening to his songs reminds me of my mum wh...</td>\n",
       "      <td>nostalgia</td>\n",
       "    </tr>\n",
       "    <tr>\n",
       "      <th>5</th>\n",
       "      <td>Every time I heard this song as a child, I use...</td>\n",
       "      <td>nostalgia</td>\n",
       "    </tr>\n",
       "    <tr>\n",
       "      <th>6</th>\n",
       "      <td>My dad loved listening to Jim Reeves, when I w...</td>\n",
       "      <td>nostalgia</td>\n",
       "    </tr>\n",
       "    <tr>\n",
       "      <th>7</th>\n",
       "      <td>i HAVE ALSO LISTENED TO Jim Reeves since child...</td>\n",
       "      <td>nostalgia</td>\n",
       "    </tr>\n",
       "    <tr>\n",
       "      <th>8</th>\n",
       "      <td>Wherever you  are you always in my heart</td>\n",
       "      <td>not nostalgia</td>\n",
       "    </tr>\n",
       "    <tr>\n",
       "      <th>9</th>\n",
       "      <td>Elvis will always be number one no one can com...</td>\n",
       "      <td>not nostalgia</td>\n",
       "    </tr>\n",
       "  </tbody>\n",
       "</table>\n",
       "</div>"
      ],
      "text/plain": [
       "                                             comment sentiment_label\n",
       "0  He was a singer with a golden voice that I lov...   not nostalgia\n",
       "1  The mist beautiful voice ever I listened to hi...       nostalgia\n",
       "2  I have most of Mr. Reeves songs.  Always love ...       nostalgia\n",
       "3  30 day leave from 1st tour in Viet Nam to conv...   not nostalgia\n",
       "4  listening to his songs reminds me of my mum wh...       nostalgia\n",
       "5  Every time I heard this song as a child, I use...       nostalgia\n",
       "6  My dad loved listening to Jim Reeves, when I w...       nostalgia\n",
       "7  i HAVE ALSO LISTENED TO Jim Reeves since child...       nostalgia\n",
       "8           Wherever you  are you always in my heart   not nostalgia\n",
       "9  Elvis will always be number one no one can com...   not nostalgia"
      ]
     },
     "execution_count": 84,
     "metadata": {},
     "output_type": "execute_result"
    }
   ],
   "source": [
    "df_youtube[:10][[\"comment\", \"sentiment_label\"]]"
   ]
  },
  {
   "cell_type": "code",
   "execution_count": 87,
   "metadata": {},
   "outputs": [
    {
     "data": {
      "text/plain": [
       "0     He was a singer with a golden voice that I lov...\n",
       "1     The mist beautiful voice ever I listened to hi...\n",
       "2     I have most of Mr. Reeves songs.  Always love ...\n",
       "3     30 day leave from 1st tour in Viet Nam to conv...\n",
       "4     listening to his songs reminds me of my mum wh...\n",
       "5     Every time I heard this song as a child, I use...\n",
       "6     My dad loved listening to Jim Reeves, when I w...\n",
       "7     i HAVE ALSO LISTENED TO Jim Reeves since child...\n",
       "8              Wherever you  are you always in my heart\n",
       "9     Elvis will always be number one no one can com...\n",
       "10    ill bet if they begin to play this song on the...\n",
       "Name: comment, dtype: object"
      ]
     },
     "execution_count": 87,
     "metadata": {},
     "output_type": "execute_result"
    }
   ],
   "source": [
    "df_youtube.loc[:10, 'comment']"
   ]
  },
  {
   "cell_type": "code",
   "execution_count": 88,
   "metadata": {},
   "outputs": [
    {
     "data": {
      "text/plain": [
       "0    He was a singer with a golden voice that I lov...\n",
       "1    The mist beautiful voice ever I listened to hi...\n",
       "2    I have most of Mr. Reeves songs.  Always love ...\n",
       "3    30 day leave from 1st tour in Viet Nam to conv...\n",
       "4    listening to his songs reminds me of my mum wh...\n",
       "5    Every time I heard this song as a child, I use...\n",
       "6    My dad loved listening to Jim Reeves, when I w...\n",
       "7    i HAVE ALSO LISTENED TO Jim Reeves since child...\n",
       "8             Wherever you  are you always in my heart\n",
       "9    Elvis will always be number one no one can com...\n",
       "Name: comment, dtype: object"
      ]
     },
     "execution_count": 88,
     "metadata": {},
     "output_type": "execute_result"
    }
   ],
   "source": [
    "df_youtube.iloc[:10, 0]"
   ]
  },
  {
   "cell_type": "markdown",
   "metadata": {},
   "source": [
    "## 4. Data Mining using Pandas"
   ]
  },
  {
   "cell_type": "markdown",
   "metadata": {},
   "source": [
    "### 4.1 Missing Values"
   ]
  },
  {
   "cell_type": "code",
   "execution_count": 89,
   "metadata": {},
   "outputs": [
    {
     "name": "stdout",
     "output_type": "stream",
     "text": [
      "comment              0\n",
      "sentiment_numeric    0\n",
      "sentiment_label      0\n",
      "dtype: int64\n"
     ]
    }
   ],
   "source": [
    "# Check for missing values in the DataFrame\n",
    "missing_values = df_youtube.isnull().sum()\n",
    "\n",
    "# Display the missing values for each column\n",
    "print(missing_values)"
   ]
  },
  {
   "cell_type": "code",
   "execution_count": 90,
   "metadata": {},
   "outputs": [
    {
     "data": {
      "text/html": [
       "<div>\n",
       "<style scoped>\n",
       "    .dataframe tbody tr th:only-of-type {\n",
       "        vertical-align: middle;\n",
       "    }\n",
       "\n",
       "    .dataframe tbody tr th {\n",
       "        vertical-align: top;\n",
       "    }\n",
       "\n",
       "    .dataframe thead th {\n",
       "        text-align: right;\n",
       "    }\n",
       "</style>\n",
       "<table border=\"1\" class=\"dataframe\">\n",
       "  <thead>\n",
       "    <tr style=\"text-align: right;\">\n",
       "      <th></th>\n",
       "      <th>comment</th>\n",
       "      <th>sentiment_numeric</th>\n",
       "      <th>sentiment_label</th>\n",
       "    </tr>\n",
       "  </thead>\n",
       "  <tbody>\n",
       "    <tr>\n",
       "      <th>0</th>\n",
       "      <td>The amoung of missing records is:</td>\n",
       "      <td>The amoung of missing records is:</td>\n",
       "      <td>The amoung of missing records is:</td>\n",
       "    </tr>\n",
       "    <tr>\n",
       "      <th>1</th>\n",
       "      <td>0</td>\n",
       "      <td>0</td>\n",
       "      <td>0</td>\n",
       "    </tr>\n",
       "  </tbody>\n",
       "</table>\n",
       "</div>"
      ],
      "text/plain": [
       "                              comment                   sentiment_numeric  \\\n",
       "0  The amoung of missing records is:   The amoung of missing records is:    \n",
       "1                                   0                                   0   \n",
       "\n",
       "                      sentiment_label  \n",
       "0  The amoung of missing records is:   \n",
       "1                                   0  "
      ]
     },
     "execution_count": 90,
     "metadata": {},
     "output_type": "execute_result"
    }
   ],
   "source": [
    "import helpers.data_mining_helpers as dmh\n",
    "df_youtube.isnull().apply(lambda x: dmh.check_missing_values(x))"
   ]
  },
  {
   "cell_type": "code",
   "execution_count": 92,
   "metadata": {},
   "outputs": [
    {
     "data": {
      "text/plain": [
       "0       (The amoung of missing records is: , 0)\n",
       "1       (The amoung of missing records is: , 0)\n",
       "2       (The amoung of missing records is: , 0)\n",
       "3       (The amoung of missing records is: , 0)\n",
       "4       (The amoung of missing records is: , 0)\n",
       "                         ...                   \n",
       "1495    (The amoung of missing records is: , 0)\n",
       "1496    (The amoung of missing records is: , 0)\n",
       "1497    (The amoung of missing records is: , 0)\n",
       "1498    (The amoung of missing records is: , 0)\n",
       "1499    (The amoung of missing records is: , 0)\n",
       "Length: 1500, dtype: object"
      ]
     },
     "execution_count": 92,
     "metadata": {},
     "output_type": "execute_result"
    }
   ],
   "source": [
    "# Exercise 4\n",
    "# Answer here\n",
    "import helpers.data_mining_helpers as dmh\n",
    "df_youtube.isnull().apply(lambda x: dmh.check_missing_values(x), axis=1)"
   ]
  },
  {
   "cell_type": "markdown",
   "metadata": {},
   "source": [
    "### 4.2 Dealing with Duplicate Data"
   ]
  },
  {
   "cell_type": "code",
   "execution_count": 93,
   "metadata": {},
   "outputs": [
    {
     "data": {
      "text/plain": [
       "0       False\n",
       "1       False\n",
       "2       False\n",
       "3       False\n",
       "4       False\n",
       "        ...  \n",
       "1495    False\n",
       "1496    False\n",
       "1497    False\n",
       "1498    False\n",
       "1499    False\n",
       "Length: 1500, dtype: bool"
      ]
     },
     "execution_count": 93,
     "metadata": {},
     "output_type": "execute_result"
    }
   ],
   "source": [
    "df_youtube.duplicated()"
   ]
  },
  {
   "cell_type": "code",
   "execution_count": 94,
   "metadata": {},
   "outputs": [
    {
     "data": {
      "text/plain": [
       "1"
      ]
     },
     "execution_count": 94,
     "metadata": {},
     "output_type": "execute_result"
    }
   ],
   "source": [
    "sum(df_youtube.duplicated())"
   ]
  },
  {
   "cell_type": "code",
   "execution_count": 96,
   "metadata": {},
   "outputs": [
    {
     "data": {
      "text/plain": [
       "1"
      ]
     },
     "execution_count": 96,
     "metadata": {},
     "output_type": "execute_result"
    }
   ],
   "source": [
    "sum(df_youtube.duplicated('comment'))"
   ]
  },
  {
   "cell_type": "code",
   "execution_count": 97,
   "metadata": {},
   "outputs": [
    {
     "name": "stdout",
     "output_type": "stream",
     "text": [
      "                                              comment  sentiment_numeric  \\\n",
      "62  never heard this song before... WOW What an am...                  0   \n",
      "78  never heard this song before... WOW What an am...                  0   \n",
      "\n",
      "   sentiment_label  \n",
      "62   not nostalgia  \n",
      "78   not nostalgia  \n"
     ]
    }
   ],
   "source": [
    "# Find all duplicated rows, including the first occurrence\n",
    "duplicated_all = df_youtube[df_youtube.duplicated(keep=False)]\n",
    "\n",
    "# Display all duplicated rows\n",
    "print(duplicated_all)"
   ]
  },
  {
   "cell_type": "code",
   "execution_count": 98,
   "metadata": {},
   "outputs": [
    {
     "name": "stdout",
     "output_type": "stream",
     "text": [
      "                                                comment  sentiment_numeric  \\\n",
      "0     He was a singer with a golden voice that I lov...                  0   \n",
      "1     The mist beautiful voice ever I listened to hi...                  1   \n",
      "2     I have most of Mr. Reeves songs.  Always love ...                  1   \n",
      "3     30 day leave from 1st tour in Viet Nam to conv...                  0   \n",
      "4     listening to his songs reminds me of my mum wh...                  1   \n",
      "...                                                 ...                ...   \n",
      "1495  i don't know!..but the opening of the video,.....                  0   \n",
      "1496  it's sad this is such a beautiful song when yo...                  0   \n",
      "1497  Dear Friend, I think age and time is not that ...                  0   \n",
      "1498  I was born in 1954 and started to be aware of ...                  1   \n",
      "1499  This is the first CD I bought after my marriag...                  1   \n",
      "\n",
      "     sentiment_label  \n",
      "0      not nostalgia  \n",
      "1          nostalgia  \n",
      "2          nostalgia  \n",
      "3      not nostalgia  \n",
      "4          nostalgia  \n",
      "...              ...  \n",
      "1495   not nostalgia  \n",
      "1496   not nostalgia  \n",
      "1497   not nostalgia  \n",
      "1498       nostalgia  \n",
      "1499       nostalgia  \n",
      "\n",
      "[1499 rows x 3 columns]\n"
     ]
    }
   ],
   "source": [
    "# Remove duplicated rows, keep the first occurrence\n",
    "df_youtube_cleaned = df_youtube.drop_duplicates()\n",
    "\n",
    "# Display the cleaned DataFrame\n",
    "print(df_youtube_cleaned)"
   ]
  },
  {
   "cell_type": "markdown",
   "metadata": {},
   "source": [
    "## 5. Data Preprocessing"
   ]
  },
  {
   "cell_type": "markdown",
   "metadata": {},
   "source": [
    "### 5.1 Sampling"
   ]
  },
  {
   "cell_type": "code",
   "execution_count": 100,
   "metadata": {},
   "outputs": [
    {
     "name": "stdout",
     "output_type": "stream",
     "text": [
      "                                                comment  sentiment_numeric  \\\n",
      "1116  Perception of death, birth, sorrow, suffering,...                  0   \n",
      "1368  One of those Classic (and there were so many o...                  0   \n",
      "422             So many memories in each and every song                  1   \n",
      "413   Was it in 1968 when Engelbert released it?  I ...                  1   \n",
      "451   OMG talk about take a trip down memory lane ho...                  1   \n",
      "\n",
      "     sentiment_label  \n",
      "1116   not nostalgia  \n",
      "1368   not nostalgia  \n",
      "422        nostalgia  \n",
      "413        nostalgia  \n",
      "451        nostalgia  \n"
     ]
    }
   ],
   "source": [
    "# Randomly sample 1000 rows\n",
    "sampled_youtube = df_youtube.sample(n=1000, random_state=42)\n",
    "\n",
    "# Display the sampled data\n",
    "print(sampled_youtube.head())"
   ]
  },
  {
   "cell_type": "code",
   "execution_count": 101,
   "metadata": {},
   "outputs": [
    {
     "data": {
      "text/html": [
       "<div>\n",
       "<style scoped>\n",
       "    .dataframe tbody tr th:only-of-type {\n",
       "        vertical-align: middle;\n",
       "    }\n",
       "\n",
       "    .dataframe tbody tr th {\n",
       "        vertical-align: top;\n",
       "    }\n",
       "\n",
       "    .dataframe thead th {\n",
       "        text-align: right;\n",
       "    }\n",
       "</style>\n",
       "<table border=\"1\" class=\"dataframe\">\n",
       "  <thead>\n",
       "    <tr style=\"text-align: right;\">\n",
       "      <th></th>\n",
       "      <th>comment</th>\n",
       "      <th>sentiment_numeric</th>\n",
       "      <th>sentiment_label</th>\n",
       "    </tr>\n",
       "  </thead>\n",
       "  <tbody>\n",
       "    <tr>\n",
       "      <th>1116</th>\n",
       "      <td>Perception of death, birth, sorrow, suffering,...</td>\n",
       "      <td>0</td>\n",
       "      <td>not nostalgia</td>\n",
       "    </tr>\n",
       "    <tr>\n",
       "      <th>1368</th>\n",
       "      <td>One of those Classic (and there were so many o...</td>\n",
       "      <td>0</td>\n",
       "      <td>not nostalgia</td>\n",
       "    </tr>\n",
       "    <tr>\n",
       "      <th>422</th>\n",
       "      <td>So many memories in each and every song</td>\n",
       "      <td>1</td>\n",
       "      <td>nostalgia</td>\n",
       "    </tr>\n",
       "    <tr>\n",
       "      <th>413</th>\n",
       "      <td>Was it in 1968 when Engelbert released it?  I ...</td>\n",
       "      <td>1</td>\n",
       "      <td>nostalgia</td>\n",
       "    </tr>\n",
       "  </tbody>\n",
       "</table>\n",
       "</div>"
      ],
      "text/plain": [
       "                                                comment  sentiment_numeric  \\\n",
       "1116  Perception of death, birth, sorrow, suffering,...                  0   \n",
       "1368  One of those Classic (and there were so many o...                  0   \n",
       "422             So many memories in each and every song                  1   \n",
       "413   Was it in 1968 when Engelbert released it?  I ...                  1   \n",
       "\n",
       "     sentiment_label  \n",
       "1116   not nostalgia  \n",
       "1368   not nostalgia  \n",
       "422        nostalgia  \n",
       "413        nostalgia  "
      ]
     },
     "execution_count": 101,
     "metadata": {},
     "output_type": "execute_result"
    }
   ],
   "source": [
    "sampled_youtube[:4]"
   ]
  },
  {
   "cell_type": "code",
   "execution_count": 109,
   "metadata": {},
   "outputs": [
    {
     "name": "stdout",
     "output_type": "stream",
     "text": [
      "sentiment_label\n",
      "not nostalgia    750\n",
      "nostalgia        750\n",
      "Name: count, dtype: int64\n"
     ]
    },
    {
     "data": {
      "image/png": "[encoded data removed]",
      "text/plain": [
       "<Figure size 800x300 with 1 Axes>"
      ]
     },
     "metadata": {},
     "output_type": "display_data"
    }
   ],
   "source": [
    "import matplotlib.pyplot as plt\n",
    "\n",
    "# Count the occurrence of each sentiment label\n",
    "sentiment_counts = df_youtube['sentiment_label'].value_counts()\n",
    "print(sentiment_counts)\n",
    "\n",
    "# Plot barchart for sentiment counts\n",
    "sentiment_counts.plot(kind='bar', \n",
    "                      title='Sentiment Distribution', \n",
    "                      ylim=[0, 700], \n",
    "                      rot=0, fontsize=11, figsize=(8, 3))\n",
    "\n",
    "# Show the plot\n",
    "plt.show()"
   ]
  },
  {
   "cell_type": "code",
   "execution_count": 110,
   "metadata": {},
   "outputs": [
    {
     "name": "stdout",
     "output_type": "stream",
     "text": [
      "sentiment_label\n",
      "nostalgia        507\n",
      "not nostalgia    493\n",
      "Name: count, dtype: int64\n"
     ]
    },
    {
     "data": {
      "image/png": "[encoded data removed]",
      "text/plain": [
       "<Figure size 800x300 with 1 Axes>"
      ]
     },
     "metadata": {},
     "output_type": "display_data"
    }
   ],
   "source": [
    "import matplotlib.pyplot as plt\n",
    "\n",
    "# Count the occurrence of each sentiment label\n",
    "sentiment_counts = sampled_youtube['sentiment_label'].value_counts()\n",
    "print(sentiment_counts)\n",
    "\n",
    "# Plot barchart for sentiment counts\n",
    "sentiment_counts.plot(kind='bar', \n",
    "                      title='Sentiment Distribution', \n",
    "                      ylim=[0, 700], \n",
    "                      rot=0, fontsize=11, figsize=(8, 3))\n",
    "\n",
    "# Show the plot\n",
    "plt.show()"
   ]
  },
  {
   "cell_type": "markdown",
   "metadata": {},
   "source": [
    "### >>> **Exercise 8 (take home):** "
   ]
  },
  {
   "cell_type": "code",
   "execution_count": 115,
   "metadata": {},
   "outputs": [],
   "source": [
    "# Calculate the sentiment distribution for the full dataset\n",
    "sentiment_counts_full = df_youtube['sentiment_label'].value_counts()\n",
    "\n",
    "# Calculate the sentiment distribution for the sampled dataset\n",
    "sentiment_counts_sampled = sampled_youtube['sentiment_label'].value_counts()"
   ]
  },
  {
   "cell_type": "code",
   "execution_count": 113,
   "metadata": {},
   "outputs": [
    {
     "name": "stdout",
     "output_type": "stream",
     "text": [
      "                 Full Dataset  Sampled Dataset\n",
      "sentiment_label                               \n",
      "nostalgia                 750              507\n",
      "not nostalgia             750              493\n"
     ]
    }
   ],
   "source": [
    "import pandas as pd\n",
    "\n",
    "# Create a DataFrame that contains both distributions\n",
    "comparison_df = pd.DataFrame({\n",
    "    'Full Dataset': sentiment_counts_full,\n",
    "    'Sampled Dataset': sentiment_counts_sampled\n",
    "})\n",
    "\n",
    "# Fill missing values with 0 (in case some labels are missing in the sampled dataset)\n",
    "comparison_df = comparison_df.fillna(0)\n",
    "\n",
    "# Display the comparison DataFrame (optional, to check the structure)\n",
    "print(comparison_df)"
   ]
  },
  {
   "cell_type": "code",
   "execution_count": 114,
   "metadata": {},
   "outputs": [
    {
     "data": {
      "image/png": "[encoded data removed]",
      "text/plain": [
       "<Figure size 800x400 with 1 Axes>"
      ]
     },
     "metadata": {},
     "output_type": "display_data"
    }
   ],
   "source": [
    "import matplotlib.pyplot as plt\n",
    "\n",
    "# Plot side-by-side bar chart\n",
    "comparison_df.plot(kind='bar', \n",
    "                   title='Comparison of Sentiment Distribution',\n",
    "                   ylim=[0, 700], \n",
    "                   rot=0, fontsize=11, figsize=(8, 4))\n",
    "\n",
    "# Show the plot\n",
    "plt.show()"
   ]
  },
  {
   "cell_type": "code",
   "execution_count": 116,
   "metadata": {},
   "outputs": [
    {
     "name": "stderr",
     "output_type": "stream",
     "text": [
      "[nltk_data] Downloading package punkt to\n",
      "[nltk_data]     C:\\Users\\user\\AppData\\Roaming\\nltk_data...\n",
      "[nltk_data]   Package punkt is already up-to-date!\n"
     ]
    },
    {
     "data": {
      "text/plain": [
       "True"
      ]
     },
     "execution_count": 116,
     "metadata": {},
     "output_type": "execute_result"
    }
   ],
   "source": [
    "import nltk\n",
    "nltk.download('punkt')  # Download the 'punkt' datasets"
   ]
  },
  {
   "cell_type": "code",
   "execution_count": 123,
   "metadata": {},
   "outputs": [],
   "source": [
    "# Apply the improved tokenize_text function to the text column\n",
    "df_youtube['unigrams'] = df_youtube['comment'].apply(lambda x: dmh.tokenize_text(x))\n"
   ]
  },
  {
   "cell_type": "code",
   "execution_count": 124,
   "metadata": {},
   "outputs": [
    {
     "data": {
      "text/plain": [
       "0    [He, was, a, singer, with, a, golden, voice, t...\n",
       "1    [The, mist, beautiful, voice, ever, I, listene...\n",
       "2    [I, have, most, of, Mr., Reeves, songs, ., Alw...\n",
       "3    [30, day, leave, from, 1st, tour, in, Viet, Na...\n",
       "Name: unigrams, dtype: object"
      ]
     },
     "execution_count": 124,
     "metadata": {},
     "output_type": "execute_result"
    }
   ],
   "source": [
    "# Show the cleaned tokens\n",
    "df_youtube[0:4]['unigrams']"
   ]
  },
  {
   "cell_type": "code",
   "execution_count": 127,
   "metadata": {},
   "outputs": [
    {
     "data": {
      "text/html": [
       "<div>\n",
       "<style scoped>\n",
       "    .dataframe tbody tr th:only-of-type {\n",
       "        vertical-align: middle;\n",
       "    }\n",
       "\n",
       "    .dataframe tbody tr th {\n",
       "        vertical-align: top;\n",
       "    }\n",
       "\n",
       "    .dataframe thead th {\n",
       "        text-align: right;\n",
       "    }\n",
       "</style>\n",
       "<table border=\"1\" class=\"dataframe\">\n",
       "  <thead>\n",
       "    <tr style=\"text-align: right;\">\n",
       "      <th></th>\n",
       "      <th>comment</th>\n",
       "      <th>sentiment_numeric</th>\n",
       "      <th>sentiment_label</th>\n",
       "      <th>unigrams</th>\n",
       "    </tr>\n",
       "  </thead>\n",
       "  <tbody>\n",
       "    <tr>\n",
       "      <th>0</th>\n",
       "      <td>He was a singer with a golden voice that I lov...</td>\n",
       "      <td>0</td>\n",
       "      <td>not nostalgia</td>\n",
       "      <td>[He, was, a, singer, with, a, golden, voice, t...</td>\n",
       "    </tr>\n",
       "    <tr>\n",
       "      <th>1</th>\n",
       "      <td>The mist beautiful voice ever I listened to hi...</td>\n",
       "      <td>1</td>\n",
       "      <td>nostalgia</td>\n",
       "      <td>[The, mist, beautiful, voice, ever, I, listene...</td>\n",
       "    </tr>\n",
       "    <tr>\n",
       "      <th>2</th>\n",
       "      <td>I have most of Mr. Reeves songs.  Always love ...</td>\n",
       "      <td>1</td>\n",
       "      <td>nostalgia</td>\n",
       "      <td>[I, have, most, of, Mr., Reeves, songs, ., Alw...</td>\n",
       "    </tr>\n",
       "    <tr>\n",
       "      <th>3</th>\n",
       "      <td>30 day leave from 1st tour in Viet Nam to conv...</td>\n",
       "      <td>0</td>\n",
       "      <td>not nostalgia</td>\n",
       "      <td>[30, day, leave, from, 1st, tour, in, Viet, Na...</td>\n",
       "    </tr>\n",
       "  </tbody>\n",
       "</table>\n",
       "</div>"
      ],
      "text/plain": [
       "                                             comment  sentiment_numeric  \\\n",
       "0  He was a singer with a golden voice that I lov...                  0   \n",
       "1  The mist beautiful voice ever I listened to hi...                  1   \n",
       "2  I have most of Mr. Reeves songs.  Always love ...                  1   \n",
       "3  30 day leave from 1st tour in Viet Nam to conv...                  0   \n",
       "\n",
       "  sentiment_label                                           unigrams  \n",
       "0   not nostalgia  [He, was, a, singer, with, a, golden, voice, t...  \n",
       "1       nostalgia  [The, mist, beautiful, voice, ever, I, listene...  \n",
       "2       nostalgia  [I, have, most, of, Mr., Reeves, songs, ., Alw...  \n",
       "3   not nostalgia  [30, day, leave, from, 1st, tour, in, Viet, Na...  "
      ]
     },
     "execution_count": 127,
     "metadata": {},
     "output_type": "execute_result"
    }
   ],
   "source": [
    "df_youtube[0:4]"
   ]
  },
  {
   "cell_type": "code",
   "execution_count": 128,
   "metadata": {},
   "outputs": [
    {
     "data": {
      "text/plain": [
       "[['He',\n",
       "  'was',\n",
       "  'a',\n",
       "  'singer',\n",
       "  'with',\n",
       "  'a',\n",
       "  'golden',\n",
       "  'voice',\n",
       "  'that',\n",
       "  'I',\n",
       "  'love',\n",
       "  'to',\n",
       "  'hear',\n",
       "  'all',\n",
       "  'the',\n",
       "  'time',\n",
       "  '.',\n",
       "  'I',\n",
       "  'was',\n",
       "  'his',\n",
       "  'great',\n",
       "  'fan',\n",
       "  'at',\n",
       "  'the',\n",
       "  'age',\n",
       "  'of',\n",
       "  '16years',\n",
       "  'in',\n",
       "  'those',\n",
       "  'days',\n",
       "  'and',\n",
       "  'still',\n",
       "  'now',\n",
       "  '.',\n",
       "  'Although',\n",
       "  'we',\n",
       "  'have',\n",
       "  'many',\n",
       "  'singers',\n",
       "  'now',\n",
       "  ',',\n",
       "  'but',\n",
       "  ',',\n",
       "  'I',\n",
       "  'can',\n",
       "  'vouch',\n",
       "  'for',\n",
       "  'Jim',\n",
       "  'Reeves',\n",
       "  'all',\n",
       "  'the',\n",
       "  'time',\n",
       "  '.',\n",
       "  'You',\n",
       "  'feel',\n",
       "  'relaxed',\n",
       "  ',',\n",
       "  'emotional',\n",
       "  'and',\n",
       "  'loving',\n",
       "  '.',\n",
       "  'Thank',\n",
       "  'you',\n",
       "  'Lord',\n",
       "  'for',\n",
       "  'his',\n",
       "  'life',\n",
       "  '.']]"
      ]
     },
     "execution_count": 128,
     "metadata": {},
     "output_type": "execute_result"
    }
   ],
   "source": [
    "list(df_youtube[0:1]['unigrams'])"
   ]
  },
  {
   "cell_type": "markdown",
   "metadata": {},
   "source": [
    "### 5.3 Feature subset selection"
   ]
  },
  {
   "cell_type": "code",
   "execution_count": 129,
   "metadata": {},
   "outputs": [
    {
     "name": "stdout",
     "output_type": "stream",
     "text": [
      "(1500, 3730)\n",
      "['00' '000' '045' '07' '10' '100' '10m' '11' '11th' '12']\n"
     ]
    }
   ],
   "source": [
    "from sklearn.feature_extraction.text import CountVectorizer\n",
    "\n",
    "count_vect = CountVectorizer()\n",
    "X_counts_youtube = count_vect.fit_transform(df_youtube['comment'])\n",
    "\n",
    "print(X_counts_youtube.shape)  # 查看詞頻矩陣的形狀\n",
    "print(count_vect.get_feature_names_out()[:10])  # 查看前10個特徵名稱（即詞語）"
   ]
  },
  {
   "cell_type": "code",
   "execution_count": 130,
   "metadata": {},
   "outputs": [
    {
     "name": "stdout",
     "output_type": "stream",
     "text": [
      "  (np.int32(0), np.int32(1598))\t1\n",
      "  (np.int32(0), np.int32(3570))\t2\n",
      "  (np.int32(0), np.int32(2973))\t1\n",
      "  (np.int32(0), np.int32(3650))\t1\n",
      "  (np.int32(0), np.int32(1470))\t1\n",
      "  (np.int32(0), np.int32(3534))\t1\n",
      "  (np.int32(0), np.int32(3282))\t1\n",
      "  (np.int32(0), np.int32(2028))\t1\n",
      "  (np.int32(0), np.int32(3336))\t1\n",
      "  (np.int32(0), np.int32(1606))\t1\n",
      "  (np.int32(0), np.int32(233))\t2\n",
      "  (np.int32(0), np.int32(3284))\t3\n",
      "  (np.int32(0), np.int32(3328))\t2\n",
      "  (np.int32(0), np.int32(1651))\t2\n",
      "  (np.int32(0), np.int32(1512))\t1\n",
      "  (np.int32(0), np.int32(1249))\t1\n",
      "  (np.int32(0), np.int32(323))\t1\n",
      "  (np.int32(0), np.int32(214))\t1\n",
      "  (np.int32(0), np.int32(2341))\t1\n",
      "  (np.int32(0), np.int32(15))\t1\n",
      "  (np.int32(0), np.int32(1733))\t1\n",
      "  (np.int32(0), np.int32(3304))\t1\n",
      "  (np.int32(0), np.int32(907))\t1\n",
      "  (np.int32(0), np.int32(258))\t2\n",
      "  (np.int32(0), np.int32(3124))\t1\n",
      "  (np.int32(0), np.int32(2328))\t2\n",
      "  (np.int32(0), np.int32(245))\t1\n",
      "  (np.int32(0), np.int32(3581))\t1\n",
      "  (np.int32(0), np.int32(1591))\t1\n",
      "  (np.int32(0), np.int32(2082))\t1\n",
      "  (np.int32(0), np.int32(2974))\t1\n",
      "  (np.int32(0), np.int32(573))\t1\n",
      "  (np.int32(0), np.int32(593))\t1\n",
      "  (np.int32(0), np.int32(3538))\t1\n",
      "  (np.int32(0), np.int32(1347))\t2\n",
      "  (np.int32(0), np.int32(1833))\t1\n",
      "  (np.int32(0), np.int32(2671))\t1\n",
      "  (np.int32(0), np.int32(3713))\t2\n",
      "  (np.int32(0), np.int32(1272))\t1\n",
      "  (np.int32(0), np.int32(2688))\t1\n",
      "  (np.int32(0), np.int32(1125))\t1\n",
      "  (np.int32(0), np.int32(2035))\t1\n",
      "  (np.int32(0), np.int32(3278))\t1\n",
      "  (np.int32(0), np.int32(2018))\t1\n",
      "  (np.int32(0), np.int32(1964))\t1\n"
     ]
    }
   ],
   "source": [
    "print(X_counts_youtube[0])"
   ]
  },
  {
   "cell_type": "code",
   "execution_count": 131,
   "metadata": {},
   "outputs": [
    {
     "data": {
      "text/plain": [
       "'he'"
      ]
     },
     "execution_count": 131,
     "metadata": {},
     "output_type": "execute_result"
    }
   ],
   "source": [
    "count_vect.get_feature_names_out()[1598]"
   ]
  },
  {
   "cell_type": "code",
   "execution_count": 132,
   "metadata": {},
   "outputs": [
    {
     "data": {
      "text/plain": [
       "'the'"
      ]
     },
     "execution_count": 132,
     "metadata": {},
     "output_type": "execute_result"
    }
   ],
   "source": [
    "count_vect.get_feature_names_out()[3284]"
   ]
  },
  {
   "cell_type": "code",
   "execution_count": 133,
   "metadata": {},
   "outputs": [
    {
     "data": {
      "text/plain": [
       "['he',\n",
       " 'was',\n",
       " 'singer',\n",
       " 'with',\n",
       " 'golden',\n",
       " 'voice',\n",
       " 'that',\n",
       " 'love',\n",
       " 'to',\n",
       " 'hear',\n",
       " 'all',\n",
       " 'the',\n",
       " 'time',\n",
       " 'was',\n",
       " 'his',\n",
       " 'great',\n",
       " 'fan',\n",
       " 'at',\n",
       " 'the',\n",
       " 'age',\n",
       " 'of',\n",
       " '16years',\n",
       " 'in',\n",
       " 'those',\n",
       " 'days',\n",
       " 'and',\n",
       " 'still',\n",
       " 'now',\n",
       " 'although',\n",
       " 'we',\n",
       " 'have',\n",
       " 'many',\n",
       " 'singers',\n",
       " 'now',\n",
       " 'but',\n",
       " 'can',\n",
       " 'vouch',\n",
       " 'for',\n",
       " 'jim',\n",
       " 'reeves',\n",
       " 'all',\n",
       " 'the',\n",
       " 'time',\n",
       " 'you',\n",
       " 'feel',\n",
       " 'relaxed',\n",
       " 'emotional',\n",
       " 'and',\n",
       " 'loving',\n",
       " 'thank',\n",
       " 'you',\n",
       " 'lord',\n",
       " 'for',\n",
       " 'his',\n",
       " 'life']"
      ]
     },
     "execution_count": 133,
     "metadata": {},
     "output_type": "execute_result"
    }
   ],
   "source": [
    "analyze = count_vect.build_analyzer()\n",
    "analyze(df_youtube[\"comment\"][0])"
   ]
  },
  {
   "cell_type": "code",
   "execution_count": 135,
   "metadata": {},
   "outputs": [
    {
     "data": {
      "text/plain": [
       "array([[0, 0, 0, 0, 0, 0, 0, 0, 0, 0, 0, 0, 0, 0, 0, 1, 0, 0, 0, 0, 0, 0,\n",
       "        0, 0, 0, 0, 0, 0, 0, 0, 0, 0, 0, 0, 0, 0, 0, 0, 0, 0, 0, 0, 0, 0,\n",
       "        0, 0, 0, 0, 0, 0, 0, 0, 0, 0, 0, 0, 0, 0, 0, 0, 0, 0, 0, 0, 0, 0,\n",
       "        0, 0, 0, 0, 0, 0, 0, 0, 0, 0, 0, 0, 0, 0, 0, 0, 0, 0, 0, 0, 0, 0,\n",
       "        0, 0, 0, 0, 0, 0, 0, 0, 0, 0, 0, 0],\n",
       "       [0, 0, 0, 0, 0, 0, 0, 0, 0, 0, 0, 0, 0, 0, 0, 0, 0, 0, 0, 0, 0, 0,\n",
       "        0, 0, 0, 0, 0, 0, 0, 0, 0, 0, 0, 0, 0, 0, 0, 0, 0, 0, 0, 0, 0, 0,\n",
       "        0, 0, 0, 0, 0, 0, 0, 0, 0, 0, 0, 0, 0, 0, 0, 0, 0, 0, 0, 0, 0, 0,\n",
       "        0, 0, 0, 0, 0, 0, 0, 0, 0, 0, 0, 0, 0, 0, 0, 0, 0, 0, 0, 0, 0, 0,\n",
       "        0, 0, 0, 0, 0, 0, 0, 0, 0, 0, 0, 0],\n",
       "       [0, 0, 0, 0, 0, 0, 0, 0, 0, 0, 0, 0, 0, 0, 0, 0, 1, 0, 0, 0, 0, 0,\n",
       "        0, 0, 0, 0, 0, 0, 0, 0, 0, 0, 0, 0, 0, 0, 0, 0, 0, 0, 0, 0, 0, 0,\n",
       "        0, 0, 0, 0, 0, 0, 0, 0, 0, 0, 0, 0, 0, 0, 0, 0, 0, 0, 0, 0, 0, 0,\n",
       "        0, 0, 0, 0, 0, 0, 0, 0, 0, 0, 0, 0, 0, 0, 0, 0, 0, 0, 0, 0, 0, 0,\n",
       "        0, 0, 0, 0, 0, 0, 0, 0, 0, 0, 0, 0],\n",
       "       [0, 0, 0, 0, 0, 0, 0, 0, 0, 0, 0, 0, 0, 0, 0, 0, 0, 0, 0, 0, 0, 0,\n",
       "        0, 0, 0, 0, 0, 0, 0, 0, 0, 0, 0, 0, 0, 0, 0, 0, 0, 0, 0, 0, 0, 0,\n",
       "        0, 0, 0, 0, 0, 0, 0, 0, 0, 0, 0, 0, 0, 0, 0, 0, 0, 0, 1, 0, 0, 0,\n",
       "        0, 0, 0, 0, 0, 0, 0, 0, 0, 0, 0, 0, 0, 0, 0, 0, 0, 0, 0, 0, 0, 0,\n",
       "        0, 0, 1, 1, 0, 0, 0, 0, 0, 0, 0, 0],\n",
       "       [0, 0, 0, 0, 0, 0, 0, 0, 0, 0, 0, 0, 0, 0, 0, 0, 0, 0, 0, 0, 0, 0,\n",
       "        0, 0, 0, 0, 0, 0, 0, 0, 0, 0, 0, 0, 0, 0, 0, 0, 0, 0, 0, 0, 0, 0,\n",
       "        0, 0, 0, 0, 0, 0, 0, 0, 0, 0, 0, 0, 0, 0, 0, 0, 0, 0, 0, 0, 0, 0,\n",
       "        0, 0, 0, 0, 0, 0, 0, 0, 0, 0, 0, 0, 0, 0, 0, 0, 0, 0, 0, 0, 0, 0,\n",
       "        0, 0, 0, 0, 0, 0, 0, 0, 0, 0, 0, 0]])"
      ]
     },
     "execution_count": 135,
     "metadata": {},
     "output_type": "execute_result"
    }
   ],
   "source": [
    "# we convert from sparse array to normal array\n",
    "X_counts_youtube[0:5, 0:100].toarray()"
   ]
  },
  {
   "cell_type": "code",
   "execution_count": 136,
   "metadata": {},
   "outputs": [
    {
     "data": {
      "text/plain": [
       "array(['00'], dtype=object)"
      ]
     },
     "execution_count": 136,
     "metadata": {},
     "output_type": "execute_result"
    }
   ],
   "source": [
    "count_vect.get_feature_names_out()[0:1]"
   ]
  },
  {
   "cell_type": "code",
   "execution_count": null,
   "metadata": {},
   "outputs": [],
   "source": []
  }
 ],
 "metadata": {
  "kernelspec": {
   "display_name": "DM",
   "language": "python",
   "name": "python3"
  },
  "language_info": {
   "codemirror_mode": {
    "name": "ipython",
    "version": 3
   },
   "file_extension": ".py",
   "mimetype": "text/x-python",
   "name": "python",
   "nbconvert_exporter": "python",
   "pygments_lexer": "ipython3",
   "version": "3.9.6"
  }
 },
 "nbformat": 4,
 "nbformat_minor": 2
}
